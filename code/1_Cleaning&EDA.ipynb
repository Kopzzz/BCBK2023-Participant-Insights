{
 "cells": [
  {
   "attachments": {},
   "cell_type": "markdown",
   "metadata": {},
   "source": [
    "# Importing Libraries"
   ]
  },
  {
   "cell_type": "code",
   "execution_count": 205,
   "metadata": {},
   "outputs": [],
   "source": [
    "import warnings\n",
    "warnings.filterwarnings('ignore')\n",
    "\n",
    "import pandas as pd\n",
    "import numpy as np\n",
    "import matplotlib.pyplot as plt\n",
    "import seaborn as sns"
   ]
  },
  {
   "attachments": {},
   "cell_type": "markdown",
   "metadata": {},
   "source": [
    "# Loading the Data"
   ]
  },
  {
   "cell_type": "code",
   "execution_count": 206,
   "metadata": {},
   "outputs": [],
   "source": [
    "df = pd.read_csv('../datasets/Barcamp Bangkhen 2023 Participant Registration (Responses) - Form Responses 1.csv')"
   ]
  },
  {
   "attachments": {},
   "cell_type": "markdown",
   "metadata": {},
   "source": [
    "# Data Cleaning & EDA "
   ]
  },
  {
   "cell_type": "code",
   "execution_count": 207,
   "metadata": {},
   "outputs": [
    {
     "data": {
      "text/plain": [
       "Index(['Timestamp', 'Email Address', 'ชื่อจริง (Firstname)',\n",
       "       'นามสกุล (Lastname)', 'อาชีพ (Career)',\n",
       "       'องค์กรที่สังกัด (Organization)',\n",
       "       'ประวัติการแพ้อาหาร และอาหารตามความเชื่อหรือศาสนา (Food allergy/religious or ethical preferences)',\n",
       "       'Size เสื้อโดยประมาณ (Approximate  Shirt Size )\\n**เฉพาะผู้ที่ลงทะเบียน 200 คนแรก(จำนวนอาจมีการเปลี่ยนแปลง) จะได้รับเสื้อยืด T-shirt Barcamp Bangkhen 2023\\n**Only the first 200 registrants(The amount may change) will receive a free Barcamp Bangkhen 2023 T-shirt.',\n",
       "       'ความสนใจ (Interests) (comma-serperated)',\n",
       "       'ความยินยอมในการใช้ข้อมูล (Consent for the use of information)'],\n",
       "      dtype='object')"
      ]
     },
     "execution_count": 207,
     "metadata": {},
     "output_type": "execute_result"
    }
   ],
   "source": [
    "df.columns"
   ]
  },
  {
   "cell_type": "code",
   "execution_count": 208,
   "metadata": {},
   "outputs": [],
   "source": [
    "df = df.drop(columns=['Email Address', 'ชื่อจริง (Firstname)', 'นามสกุล (Lastname)'])"
   ]
  },
  {
   "cell_type": "code",
   "execution_count": 209,
   "metadata": {},
   "outputs": [],
   "source": [
    "df.rename(index=str, \n",
    "             columns={  'อาชีพ (Career)': \"career\", 'องค์กรที่สังกัด (Organization)': \"organization\", \n",
    "                        'ประวัติการแพ้อาหาร และอาหารตามความเชื่อหรือศาสนา (Food allergy/religious or ethical preferences)' : \"food\", \n",
    "                        \"Size เสื้อโดยประมาณ (Approximate  Shirt Size )\\n**เฉพาะผู้ที่ลงทะเบียน 200 คนแรก(จำนวนอาจมีการเปลี่ยนแปลง) จะได้รับเสื้อยืด T-shirt Barcamp Bangkhen 2023\\n**Only the first 200 registrants(The amount may change) will receive a free Barcamp Bangkhen 2023 T-shirt.\": \"size\", \n",
    "                        'ความสนใจ (Interests) (comma-serperated)': \"interest\", \n",
    "                        'ความยินยอมในการใช้ข้อมูล (Consent for the use of information)': \"consent\" }, inplace=True)"
   ]
  },
  {
   "cell_type": "code",
   "execution_count": 210,
   "metadata": {},
   "outputs": [
    {
     "data": {
      "text/html": [
       "<div>\n",
       "<style scoped>\n",
       "    .dataframe tbody tr th:only-of-type {\n",
       "        vertical-align: middle;\n",
       "    }\n",
       "\n",
       "    .dataframe tbody tr th {\n",
       "        vertical-align: top;\n",
       "    }\n",
       "\n",
       "    .dataframe thead th {\n",
       "        text-align: right;\n",
       "    }\n",
       "</style>\n",
       "<table border=\"1\" class=\"dataframe\">\n",
       "  <thead>\n",
       "    <tr style=\"text-align: right;\">\n",
       "      <th></th>\n",
       "      <th>Timestamp</th>\n",
       "      <th>career</th>\n",
       "      <th>organization</th>\n",
       "      <th>food</th>\n",
       "      <th>size</th>\n",
       "      <th>interest</th>\n",
       "      <th>consent</th>\n",
       "    </tr>\n",
       "  </thead>\n",
       "  <tbody>\n",
       "    <tr>\n",
       "      <th>0</th>\n",
       "      <td>1/16/2023 19:29:00</td>\n",
       "      <td>เจ้าหน้าที่ของรัฐ</td>\n",
       "      <td>NaN</td>\n",
       "      <td>ไม่แพ้อาหารหรือความต้องการด้านอาหารอื่นๆ (Neit...</td>\n",
       "      <td>XL</td>\n",
       "      <td>Banking, Cloud Computing, Coding, Computer, Ed...</td>\n",
       "      <td>ยินยอม (Consent)</td>\n",
       "    </tr>\n",
       "    <tr>\n",
       "      <th>1</th>\n",
       "      <td>1/16/2023 19:30:03</td>\n",
       "      <td>Software Engineer</td>\n",
       "      <td>Witsawa Corporation</td>\n",
       "      <td>ไม่แพ้อาหารหรือความต้องการด้านอาหารอื่นๆ (Neit...</td>\n",
       "      <td>L</td>\n",
       "      <td>AI, Banking, Big Data, Blockchain, Cloud Compu...</td>\n",
       "      <td>ยินยอม (Consent)</td>\n",
       "    </tr>\n",
       "    <tr>\n",
       "      <th>2</th>\n",
       "      <td>1/16/2023 19:30:55</td>\n",
       "      <td>Developer</td>\n",
       "      <td>-</td>\n",
       "      <td>ไม่แพ้อาหารหรือความต้องการด้านอาหารอื่นๆ (Neit...</td>\n",
       "      <td>XL</td>\n",
       "      <td>AI, Blockchain, Cooking, Cyber Security, Food,...</td>\n",
       "      <td>ยินยอม (Consent)</td>\n",
       "    </tr>\n",
       "    <tr>\n",
       "      <th>3</th>\n",
       "      <td>1/16/2023 19:38:45</td>\n",
       "      <td>นักศึกษาปริญญาโท</td>\n",
       "      <td>จุฬาลงกรณ์มหาวิทยาลัย</td>\n",
       "      <td>ไม่แพ้อาหารหรือความต้องการด้านอาหารอื่นๆ (Neit...</td>\n",
       "      <td>L</td>\n",
       "      <td>AI, Anime, Augmented Reality, Banking, Big Dat...</td>\n",
       "      <td>ยินยอม (Consent)</td>\n",
       "    </tr>\n",
       "    <tr>\n",
       "      <th>4</th>\n",
       "      <td>1/16/2023 19:39:38</td>\n",
       "      <td>-</td>\n",
       "      <td>NaN</td>\n",
       "      <td>ไม่แพ้อาหารหรือความต้องการด้านอาหารอื่นๆ (Neit...</td>\n",
       "      <td>XL</td>\n",
       "      <td>Banking, Cooking</td>\n",
       "      <td>ยินยอม (Consent)</td>\n",
       "    </tr>\n",
       "  </tbody>\n",
       "</table>\n",
       "</div>"
      ],
      "text/plain": [
       "            Timestamp              career           organization  \\\n",
       "0  1/16/2023 19:29:00   เจ้าหน้าที่ของรัฐ                    NaN   \n",
       "1  1/16/2023 19:30:03  Software Engineer     Witsawa Corporation   \n",
       "2  1/16/2023 19:30:55          Developer                       -   \n",
       "3  1/16/2023 19:38:45    นักศึกษาปริญญาโท  จุฬาลงกรณ์มหาวิทยาลัย   \n",
       "4  1/16/2023 19:39:38                   -                    NaN   \n",
       "\n",
       "                                                food size  \\\n",
       "0  ไม่แพ้อาหารหรือความต้องการด้านอาหารอื่นๆ (Neit...   XL   \n",
       "1  ไม่แพ้อาหารหรือความต้องการด้านอาหารอื่นๆ (Neit...    L   \n",
       "2  ไม่แพ้อาหารหรือความต้องการด้านอาหารอื่นๆ (Neit...   XL   \n",
       "3  ไม่แพ้อาหารหรือความต้องการด้านอาหารอื่นๆ (Neit...    L   \n",
       "4  ไม่แพ้อาหารหรือความต้องการด้านอาหารอื่นๆ (Neit...   XL   \n",
       "\n",
       "                                            interest           consent  \n",
       "0  Banking, Cloud Computing, Coding, Computer, Ed...  ยินยอม (Consent)  \n",
       "1  AI, Banking, Big Data, Blockchain, Cloud Compu...  ยินยอม (Consent)  \n",
       "2  AI, Blockchain, Cooking, Cyber Security, Food,...  ยินยอม (Consent)  \n",
       "3  AI, Anime, Augmented Reality, Banking, Big Dat...  ยินยอม (Consent)  \n",
       "4                                   Banking, Cooking  ยินยอม (Consent)  "
      ]
     },
     "execution_count": 210,
     "metadata": {},
     "output_type": "execute_result"
    }
   ],
   "source": [
    "df.head()"
   ]
  },
  {
   "attachments": {},
   "cell_type": "markdown",
   "metadata": {},
   "source": [
    "**Interests**"
   ]
  },
  {
   "cell_type": "code",
   "execution_count": 211,
   "metadata": {},
   "outputs": [
    {
     "data": {
      "text/plain": [
       "0    Banking, Cloud Computing, Coding, Computer, Ed...\n",
       "1    AI, Banking, Big Data, Blockchain, Cloud Compu...\n",
       "2    AI, Blockchain, Cooking, Cyber Security, Food,...\n",
       "3    AI, Anime, Augmented Reality, Banking, Big Dat...\n",
       "4                                     Banking, Cooking\n",
       "Name: interest, dtype: object"
      ]
     },
     "execution_count": 211,
     "metadata": {},
     "output_type": "execute_result"
    }
   ],
   "source": [
    "df['interest'].head()"
   ]
  },
  {
   "cell_type": "code",
   "execution_count": 212,
   "metadata": {},
   "outputs": [
    {
     "data": {
      "text/html": [
       "<div>\n",
       "<style scoped>\n",
       "    .dataframe tbody tr th:only-of-type {\n",
       "        vertical-align: middle;\n",
       "    }\n",
       "\n",
       "    .dataframe tbody tr th {\n",
       "        vertical-align: top;\n",
       "    }\n",
       "\n",
       "    .dataframe thead th {\n",
       "        text-align: right;\n",
       "    }\n",
       "</style>\n",
       "<table border=\"1\" class=\"dataframe\">\n",
       "  <thead>\n",
       "    <tr style=\"text-align: right;\">\n",
       "      <th></th>\n",
       "      <th>-</th>\n",
       "      <th>...</th>\n",
       "      <th>AI</th>\n",
       "      <th>API services</th>\n",
       "      <th>AR</th>\n",
       "      <th>ASMR</th>\n",
       "      <th>Ads Technology</th>\n",
       "      <th>Agile</th>\n",
       "      <th>Andriod</th>\n",
       "      <th>Android</th>\n",
       "      <th>...</th>\n",
       "      <th>เทคโนโลยี</th>\n",
       "      <th>เทคโนโลยี การเงิน การขนส่ง</th>\n",
       "      <th>เทคโนโลยี เศรษฐกิจ การเมือง</th>\n",
       "      <th>เพลง</th>\n",
       "      <th>เรื่องที่ไ่ม่เคยรู้มาก่อน</th>\n",
       "      <th>เรื่องผี</th>\n",
       "      <th>เรื่องผี สังคม ประเทศ</th>\n",
       "      <th>เรื่องเทคโนโลยีอะไรก็ได้</th>\n",
       "      <th>แนะแนวการเรียนต่อ</th>\n",
       "      <th>แน้วโน้มการจ้างงาน</th>\n",
       "    </tr>\n",
       "  </thead>\n",
       "  <tbody>\n",
       "    <tr>\n",
       "      <th>0</th>\n",
       "      <td>0</td>\n",
       "      <td>0</td>\n",
       "      <td>0</td>\n",
       "      <td>0</td>\n",
       "      <td>0</td>\n",
       "      <td>0</td>\n",
       "      <td>0</td>\n",
       "      <td>0</td>\n",
       "      <td>0</td>\n",
       "      <td>0</td>\n",
       "      <td>...</td>\n",
       "      <td>0</td>\n",
       "      <td>0</td>\n",
       "      <td>0</td>\n",
       "      <td>0</td>\n",
       "      <td>0</td>\n",
       "      <td>0</td>\n",
       "      <td>0</td>\n",
       "      <td>0</td>\n",
       "      <td>0</td>\n",
       "      <td>0</td>\n",
       "    </tr>\n",
       "    <tr>\n",
       "      <th>1</th>\n",
       "      <td>0</td>\n",
       "      <td>0</td>\n",
       "      <td>1</td>\n",
       "      <td>0</td>\n",
       "      <td>0</td>\n",
       "      <td>0</td>\n",
       "      <td>0</td>\n",
       "      <td>0</td>\n",
       "      <td>0</td>\n",
       "      <td>0</td>\n",
       "      <td>...</td>\n",
       "      <td>0</td>\n",
       "      <td>0</td>\n",
       "      <td>0</td>\n",
       "      <td>0</td>\n",
       "      <td>0</td>\n",
       "      <td>0</td>\n",
       "      <td>0</td>\n",
       "      <td>0</td>\n",
       "      <td>0</td>\n",
       "      <td>0</td>\n",
       "    </tr>\n",
       "    <tr>\n",
       "      <th>2</th>\n",
       "      <td>0</td>\n",
       "      <td>0</td>\n",
       "      <td>1</td>\n",
       "      <td>0</td>\n",
       "      <td>0</td>\n",
       "      <td>0</td>\n",
       "      <td>0</td>\n",
       "      <td>0</td>\n",
       "      <td>0</td>\n",
       "      <td>0</td>\n",
       "      <td>...</td>\n",
       "      <td>0</td>\n",
       "      <td>0</td>\n",
       "      <td>0</td>\n",
       "      <td>0</td>\n",
       "      <td>0</td>\n",
       "      <td>0</td>\n",
       "      <td>0</td>\n",
       "      <td>0</td>\n",
       "      <td>0</td>\n",
       "      <td>0</td>\n",
       "    </tr>\n",
       "    <tr>\n",
       "      <th>3</th>\n",
       "      <td>0</td>\n",
       "      <td>0</td>\n",
       "      <td>1</td>\n",
       "      <td>0</td>\n",
       "      <td>0</td>\n",
       "      <td>0</td>\n",
       "      <td>0</td>\n",
       "      <td>0</td>\n",
       "      <td>0</td>\n",
       "      <td>0</td>\n",
       "      <td>...</td>\n",
       "      <td>0</td>\n",
       "      <td>0</td>\n",
       "      <td>0</td>\n",
       "      <td>0</td>\n",
       "      <td>0</td>\n",
       "      <td>0</td>\n",
       "      <td>0</td>\n",
       "      <td>0</td>\n",
       "      <td>0</td>\n",
       "      <td>0</td>\n",
       "    </tr>\n",
       "    <tr>\n",
       "      <th>4</th>\n",
       "      <td>0</td>\n",
       "      <td>0</td>\n",
       "      <td>0</td>\n",
       "      <td>0</td>\n",
       "      <td>0</td>\n",
       "      <td>0</td>\n",
       "      <td>0</td>\n",
       "      <td>0</td>\n",
       "      <td>0</td>\n",
       "      <td>0</td>\n",
       "      <td>...</td>\n",
       "      <td>0</td>\n",
       "      <td>0</td>\n",
       "      <td>0</td>\n",
       "      <td>0</td>\n",
       "      <td>0</td>\n",
       "      <td>0</td>\n",
       "      <td>0</td>\n",
       "      <td>0</td>\n",
       "      <td>0</td>\n",
       "      <td>0</td>\n",
       "    </tr>\n",
       "  </tbody>\n",
       "</table>\n",
       "<p>5 rows × 269 columns</p>\n",
       "</div>"
      ],
      "text/plain": [
       "   -  ...  AI  API services  AR  ASMR  Ads Technology  Agile  Andriod  \\\n",
       "0  0    0   0             0   0     0               0      0        0   \n",
       "1  0    0   1             0   0     0               0      0        0   \n",
       "2  0    0   1             0   0     0               0      0        0   \n",
       "3  0    0   1             0   0     0               0      0        0   \n",
       "4  0    0   0             0   0     0               0      0        0   \n",
       "\n",
       "   Android  ...  เทคโนโลยี  เทคโนโลยี การเงิน การขนส่ง  \\\n",
       "0        0  ...          0                           0   \n",
       "1        0  ...          0                           0   \n",
       "2        0  ...          0                           0   \n",
       "3        0  ...          0                           0   \n",
       "4        0  ...          0                           0   \n",
       "\n",
       "   เทคโนโลยี เศรษฐกิจ การเมือง  เพลง  เรื่องที่ไ่ม่เคยรู้มาก่อน  เรื่องผี  \\\n",
       "0                            0     0                          0         0   \n",
       "1                            0     0                          0         0   \n",
       "2                            0     0                          0         0   \n",
       "3                            0     0                          0         0   \n",
       "4                            0     0                          0         0   \n",
       "\n",
       "   เรื่องผี สังคม ประเทศ  เรื่องเทคโนโลยีอะไรก็ได้  แนะแนวการเรียนต่อ  \\\n",
       "0                      0                         0                  0   \n",
       "1                      0                         0                  0   \n",
       "2                      0                         0                  0   \n",
       "3                      0                         0                  0   \n",
       "4                      0                         0                  0   \n",
       "\n",
       "   แน้วโน้มการจ้างงาน  \n",
       "0                   0  \n",
       "1                   0  \n",
       "2                   0  \n",
       "3                   0  \n",
       "4                   0  \n",
       "\n",
       "[5 rows x 269 columns]"
      ]
     },
     "execution_count": 212,
     "metadata": {},
     "output_type": "execute_result"
    }
   ],
   "source": [
    "interest_dummy = df['interest'].copy()\n",
    "interest_dummy = interest_dummy.str.strip()\n",
    "interest_dummy = interest_dummy.str.replace(' ,', ',', regex=True)\n",
    "interest_dummy = interest_dummy.str.replace(', ', ',', regex=True)\n",
    "\n",
    "interest_dummy = pd.concat([interest_dummy.str.get_dummies(sep=\",\")])\n",
    "interest_dummy.head()"
   ]
  },
  {
   "cell_type": "code",
   "execution_count": 213,
   "metadata": {},
   "outputs": [
    {
     "data": {
      "text/html": [
       "<div>\n",
       "<style scoped>\n",
       "    .dataframe tbody tr th:only-of-type {\n",
       "        vertical-align: middle;\n",
       "    }\n",
       "\n",
       "    .dataframe tbody tr th {\n",
       "        vertical-align: top;\n",
       "    }\n",
       "\n",
       "    .dataframe thead th {\n",
       "        text-align: right;\n",
       "    }\n",
       "</style>\n",
       "<table border=\"1\" class=\"dataframe\">\n",
       "  <thead>\n",
       "    <tr style=\"text-align: right;\">\n",
       "      <th></th>\n",
       "      <th>AI</th>\n",
       "      <th>API services</th>\n",
       "      <th>AR</th>\n",
       "      <th>ASMR</th>\n",
       "      <th>Ads Technology</th>\n",
       "      <th>Agile</th>\n",
       "      <th>Andriod</th>\n",
       "      <th>Android</th>\n",
       "      <th>Anime</th>\n",
       "      <th>Apple Inc.</th>\n",
       "      <th>...</th>\n",
       "      <th>เทคโนโลยี</th>\n",
       "      <th>เทคโนโลยี การเงิน การขนส่ง</th>\n",
       "      <th>เทคโนโลยี เศรษฐกิจ การเมือง</th>\n",
       "      <th>เพลง</th>\n",
       "      <th>เรื่องที่ไ่ม่เคยรู้มาก่อน</th>\n",
       "      <th>เรื่องผี</th>\n",
       "      <th>เรื่องผี สังคม ประเทศ</th>\n",
       "      <th>เรื่องเทคโนโลยีอะไรก็ได้</th>\n",
       "      <th>แนะแนวการเรียนต่อ</th>\n",
       "      <th>แน้วโน้มการจ้างงาน</th>\n",
       "    </tr>\n",
       "  </thead>\n",
       "  <tbody>\n",
       "    <tr>\n",
       "      <th>0</th>\n",
       "      <td>0</td>\n",
       "      <td>0</td>\n",
       "      <td>0</td>\n",
       "      <td>0</td>\n",
       "      <td>0</td>\n",
       "      <td>0</td>\n",
       "      <td>0</td>\n",
       "      <td>0</td>\n",
       "      <td>0</td>\n",
       "      <td>0</td>\n",
       "      <td>...</td>\n",
       "      <td>0</td>\n",
       "      <td>0</td>\n",
       "      <td>0</td>\n",
       "      <td>0</td>\n",
       "      <td>0</td>\n",
       "      <td>0</td>\n",
       "      <td>0</td>\n",
       "      <td>0</td>\n",
       "      <td>0</td>\n",
       "      <td>0</td>\n",
       "    </tr>\n",
       "    <tr>\n",
       "      <th>1</th>\n",
       "      <td>1</td>\n",
       "      <td>0</td>\n",
       "      <td>0</td>\n",
       "      <td>0</td>\n",
       "      <td>0</td>\n",
       "      <td>0</td>\n",
       "      <td>0</td>\n",
       "      <td>0</td>\n",
       "      <td>0</td>\n",
       "      <td>0</td>\n",
       "      <td>...</td>\n",
       "      <td>0</td>\n",
       "      <td>0</td>\n",
       "      <td>0</td>\n",
       "      <td>0</td>\n",
       "      <td>0</td>\n",
       "      <td>0</td>\n",
       "      <td>0</td>\n",
       "      <td>0</td>\n",
       "      <td>0</td>\n",
       "      <td>0</td>\n",
       "    </tr>\n",
       "    <tr>\n",
       "      <th>2</th>\n",
       "      <td>1</td>\n",
       "      <td>0</td>\n",
       "      <td>0</td>\n",
       "      <td>0</td>\n",
       "      <td>0</td>\n",
       "      <td>0</td>\n",
       "      <td>0</td>\n",
       "      <td>0</td>\n",
       "      <td>0</td>\n",
       "      <td>0</td>\n",
       "      <td>...</td>\n",
       "      <td>0</td>\n",
       "      <td>0</td>\n",
       "      <td>0</td>\n",
       "      <td>0</td>\n",
       "      <td>0</td>\n",
       "      <td>0</td>\n",
       "      <td>0</td>\n",
       "      <td>0</td>\n",
       "      <td>0</td>\n",
       "      <td>0</td>\n",
       "    </tr>\n",
       "    <tr>\n",
       "      <th>3</th>\n",
       "      <td>1</td>\n",
       "      <td>0</td>\n",
       "      <td>0</td>\n",
       "      <td>0</td>\n",
       "      <td>0</td>\n",
       "      <td>0</td>\n",
       "      <td>0</td>\n",
       "      <td>0</td>\n",
       "      <td>1</td>\n",
       "      <td>0</td>\n",
       "      <td>...</td>\n",
       "      <td>0</td>\n",
       "      <td>0</td>\n",
       "      <td>0</td>\n",
       "      <td>0</td>\n",
       "      <td>0</td>\n",
       "      <td>0</td>\n",
       "      <td>0</td>\n",
       "      <td>0</td>\n",
       "      <td>0</td>\n",
       "      <td>0</td>\n",
       "    </tr>\n",
       "    <tr>\n",
       "      <th>4</th>\n",
       "      <td>0</td>\n",
       "      <td>0</td>\n",
       "      <td>0</td>\n",
       "      <td>0</td>\n",
       "      <td>0</td>\n",
       "      <td>0</td>\n",
       "      <td>0</td>\n",
       "      <td>0</td>\n",
       "      <td>0</td>\n",
       "      <td>0</td>\n",
       "      <td>...</td>\n",
       "      <td>0</td>\n",
       "      <td>0</td>\n",
       "      <td>0</td>\n",
       "      <td>0</td>\n",
       "      <td>0</td>\n",
       "      <td>0</td>\n",
       "      <td>0</td>\n",
       "      <td>0</td>\n",
       "      <td>0</td>\n",
       "      <td>0</td>\n",
       "    </tr>\n",
       "  </tbody>\n",
       "</table>\n",
       "<p>5 rows × 267 columns</p>\n",
       "</div>"
      ],
      "text/plain": [
       "   AI  API services  AR  ASMR  Ads Technology  Agile  Andriod  Android  Anime  \\\n",
       "0   0             0   0     0               0      0        0        0      0   \n",
       "1   1             0   0     0               0      0        0        0      0   \n",
       "2   1             0   0     0               0      0        0        0      0   \n",
       "3   1             0   0     0               0      0        0        0      1   \n",
       "4   0             0   0     0               0      0        0        0      0   \n",
       "\n",
       "   Apple Inc.  ...  เทคโนโลยี  เทคโนโลยี การเงิน การขนส่ง  \\\n",
       "0           0  ...          0                           0   \n",
       "1           0  ...          0                           0   \n",
       "2           0  ...          0                           0   \n",
       "3           0  ...          0                           0   \n",
       "4           0  ...          0                           0   \n",
       "\n",
       "   เทคโนโลยี เศรษฐกิจ การเมือง  เพลง  เรื่องที่ไ่ม่เคยรู้มาก่อน  เรื่องผี  \\\n",
       "0                            0     0                          0         0   \n",
       "1                            0     0                          0         0   \n",
       "2                            0     0                          0         0   \n",
       "3                            0     0                          0         0   \n",
       "4                            0     0                          0         0   \n",
       "\n",
       "   เรื่องผี สังคม ประเทศ  เรื่องเทคโนโลยีอะไรก็ได้  แนะแนวการเรียนต่อ  \\\n",
       "0                      0                         0                  0   \n",
       "1                      0                         0                  0   \n",
       "2                      0                         0                  0   \n",
       "3                      0                         0                  0   \n",
       "4                      0                         0                  0   \n",
       "\n",
       "   แน้วโน้มการจ้างงาน  \n",
       "0                   0  \n",
       "1                   0  \n",
       "2                   0  \n",
       "3                   0  \n",
       "4                   0  \n",
       "\n",
       "[5 rows x 267 columns]"
      ]
     },
     "execution_count": 213,
     "metadata": {},
     "output_type": "execute_result"
    }
   ],
   "source": [
    "interest_dummy = interest_dummy.drop(interest_dummy.columns[[0,1]],axis = 1)\n",
    "interest_dummy.head()"
   ]
  },
  {
   "cell_type": "code",
   "execution_count": 214,
   "metadata": {},
   "outputs": [
    {
     "data": {
      "text/html": [
       "<div>\n",
       "<style scoped>\n",
       "    .dataframe tbody tr th:only-of-type {\n",
       "        vertical-align: middle;\n",
       "    }\n",
       "\n",
       "    .dataframe tbody tr th {\n",
       "        vertical-align: top;\n",
       "    }\n",
       "\n",
       "    .dataframe thead th {\n",
       "        text-align: right;\n",
       "    }\n",
       "</style>\n",
       "<table border=\"1\" class=\"dataframe\">\n",
       "  <thead>\n",
       "    <tr style=\"text-align: right;\">\n",
       "      <th></th>\n",
       "      <th>index</th>\n",
       "      <th>0</th>\n",
       "    </tr>\n",
       "  </thead>\n",
       "  <tbody>\n",
       "    <tr>\n",
       "      <th>0</th>\n",
       "      <td>AI</td>\n",
       "      <td>52</td>\n",
       "    </tr>\n",
       "    <tr>\n",
       "      <th>1</th>\n",
       "      <td>Computer</td>\n",
       "      <td>41</td>\n",
       "    </tr>\n",
       "    <tr>\n",
       "      <th>2</th>\n",
       "      <td>Technology</td>\n",
       "      <td>39</td>\n",
       "    </tr>\n",
       "    <tr>\n",
       "      <th>3</th>\n",
       "      <td>Coding</td>\n",
       "      <td>39</td>\n",
       "    </tr>\n",
       "    <tr>\n",
       "      <th>4</th>\n",
       "      <td>Big Data</td>\n",
       "      <td>32</td>\n",
       "    </tr>\n",
       "    <tr>\n",
       "      <th>...</th>\n",
       "      <td>...</td>\n",
       "      <td>...</td>\n",
       "    </tr>\n",
       "    <tr>\n",
       "      <th>262</th>\n",
       "      <td>Tech</td>\n",
       "      <td>1</td>\n",
       "    </tr>\n",
       "    <tr>\n",
       "      <th>263</th>\n",
       "      <td>Tech Leader</td>\n",
       "      <td>1</td>\n",
       "    </tr>\n",
       "    <tr>\n",
       "      <th>264</th>\n",
       "      <td>Tech Trend</td>\n",
       "      <td>1</td>\n",
       "    </tr>\n",
       "    <tr>\n",
       "      <th>265</th>\n",
       "      <td>API services</td>\n",
       "      <td>1</td>\n",
       "    </tr>\n",
       "    <tr>\n",
       "      <th>266</th>\n",
       "      <td>แน้วโน้มการจ้างงาน</td>\n",
       "      <td>1</td>\n",
       "    </tr>\n",
       "  </tbody>\n",
       "</table>\n",
       "<p>267 rows × 2 columns</p>\n",
       "</div>"
      ],
      "text/plain": [
       "                  index   0\n",
       "0                    AI  52\n",
       "1              Computer  41\n",
       "2            Technology  39\n",
       "3                Coding  39\n",
       "4              Big Data  32\n",
       "..                  ...  ..\n",
       "262                Tech   1\n",
       "263         Tech Leader   1\n",
       "264          Tech Trend   1\n",
       "265        API services   1\n",
       "266  แน้วโน้มการจ้างงาน   1\n",
       "\n",
       "[267 rows x 2 columns]"
      ]
     },
     "execution_count": 214,
     "metadata": {},
     "output_type": "execute_result"
    }
   ],
   "source": [
    "interest_count = interest_dummy.sum(axis=0).sort_values(ascending=False)\n",
    "df_interest_count = interest_count.to_frame().reset_index()\n",
    "df_interest_count"
   ]
  },
  {
   "cell_type": "code",
   "execution_count": 215,
   "metadata": {},
   "outputs": [
    {
     "data": {
      "text/plain": [
       "Text(0, 0.5, 'Topics')"
      ]
     },
     "execution_count": 215,
     "metadata": {},
     "output_type": "execute_result"
    },
    {
     "data": {
      "image/png": "[encoded data removed]",
      "text/plain": [
       "<Figure size 1000x700 with 1 Axes>"
      ]
     },
     "metadata": {},
     "output_type": "display_data"
    }
   ],
   "source": [
    "plt.figure(figsize=(10,7))\n",
    "interest_count[:20].plot(kind='barh', color='palevioletred')\n",
    "plt.gca().invert_yaxis()\n",
    "plt.title('Top 20 Topics of Interests', fontsize=15)\n",
    "plt.ylabel('Topics')"
   ]
  },
  {
   "attachments": {},
   "cell_type": "markdown",
   "metadata": {},
   "source": [
    "**Organization**"
   ]
  },
  {
   "cell_type": "code",
   "execution_count": 216,
   "metadata": {},
   "outputs": [
    {
     "data": {
      "text/plain": [
       "0                        NaN\n",
       "1        Witsawa Corporation\n",
       "2                          -\n",
       "3      จุฬาลงกรณ์มหาวิทยาลัย\n",
       "4                        NaN\n",
       "               ...          \n",
       "192                   VISTEC\n",
       "193                      NaN\n",
       "194                      Ntt\n",
       "195                      NaN\n",
       "196                        -\n",
       "Name: organization, Length: 197, dtype: object"
      ]
     },
     "execution_count": 216,
     "metadata": {},
     "output_type": "execute_result"
    }
   ],
   "source": [
    "df_org = df['organization'].copy()\n",
    "df_org"
   ]
  },
  {
   "cell_type": "code",
   "execution_count": 217,
   "metadata": {},
   "outputs": [
    {
     "data": {
      "text/plain": [
       "72"
      ]
     },
     "execution_count": 217,
     "metadata": {},
     "output_type": "execute_result"
    }
   ],
   "source": [
    "df_org.isna().sum()"
   ]
  },
  {
   "cell_type": "code",
   "execution_count": 218,
   "metadata": {},
   "outputs": [],
   "source": [
    "df_org = df_org.fillna('None')\n",
    "df_org = df_org.str.replace('-', 'None').replace('(None)', 'None').replace('ไม่มี', 'None')\n",
    "\n",
    "df_org = df_org.str.replace('มหาวิทยาลัยเกษศาสตร์', 'มหาวิทยาลัยเกษตรศาสตร์').replace('มหาวิทยาลัยเกษตรศาสตร์บางเขน', 'มหาวิทยาลัยเกษตรศาสตร์').replace('เกษตรศาตร์ บางเขน', 'มหาวิทยาลัยเกษตรศาสตร์')\n",
    "df_org = df_org.str.replace('ม.เกษตรศาสตร์', 'มหาวิทยาลัยเกษตรศาสตร์').replace('เกษตรศาสตร์', 'มหาวิทยาลัยเกษตรศาสตร์').replace('KU', 'มหาวิทยาลัยเกษตรศาสตร์')\n",
    "df_org = df_org.str.replace('มหาวิทยาเกษตรศาสตร์', 'มหาวิทยาลัยเกษตรศาสตร์').replace('มหาวิทยาลยเกษตรศาสตร์', 'มหาวิทยาลัยเกษตรศาสตร์').replace('Kasetsart university', 'มหาวิทยาลัยเกษตรศาสตร์')\n",
    "df_org = df_org.str.replace('มอเกษตร บางเขน', 'มหาวิทยาลัยเกษตรศาสตร์').replace('Ku', 'มหาวิทยาลัยเกษตรศาสตร์')\n",
    "\n",
    "df_org = df_org.str.replace('Chulalongkorn University ', 'จุฬาลงกรณ์มหาวิทยาลัย')\n",
    "\n",
    "df_org = df_org.str.replace('LINEMAN Wongnai', 'LINE MAN Wongnai').replace('Lineman Wongnai', 'LINE MAN Wongnai').replace('LMWN', 'LINE MAN Wongnai')\n",
    "\n",
    "df_org = df_org.str.replace('baac', 'BAAC')\n",
    "\n",
    "df_org = df_org.str.replace('mfec', 'MFEC').replace('MFEC PCL', 'MFEC')\n",
    "\n",
    "df_org = df_org.str.replace('SCB10x', 'SCB10X')\n",
    "\n"
   ]
  },
  {
   "cell_type": "code",
   "execution_count": 219,
   "metadata": {},
   "outputs": [
    {
     "data": {
      "text/plain": [
       "None                                86\n",
       "มหาวิทยาลัยเกษตรศาสตร์              31\n",
       "LINE MAN Wongnai                     7\n",
       "จุฬาลงกรณ์มหาวิทยาลัย                3\n",
       "BAAC                                 3\n",
       "MFEC                                 3\n",
       "Apppi                                2\n",
       "SCB10X                               2\n",
       "KMUTT                                2\n",
       "EGAT                                 2\n",
       "VISTEC                               2\n",
       "Thoughtworks                         2\n",
       "โรงเรียนสารสาสน์วิเทศสมุทรปราการ     1\n",
       "Bioice                               1\n",
       "LSEG                                 1\n",
       "Name: organization, dtype: int64"
      ]
     },
     "execution_count": 219,
     "metadata": {},
     "output_type": "execute_result"
    }
   ],
   "source": [
    "df_org.value_counts()[:15]"
   ]
  },
  {
   "cell_type": "code",
   "execution_count": 220,
   "metadata": {},
   "outputs": [
    {
     "data": {
      "text/plain": [
       "array(['None', 'Witsawa Corporation', 'จุฬาลงกรณ์มหาวิทยาลัย',\n",
       "       'D.E. Wellington Technologies Co., Ltd., Merkle Capital (Cryptomind Group), null',\n",
       "       'Thoughtworks', 'BAAC', 'Rush to refine', 'MFEC',\n",
       "       'LINE MAN Wongnai', 'Earnin', 'ฟรีแลนซ์', 'ATANoneIT', 'Siampiwat',\n",
       "       'มหาวิทยาลัยเกษตรศาสตร์', 'Viila technologies',\n",
       "       'Siam Compressor Industry ', 'Agoda', 'Krungsri AYCAP',\n",
       "       'Bank of ayudhya', 'Ascend', 'KBTG', 'EGAT', 'Socket9 ', 'nmth',\n",
       "       'BLA & Finnomena', 'Wisesight', 'AIS', 'AWN', 'SCB10X', 'KMUTT',\n",
       "       'Ascend Group', 'โรงพยาบาลมหาราชนครเชียงใหม่', 'SCB TechX ',\n",
       "       'VISTEC', 'ascens', 'Redhat', 'สำนักงาน กสทช.',\n",
       "       'True Digital Group', 'Wind training ', 'บมจ. หลักทรัพย์กสิกรไทย',\n",
       "       'LSEG', 'Apppi', 'Double P Entreprise', 'Bioice',\n",
       "       'โรงเรียนบ้านนา นายกพิทยากร', 'Chonkanyanukoon',\n",
       "       'โรงเรียนเทพศิรินทร์ นนทบุรี', 'True Voice',\n",
       "       'โรวเรียน สายปัญญารังสิต', 'โรงเรียนสารสาสน์วิเทศสมุทรปราการ',\n",
       "       'ByteArk', 'บริษัท อีรูไดท์ จำกัด', 'CJ', 'Thammasat University',\n",
       "       'Iglu', 'Gadget Story', 'Kasikorn Bank', 'Game Crafter Team',\n",
       "       'โรงเรียนเกษมพิทยา', 'Addtech hub', 'Seven Peaks Software',\n",
       "       'LUCIDi4', 'โรงเรียนปทุมคงคา', 'Ntt'], dtype=object)"
      ]
     },
     "execution_count": 220,
     "metadata": {},
     "output_type": "execute_result"
    }
   ],
   "source": [
    "df_org.unique()"
   ]
  },
  {
   "attachments": {},
   "cell_type": "markdown",
   "metadata": {},
   "source": [
    "**Career**"
   ]
  },
  {
   "cell_type": "code",
   "execution_count": 221,
   "metadata": {},
   "outputs": [
    {
     "data": {
      "text/plain": [
       "0       เจ้าหน้าที่ของรัฐ\n",
       "1      Software Engineer \n",
       "2              Developer \n",
       "3        นักศึกษาปริญญาโท\n",
       "4                       -\n",
       "              ...        \n",
       "192           PhD Student\n",
       "193                   NaN\n",
       "194                 Scrum\n",
       "195                   NaN\n",
       "196             Developer\n",
       "Name: career, Length: 197, dtype: object"
      ]
     },
     "execution_count": 221,
     "metadata": {},
     "output_type": "execute_result"
    }
   ],
   "source": [
    "df_cr = df['career'].copy()\n",
    "df_cr"
   ]
  },
  {
   "cell_type": "code",
   "execution_count": 222,
   "metadata": {},
   "outputs": [],
   "source": [
    "df_cr = df_cr.fillna('None')\n",
    "df_cr = df_cr.str.replace('-', 'None')\n",
    "df_cr = df_cr.str.replace('นิสิต', 'นักศึกษา').replace('นิสิต/นักศึกษา', 'นักศึกษา').replace('นักศึกษา/นักศึกษา', 'นักศึกษา')\n",
    "\n",
    "df_cr = df_cr.str.replace('Student', 'นักเรียน').replace('นักเรียนs ', 'นักเรียน')\n",
    "\n",
    "df_cr = df_cr.str.replace('Software Engineer ', 'Software Engineer').replace('Software engineer ', 'Software Engineer').replace('Software engineer', 'Software Engineer')\n",
    "\n",
    "df_cr = df_cr.str.replace('โปรแกรมเมอร์', 'Programmer')\n",
    "\n",
    "df_cr = df_cr.str.replace('Developers', 'Developer').replace('Dev', 'Developer').replace('developer', 'Developer')\n",
    "\n",
    "df_cr = df_cr.str.replace('it', 'IT').replace('It', 'IT')\n",
    "\n",
    "df_cr = df_cr.str.replace('รับจ้างอิสระ', 'Freelancer').replace('รับจ้าง', 'Freelancer').replace('freelance', 'Freelancer')\n",
    "\n",
    "df_cr = df_cr.str.replace('PM', 'Project Manager')\n"
   ]
  },
  {
   "cell_type": "code",
   "execution_count": 223,
   "metadata": {},
   "outputs": [
    {
     "data": {
      "text/plain": [
       "None                         40\n",
       "นักศึกษา                     36\n",
       "นักเรียน                     21\n",
       "Software Engineer            16\n",
       "Programmer                    8\n",
       "Software Developer            7\n",
       "Developer                     7\n",
       "Freelancer                    4\n",
       "IT                            3\n",
       "พนักงานบริษัท                 3\n",
       "SITe ReliabilITy Engineer     2\n",
       "Engineer                      2\n",
       "Project Manager               2\n",
       "ว่างงาน                       2\n",
       "อาจารย์                       2\n",
       "ข้าราชการ                     1\n",
       "Technology Evangelist         1\n",
       "Researcher                    1\n",
       "Name: career, dtype: int64"
      ]
     },
     "execution_count": 223,
     "metadata": {},
     "output_type": "execute_result"
    }
   ],
   "source": [
    "df_cr.value_counts()[:18]"
   ]
  },
  {
   "cell_type": "code",
   "execution_count": 224,
   "metadata": {},
   "outputs": [
    {
     "data": {
      "text/plain": [
       "array(['เจ้าหน้าที่ของรัฐ', 'Software Engineer', 'Developer ',\n",
       "       'นักศึกษาปริญญาโท', 'None', 'นักศึกษา', 'เกษตรกร',\n",
       "       'CEO, FullNonestack Developer, Freelancer', 'Graduate นักเรียน ',\n",
       "       'Software Developer', 'IT Consultant', 'System engineer',\n",
       "       'System admin', 'Programmer', 'Software ArchITect', 'นักเรียน',\n",
       "       'Entrepreneur', 'Procrastinator', 'Marketing online',\n",
       "       'Reseacher/Teacher/Coach', 'SecurITy Engineer', 'HR', 'Junior dec',\n",
       "       'Developer', 'Project Manager', 'BI Developer',\n",
       "       'SITe ReliabilITy Engineer', 'IT', 'รัฐวิสาหกิจ',\n",
       "       'Financial advisor', 'Freelancer', 'Engineer', 'Data Engineer',\n",
       "       'SRE', 'อาจารย์', 'ว่างงาน', 'NEET', 'แพทย์',\n",
       "       'Technology Evangelist ', 'Researcher', 'Consultant', 'ข้าราชการ',\n",
       "       'พนักงานบริษัท', 'HR Business Partner', 'EquITy Wealth Manager',\n",
       "       'Frontend Deverloper', 'UX/UI Designer',\n",
       "       'Software QualITy Assurance', 'Head of Engineering', 'นักธุรกิจ',\n",
       "       'LowNonecode dev', 'Marketing', 'Game Developer',\n",
       "       'Programmer , UX/UI Design', 'CTO', 'PhD นักเรียน', 'Scrum'],\n",
       "      dtype=object)"
      ]
     },
     "execution_count": 224,
     "metadata": {},
     "output_type": "execute_result"
    }
   ],
   "source": [
    "df_cr.unique()"
   ]
  },
  {
   "attachments": {},
   "cell_type": "markdown",
   "metadata": {},
   "source": [
    "**Shirt Size**"
   ]
  },
  {
   "cell_type": "code",
   "execution_count": 225,
   "metadata": {},
   "outputs": [
    {
     "data": {
      "text/plain": [
       "0      XL\n",
       "1       L\n",
       "2      XL\n",
       "3       L\n",
       "4      XL\n",
       "       ..\n",
       "192    XL\n",
       "193     S\n",
       "194    XS\n",
       "195     M\n",
       "196     M\n",
       "Name: size, Length: 197, dtype: object"
      ]
     },
     "execution_count": 225,
     "metadata": {},
     "output_type": "execute_result"
    }
   ],
   "source": [
    "df_size = df['size'].copy()\n",
    "df_size"
   ]
  },
  {
   "cell_type": "code",
   "execution_count": 226,
   "metadata": {},
   "outputs": [],
   "source": [
    "df_size = df_size.str.replace('XXXL', '3XL').replace('3 xl', '3XL').replace('3XL (อก 48)', '3XL').replace('รอบ อก 50 นิ้ว ', '3XL')"
   ]
  },
  {
   "cell_type": "code",
   "execution_count": 227,
   "metadata": {},
   "outputs": [
    {
     "data": {
      "text/plain": [
       "L      73\n",
       "XL     50\n",
       "M      28\n",
       "XXL    24\n",
       "S      11\n",
       "3XL     9\n",
       "XS      2\n",
       "Name: size, dtype: int64"
      ]
     },
     "execution_count": 227,
     "metadata": {},
     "output_type": "execute_result"
    }
   ],
   "source": [
    "df_size.value_counts()"
   ]
  },
  {
   "cell_type": "code",
   "execution_count": 228,
   "metadata": {},
   "outputs": [
    {
     "data": {
      "text/plain": [
       "Text(0, 0.5, 'Size')"
      ]
     },
     "execution_count": 228,
     "metadata": {},
     "output_type": "execute_result"
    },
    {
     "data": {
      "image/png": "[encoded data removed]",
      "text/plain": [
       "<Figure size 1000x700 with 1 Axes>"
      ]
     },
     "metadata": {},
     "output_type": "display_data"
    }
   ],
   "source": [
    "plt.figure(figsize=(10,7))\n",
    "df_size.value_counts().plot(kind='barh', color='lightpink')\n",
    "plt.gca().invert_yaxis()\n",
    "plt.title('Shirt Size', fontsize=15)\n",
    "plt.ylabel('Size')"
   ]
  },
  {
   "attachments": {},
   "cell_type": "markdown",
   "metadata": {},
   "source": [
    "**Food Allergies**"
   ]
  },
  {
   "cell_type": "code",
   "execution_count": 256,
   "metadata": {},
   "outputs": [
    {
     "data": {
      "text/plain": [
       "0      ไม่แพ้อาหารหรือความต้องการด้านอาหารอื่นๆ (Neit...\n",
       "1      ไม่แพ้อาหารหรือความต้องการด้านอาหารอื่นๆ (Neit...\n",
       "2      ไม่แพ้อาหารหรือความต้องการด้านอาหารอื่นๆ (Neit...\n",
       "3      ไม่แพ้อาหารหรือความต้องการด้านอาหารอื่นๆ (Neit...\n",
       "4      ไม่แพ้อาหารหรือความต้องการด้านอาหารอื่นๆ (Neit...\n",
       "                             ...                        \n",
       "192    ไม่แพ้อาหารหรือความต้องการด้านอาหารอื่นๆ (Neit...\n",
       "193    ไม่แพ้อาหารหรือความต้องการด้านอาหารอื่นๆ (Neit...\n",
       "194                  ไม่รับประทานเนื้อสัตว์ (Vegetarian)\n",
       "195    ไม่แพ้อาหารหรือความต้องการด้านอาหารอื่นๆ (Neit...\n",
       "196    ไม่แพ้อาหารหรือความต้องการด้านอาหารอื่นๆ (Neit...\n",
       "Name: food, Length: 197, dtype: object"
      ]
     },
     "execution_count": 256,
     "metadata": {},
     "output_type": "execute_result"
    }
   ],
   "source": [
    "df_food = df['food'].copy()\n",
    "df_food"
   ]
  },
  {
   "cell_type": "code",
   "execution_count": 257,
   "metadata": {},
   "outputs": [],
   "source": [
    "df_food = df_food.str.replace('-', 'ไม่แพ้อาหารหรือความต้องการด้านอาหารอื่นๆ (Neither allergy profile nor ethical food requests)')\n",
    "df_food = df_food.str.replace('ไม่ผัก', 'ไม่ทานผัก')\n",
    "df_food = df_food.str.replace('ไม่รับประทานเนื้อวัว', 'ไม่กินเนื้อวัว')"
   ]
  },
  {
   "cell_type": "code",
   "execution_count": 258,
   "metadata": {},
   "outputs": [
    {
     "data": {
      "text/plain": [
       "ไม่แพ้อาหารหรือความต้องการด้านอาหารอื่นๆ (Neither allergy profile nor ethical food requests)    174\n",
       "แพ้อาหารทะเล (Seafood allergy)                                                                    9\n",
       "รับประทานอาหารฮาลาลเท่านั้น (Halal food,Islamic)                                                  3\n",
       "ไม่กินเนื้อวัว                                                                                    2\n",
       "ไม่ทานผัก                                                                                         2\n",
       "ไม่รับประทานเนื้อสัตว์ (Vegetarian)                                                               2\n",
       "ไม่กินปลา                                                                                         1\n",
       "แพ้ถั่ว (Nuts allergy)                                                                            1\n",
       "กุ้ง                                                                                              1\n",
       "ไม่ทานอาหารเผ็ด                                                                                   1\n",
       "แพ้ราดหน้า                                                                                        1\n",
       "Name: food, dtype: int64"
      ]
     },
     "execution_count": 258,
     "metadata": {},
     "output_type": "execute_result"
    }
   ],
   "source": [
    "df_food.value_counts()"
   ]
  },
  {
   "attachments": {},
   "cell_type": "markdown",
   "metadata": {},
   "source": [
    "# Save clean data to CSV"
   ]
  },
  {
   "cell_type": "code",
   "execution_count": 259,
   "metadata": {},
   "outputs": [],
   "source": [
    "# df_interest_count.to_csv('interest-cleaned.csv', index=False)\n",
    "# interest_dummy.to_csv('interest-dummy.csv', index=False)"
   ]
  }
 ],
 "metadata": {
  "kernelspec": {
   "display_name": "Python 3",
   "language": "python",
   "name": "python3"
  },
  "language_info": {
   "codemirror_mode": {
    "name": "ipython",
    "version": 3
   },
   "file_extension": ".py",
   "mimetype": "text/x-python",
   "name": "python",
   "nbconvert_exporter": "python",
   "pygments_lexer": "ipython3",
   "version": "3.8.0"
  },
  "orig_nbformat": 4,
  "vscode": {
   "interpreter": {
    "hash": "5d04d0ea025a2b5c0a405c24c3ed943d49065a11de485e353892bf0638615a3b"
   }
  }
 },
 "nbformat": 4,
 "nbformat_minor": 2
}
