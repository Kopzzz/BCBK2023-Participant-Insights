{
 "cells": [
  {
   "attachments": {},
   "cell_type": "markdown",
   "metadata": {},
   "source": [
    "# Importing Libraries"
   ]
  },
  {
   "cell_type": "code",
   "execution_count": 14,
   "metadata": {},
   "outputs": [],
   "source": [
    "import warnings\n",
    "warnings.filterwarnings('ignore')\n",
    "\n",
    "import pandas as pd\n",
    "import numpy as np\n",
    "import matplotlib.pyplot as plt\n",
    "import seaborn as sns\n",
    "\n",
    "from pycaret.clustering import *\n",
    "from sklearn.model_selection import train_test_split, KFold, cross_val_score"
   ]
  },
  {
   "attachments": {},
   "cell_type": "markdown",
   "metadata": {},
   "source": [
    "# Loading the Data"
   ]
  },
  {
   "cell_type": "code",
   "execution_count": 15,
   "metadata": {},
   "outputs": [],
   "source": [
    "df = pd.read_csv('../datasets/interest-dummy.csv')"
   ]
  },
  {
   "attachments": {},
   "cell_type": "markdown",
   "metadata": {},
   "source": [
    "# Data Cleaning & EDA "
   ]
  },
  {
   "cell_type": "code",
   "execution_count": 16,
   "metadata": {},
   "outputs": [
    {
     "data": {
      "text/html": [
       "<div>\n",
       "<style scoped>\n",
       "    .dataframe tbody tr th:only-of-type {\n",
       "        vertical-align: middle;\n",
       "    }\n",
       "\n",
       "    .dataframe tbody tr th {\n",
       "        vertical-align: top;\n",
       "    }\n",
       "\n",
       "    .dataframe thead th {\n",
       "        text-align: right;\n",
       "    }\n",
       "</style>\n",
       "<table border=\"1\" class=\"dataframe\">\n",
       "  <thead>\n",
       "    <tr style=\"text-align: right;\">\n",
       "      <th></th>\n",
       "      <th>0</th>\n",
       "      <th>1</th>\n",
       "      <th>2</th>\n",
       "      <th>3</th>\n",
       "      <th>4</th>\n",
       "      <th>5</th>\n",
       "      <th>6</th>\n",
       "      <th>7</th>\n",
       "      <th>8</th>\n",
       "      <th>9</th>\n",
       "      <th>...</th>\n",
       "      <th>196</th>\n",
       "      <th>197</th>\n",
       "      <th>198</th>\n",
       "      <th>199</th>\n",
       "      <th>200</th>\n",
       "      <th>201</th>\n",
       "      <th>202</th>\n",
       "      <th>203</th>\n",
       "      <th>204</th>\n",
       "      <th>205</th>\n",
       "    </tr>\n",
       "  </thead>\n",
       "  <tbody>\n",
       "    <tr>\n",
       "      <th>AI</th>\n",
       "      <td>0</td>\n",
       "      <td>1</td>\n",
       "      <td>1</td>\n",
       "      <td>1</td>\n",
       "      <td>0</td>\n",
       "      <td>0</td>\n",
       "      <td>0</td>\n",
       "      <td>0</td>\n",
       "      <td>0</td>\n",
       "      <td>1</td>\n",
       "      <td>...</td>\n",
       "      <td>0</td>\n",
       "      <td>0</td>\n",
       "      <td>0</td>\n",
       "      <td>0</td>\n",
       "      <td>0</td>\n",
       "      <td>0</td>\n",
       "      <td>0</td>\n",
       "      <td>0</td>\n",
       "      <td>0</td>\n",
       "      <td>0</td>\n",
       "    </tr>\n",
       "    <tr>\n",
       "      <th>API services</th>\n",
       "      <td>0</td>\n",
       "      <td>0</td>\n",
       "      <td>0</td>\n",
       "      <td>0</td>\n",
       "      <td>0</td>\n",
       "      <td>0</td>\n",
       "      <td>0</td>\n",
       "      <td>0</td>\n",
       "      <td>0</td>\n",
       "      <td>0</td>\n",
       "      <td>...</td>\n",
       "      <td>0</td>\n",
       "      <td>0</td>\n",
       "      <td>0</td>\n",
       "      <td>0</td>\n",
       "      <td>0</td>\n",
       "      <td>0</td>\n",
       "      <td>0</td>\n",
       "      <td>0</td>\n",
       "      <td>0</td>\n",
       "      <td>0</td>\n",
       "    </tr>\n",
       "    <tr>\n",
       "      <th>AR</th>\n",
       "      <td>0</td>\n",
       "      <td>0</td>\n",
       "      <td>0</td>\n",
       "      <td>0</td>\n",
       "      <td>0</td>\n",
       "      <td>0</td>\n",
       "      <td>0</td>\n",
       "      <td>0</td>\n",
       "      <td>0</td>\n",
       "      <td>0</td>\n",
       "      <td>...</td>\n",
       "      <td>0</td>\n",
       "      <td>0</td>\n",
       "      <td>0</td>\n",
       "      <td>0</td>\n",
       "      <td>0</td>\n",
       "      <td>0</td>\n",
       "      <td>0</td>\n",
       "      <td>0</td>\n",
       "      <td>0</td>\n",
       "      <td>0</td>\n",
       "    </tr>\n",
       "    <tr>\n",
       "      <th>ASMR</th>\n",
       "      <td>0</td>\n",
       "      <td>0</td>\n",
       "      <td>0</td>\n",
       "      <td>0</td>\n",
       "      <td>0</td>\n",
       "      <td>0</td>\n",
       "      <td>0</td>\n",
       "      <td>0</td>\n",
       "      <td>0</td>\n",
       "      <td>0</td>\n",
       "      <td>...</td>\n",
       "      <td>0</td>\n",
       "      <td>0</td>\n",
       "      <td>0</td>\n",
       "      <td>0</td>\n",
       "      <td>0</td>\n",
       "      <td>0</td>\n",
       "      <td>0</td>\n",
       "      <td>0</td>\n",
       "      <td>0</td>\n",
       "      <td>0</td>\n",
       "    </tr>\n",
       "    <tr>\n",
       "      <th>Ads Technology</th>\n",
       "      <td>0</td>\n",
       "      <td>0</td>\n",
       "      <td>0</td>\n",
       "      <td>0</td>\n",
       "      <td>0</td>\n",
       "      <td>0</td>\n",
       "      <td>0</td>\n",
       "      <td>0</td>\n",
       "      <td>0</td>\n",
       "      <td>0</td>\n",
       "      <td>...</td>\n",
       "      <td>0</td>\n",
       "      <td>0</td>\n",
       "      <td>0</td>\n",
       "      <td>0</td>\n",
       "      <td>0</td>\n",
       "      <td>0</td>\n",
       "      <td>0</td>\n",
       "      <td>0</td>\n",
       "      <td>0</td>\n",
       "      <td>0</td>\n",
       "    </tr>\n",
       "  </tbody>\n",
       "</table>\n",
       "<p>5 rows × 206 columns</p>\n",
       "</div>"
      ],
      "text/plain": [
       "                0    1    2    3    4    5    6    7    8    9    ...  196  \\\n",
       "AI                0    1    1    1    0    0    0    0    0    1  ...    0   \n",
       "API services      0    0    0    0    0    0    0    0    0    0  ...    0   \n",
       "AR                0    0    0    0    0    0    0    0    0    0  ...    0   \n",
       "ASMR              0    0    0    0    0    0    0    0    0    0  ...    0   \n",
       "Ads Technology    0    0    0    0    0    0    0    0    0    0  ...    0   \n",
       "\n",
       "                197  198  199  200  201  202  203  204  205  \n",
       "AI                0    0    0    0    0    0    0    0    0  \n",
       "API services      0    0    0    0    0    0    0    0    0  \n",
       "AR                0    0    0    0    0    0    0    0    0  \n",
       "ASMR              0    0    0    0    0    0    0    0    0  \n",
       "Ads Technology    0    0    0    0    0    0    0    0    0  \n",
       "\n",
       "[5 rows x 206 columns]"
      ]
     },
     "execution_count": 16,
     "metadata": {},
     "output_type": "execute_result"
    }
   ],
   "source": [
    "df = df.T\n",
    "df.head()"
   ]
  },
  {
   "cell_type": "code",
   "execution_count": 17,
   "metadata": {},
   "outputs": [],
   "source": [
    "# df_train, df_test = train_test_split(df ,train_size = 0.8, random_state = 42)\n",
    "# print(df_train.shape)\n",
    "# print(df_test.shape)"
   ]
  },
  {
   "cell_type": "code",
   "execution_count": 18,
   "metadata": {},
   "outputs": [
    {
     "data": {
      "text/html": [
       "<style type=\"text/css\">\n",
       "#T_9c1c0_row21_col1 {\n",
       "  background-color: lightgreen;\n",
       "}\n",
       "</style>\n",
       "<table id=\"T_9c1c0\">\n",
       "  <thead>\n",
       "    <tr>\n",
       "      <th class=\"blank level0\" >&nbsp;</th>\n",
       "      <th id=\"T_9c1c0_level0_col0\" class=\"col_heading level0 col0\" >Description</th>\n",
       "      <th id=\"T_9c1c0_level0_col1\" class=\"col_heading level0 col1\" >Value</th>\n",
       "    </tr>\n",
       "  </thead>\n",
       "  <tbody>\n",
       "    <tr>\n",
       "      <th id=\"T_9c1c0_level0_row0\" class=\"row_heading level0 row0\" >0</th>\n",
       "      <td id=\"T_9c1c0_row0_col0\" class=\"data row0 col0\" >session_id</td>\n",
       "      <td id=\"T_9c1c0_row0_col1\" class=\"data row0 col1\" >2663</td>\n",
       "    </tr>\n",
       "    <tr>\n",
       "      <th id=\"T_9c1c0_level0_row1\" class=\"row_heading level0 row1\" >1</th>\n",
       "      <td id=\"T_9c1c0_row1_col0\" class=\"data row1 col0\" >Original Data</td>\n",
       "      <td id=\"T_9c1c0_row1_col1\" class=\"data row1 col1\" >(280, 206)</td>\n",
       "    </tr>\n",
       "    <tr>\n",
       "      <th id=\"T_9c1c0_level0_row2\" class=\"row_heading level0 row2\" >2</th>\n",
       "      <td id=\"T_9c1c0_row2_col0\" class=\"data row2 col0\" >Missing Values</td>\n",
       "      <td id=\"T_9c1c0_row2_col1\" class=\"data row2 col1\" >False</td>\n",
       "    </tr>\n",
       "    <tr>\n",
       "      <th id=\"T_9c1c0_level0_row3\" class=\"row_heading level0 row3\" >3</th>\n",
       "      <td id=\"T_9c1c0_row3_col0\" class=\"data row3 col0\" >Numeric Features</td>\n",
       "      <td id=\"T_9c1c0_row3_col1\" class=\"data row3 col1\" >0</td>\n",
       "    </tr>\n",
       "    <tr>\n",
       "      <th id=\"T_9c1c0_level0_row4\" class=\"row_heading level0 row4\" >4</th>\n",
       "      <td id=\"T_9c1c0_row4_col0\" class=\"data row4 col0\" >Categorical Features</td>\n",
       "      <td id=\"T_9c1c0_row4_col1\" class=\"data row4 col1\" >206</td>\n",
       "    </tr>\n",
       "    <tr>\n",
       "      <th id=\"T_9c1c0_level0_row5\" class=\"row_heading level0 row5\" >5</th>\n",
       "      <td id=\"T_9c1c0_row5_col0\" class=\"data row5 col0\" >Ordinal Features</td>\n",
       "      <td id=\"T_9c1c0_row5_col1\" class=\"data row5 col1\" >False</td>\n",
       "    </tr>\n",
       "    <tr>\n",
       "      <th id=\"T_9c1c0_level0_row6\" class=\"row_heading level0 row6\" >6</th>\n",
       "      <td id=\"T_9c1c0_row6_col0\" class=\"data row6 col0\" >High Cardinality Features</td>\n",
       "      <td id=\"T_9c1c0_row6_col1\" class=\"data row6 col1\" >False</td>\n",
       "    </tr>\n",
       "    <tr>\n",
       "      <th id=\"T_9c1c0_level0_row7\" class=\"row_heading level0 row7\" >7</th>\n",
       "      <td id=\"T_9c1c0_row7_col0\" class=\"data row7 col0\" >High Cardinality Method</td>\n",
       "      <td id=\"T_9c1c0_row7_col1\" class=\"data row7 col1\" >None</td>\n",
       "    </tr>\n",
       "    <tr>\n",
       "      <th id=\"T_9c1c0_level0_row8\" class=\"row_heading level0 row8\" >8</th>\n",
       "      <td id=\"T_9c1c0_row8_col0\" class=\"data row8 col0\" >Transformed Data</td>\n",
       "      <td id=\"T_9c1c0_row8_col1\" class=\"data row8 col1\" >(280, 410)</td>\n",
       "    </tr>\n",
       "    <tr>\n",
       "      <th id=\"T_9c1c0_level0_row9\" class=\"row_heading level0 row9\" >9</th>\n",
       "      <td id=\"T_9c1c0_row9_col0\" class=\"data row9 col0\" >CPU Jobs</td>\n",
       "      <td id=\"T_9c1c0_row9_col1\" class=\"data row9 col1\" >-1</td>\n",
       "    </tr>\n",
       "    <tr>\n",
       "      <th id=\"T_9c1c0_level0_row10\" class=\"row_heading level0 row10\" >10</th>\n",
       "      <td id=\"T_9c1c0_row10_col0\" class=\"data row10 col0\" >Use GPU</td>\n",
       "      <td id=\"T_9c1c0_row10_col1\" class=\"data row10 col1\" >False</td>\n",
       "    </tr>\n",
       "    <tr>\n",
       "      <th id=\"T_9c1c0_level0_row11\" class=\"row_heading level0 row11\" >11</th>\n",
       "      <td id=\"T_9c1c0_row11_col0\" class=\"data row11 col0\" >Log Experiment</td>\n",
       "      <td id=\"T_9c1c0_row11_col1\" class=\"data row11 col1\" >False</td>\n",
       "    </tr>\n",
       "    <tr>\n",
       "      <th id=\"T_9c1c0_level0_row12\" class=\"row_heading level0 row12\" >12</th>\n",
       "      <td id=\"T_9c1c0_row12_col0\" class=\"data row12 col0\" >Experiment Name</td>\n",
       "      <td id=\"T_9c1c0_row12_col1\" class=\"data row12 col1\" >cluster-default-name</td>\n",
       "    </tr>\n",
       "    <tr>\n",
       "      <th id=\"T_9c1c0_level0_row13\" class=\"row_heading level0 row13\" >13</th>\n",
       "      <td id=\"T_9c1c0_row13_col0\" class=\"data row13 col0\" >USI</td>\n",
       "      <td id=\"T_9c1c0_row13_col1\" class=\"data row13 col1\" >f606</td>\n",
       "    </tr>\n",
       "    <tr>\n",
       "      <th id=\"T_9c1c0_level0_row14\" class=\"row_heading level0 row14\" >14</th>\n",
       "      <td id=\"T_9c1c0_row14_col0\" class=\"data row14 col0\" >Imputation Type</td>\n",
       "      <td id=\"T_9c1c0_row14_col1\" class=\"data row14 col1\" >simple</td>\n",
       "    </tr>\n",
       "    <tr>\n",
       "      <th id=\"T_9c1c0_level0_row15\" class=\"row_heading level0 row15\" >15</th>\n",
       "      <td id=\"T_9c1c0_row15_col0\" class=\"data row15 col0\" >Iterative Imputation Iteration</td>\n",
       "      <td id=\"T_9c1c0_row15_col1\" class=\"data row15 col1\" >None</td>\n",
       "    </tr>\n",
       "    <tr>\n",
       "      <th id=\"T_9c1c0_level0_row16\" class=\"row_heading level0 row16\" >16</th>\n",
       "      <td id=\"T_9c1c0_row16_col0\" class=\"data row16 col0\" >Numeric Imputer</td>\n",
       "      <td id=\"T_9c1c0_row16_col1\" class=\"data row16 col1\" >mean</td>\n",
       "    </tr>\n",
       "    <tr>\n",
       "      <th id=\"T_9c1c0_level0_row17\" class=\"row_heading level0 row17\" >17</th>\n",
       "      <td id=\"T_9c1c0_row17_col0\" class=\"data row17 col0\" >Iterative Imputation Numeric Model</td>\n",
       "      <td id=\"T_9c1c0_row17_col1\" class=\"data row17 col1\" >None</td>\n",
       "    </tr>\n",
       "    <tr>\n",
       "      <th id=\"T_9c1c0_level0_row18\" class=\"row_heading level0 row18\" >18</th>\n",
       "      <td id=\"T_9c1c0_row18_col0\" class=\"data row18 col0\" >Categorical Imputer</td>\n",
       "      <td id=\"T_9c1c0_row18_col1\" class=\"data row18 col1\" >mode</td>\n",
       "    </tr>\n",
       "    <tr>\n",
       "      <th id=\"T_9c1c0_level0_row19\" class=\"row_heading level0 row19\" >19</th>\n",
       "      <td id=\"T_9c1c0_row19_col0\" class=\"data row19 col0\" >Iterative Imputation Categorical Model</td>\n",
       "      <td id=\"T_9c1c0_row19_col1\" class=\"data row19 col1\" >None</td>\n",
       "    </tr>\n",
       "    <tr>\n",
       "      <th id=\"T_9c1c0_level0_row20\" class=\"row_heading level0 row20\" >20</th>\n",
       "      <td id=\"T_9c1c0_row20_col0\" class=\"data row20 col0\" >Unknown Categoricals Handling</td>\n",
       "      <td id=\"T_9c1c0_row20_col1\" class=\"data row20 col1\" >least_frequent</td>\n",
       "    </tr>\n",
       "    <tr>\n",
       "      <th id=\"T_9c1c0_level0_row21\" class=\"row_heading level0 row21\" >21</th>\n",
       "      <td id=\"T_9c1c0_row21_col0\" class=\"data row21 col0\" >Normalize</td>\n",
       "      <td id=\"T_9c1c0_row21_col1\" class=\"data row21 col1\" >True</td>\n",
       "    </tr>\n",
       "    <tr>\n",
       "      <th id=\"T_9c1c0_level0_row22\" class=\"row_heading level0 row22\" >22</th>\n",
       "      <td id=\"T_9c1c0_row22_col0\" class=\"data row22 col0\" >Normalize Method</td>\n",
       "      <td id=\"T_9c1c0_row22_col1\" class=\"data row22 col1\" >zscore</td>\n",
       "    </tr>\n",
       "    <tr>\n",
       "      <th id=\"T_9c1c0_level0_row23\" class=\"row_heading level0 row23\" >23</th>\n",
       "      <td id=\"T_9c1c0_row23_col0\" class=\"data row23 col0\" >Transformation</td>\n",
       "      <td id=\"T_9c1c0_row23_col1\" class=\"data row23 col1\" >False</td>\n",
       "    </tr>\n",
       "    <tr>\n",
       "      <th id=\"T_9c1c0_level0_row24\" class=\"row_heading level0 row24\" >24</th>\n",
       "      <td id=\"T_9c1c0_row24_col0\" class=\"data row24 col0\" >Transformation Method</td>\n",
       "      <td id=\"T_9c1c0_row24_col1\" class=\"data row24 col1\" >None</td>\n",
       "    </tr>\n",
       "    <tr>\n",
       "      <th id=\"T_9c1c0_level0_row25\" class=\"row_heading level0 row25\" >25</th>\n",
       "      <td id=\"T_9c1c0_row25_col0\" class=\"data row25 col0\" >PCA</td>\n",
       "      <td id=\"T_9c1c0_row25_col1\" class=\"data row25 col1\" >False</td>\n",
       "    </tr>\n",
       "    <tr>\n",
       "      <th id=\"T_9c1c0_level0_row26\" class=\"row_heading level0 row26\" >26</th>\n",
       "      <td id=\"T_9c1c0_row26_col0\" class=\"data row26 col0\" >PCA Method</td>\n",
       "      <td id=\"T_9c1c0_row26_col1\" class=\"data row26 col1\" >None</td>\n",
       "    </tr>\n",
       "    <tr>\n",
       "      <th id=\"T_9c1c0_level0_row27\" class=\"row_heading level0 row27\" >27</th>\n",
       "      <td id=\"T_9c1c0_row27_col0\" class=\"data row27 col0\" >PCA Components</td>\n",
       "      <td id=\"T_9c1c0_row27_col1\" class=\"data row27 col1\" >None</td>\n",
       "    </tr>\n",
       "    <tr>\n",
       "      <th id=\"T_9c1c0_level0_row28\" class=\"row_heading level0 row28\" >28</th>\n",
       "      <td id=\"T_9c1c0_row28_col0\" class=\"data row28 col0\" >Ignore Low Variance</td>\n",
       "      <td id=\"T_9c1c0_row28_col1\" class=\"data row28 col1\" >False</td>\n",
       "    </tr>\n",
       "    <tr>\n",
       "      <th id=\"T_9c1c0_level0_row29\" class=\"row_heading level0 row29\" >29</th>\n",
       "      <td id=\"T_9c1c0_row29_col0\" class=\"data row29 col0\" >Combine Rare Levels</td>\n",
       "      <td id=\"T_9c1c0_row29_col1\" class=\"data row29 col1\" >False</td>\n",
       "    </tr>\n",
       "    <tr>\n",
       "      <th id=\"T_9c1c0_level0_row30\" class=\"row_heading level0 row30\" >30</th>\n",
       "      <td id=\"T_9c1c0_row30_col0\" class=\"data row30 col0\" >Rare Level Threshold</td>\n",
       "      <td id=\"T_9c1c0_row30_col1\" class=\"data row30 col1\" >None</td>\n",
       "    </tr>\n",
       "    <tr>\n",
       "      <th id=\"T_9c1c0_level0_row31\" class=\"row_heading level0 row31\" >31</th>\n",
       "      <td id=\"T_9c1c0_row31_col0\" class=\"data row31 col0\" >Numeric Binning</td>\n",
       "      <td id=\"T_9c1c0_row31_col1\" class=\"data row31 col1\" >False</td>\n",
       "    </tr>\n",
       "    <tr>\n",
       "      <th id=\"T_9c1c0_level0_row32\" class=\"row_heading level0 row32\" >32</th>\n",
       "      <td id=\"T_9c1c0_row32_col0\" class=\"data row32 col0\" >Remove Outliers</td>\n",
       "      <td id=\"T_9c1c0_row32_col1\" class=\"data row32 col1\" >False</td>\n",
       "    </tr>\n",
       "    <tr>\n",
       "      <th id=\"T_9c1c0_level0_row33\" class=\"row_heading level0 row33\" >33</th>\n",
       "      <td id=\"T_9c1c0_row33_col0\" class=\"data row33 col0\" >Outliers Threshold</td>\n",
       "      <td id=\"T_9c1c0_row33_col1\" class=\"data row33 col1\" >None</td>\n",
       "    </tr>\n",
       "    <tr>\n",
       "      <th id=\"T_9c1c0_level0_row34\" class=\"row_heading level0 row34\" >34</th>\n",
       "      <td id=\"T_9c1c0_row34_col0\" class=\"data row34 col0\" >Remove Multicollinearity</td>\n",
       "      <td id=\"T_9c1c0_row34_col1\" class=\"data row34 col1\" >False</td>\n",
       "    </tr>\n",
       "    <tr>\n",
       "      <th id=\"T_9c1c0_level0_row35\" class=\"row_heading level0 row35\" >35</th>\n",
       "      <td id=\"T_9c1c0_row35_col0\" class=\"data row35 col0\" >Multicollinearity Threshold</td>\n",
       "      <td id=\"T_9c1c0_row35_col1\" class=\"data row35 col1\" >None</td>\n",
       "    </tr>\n",
       "    <tr>\n",
       "      <th id=\"T_9c1c0_level0_row36\" class=\"row_heading level0 row36\" >36</th>\n",
       "      <td id=\"T_9c1c0_row36_col0\" class=\"data row36 col0\" >Remove Perfect Collinearity</td>\n",
       "      <td id=\"T_9c1c0_row36_col1\" class=\"data row36 col1\" >False</td>\n",
       "    </tr>\n",
       "    <tr>\n",
       "      <th id=\"T_9c1c0_level0_row37\" class=\"row_heading level0 row37\" >37</th>\n",
       "      <td id=\"T_9c1c0_row37_col0\" class=\"data row37 col0\" >Clustering</td>\n",
       "      <td id=\"T_9c1c0_row37_col1\" class=\"data row37 col1\" >False</td>\n",
       "    </tr>\n",
       "    <tr>\n",
       "      <th id=\"T_9c1c0_level0_row38\" class=\"row_heading level0 row38\" >38</th>\n",
       "      <td id=\"T_9c1c0_row38_col0\" class=\"data row38 col0\" >Clustering Iteration</td>\n",
       "      <td id=\"T_9c1c0_row38_col1\" class=\"data row38 col1\" >None</td>\n",
       "    </tr>\n",
       "    <tr>\n",
       "      <th id=\"T_9c1c0_level0_row39\" class=\"row_heading level0 row39\" >39</th>\n",
       "      <td id=\"T_9c1c0_row39_col0\" class=\"data row39 col0\" >Polynomial Features</td>\n",
       "      <td id=\"T_9c1c0_row39_col1\" class=\"data row39 col1\" >False</td>\n",
       "    </tr>\n",
       "    <tr>\n",
       "      <th id=\"T_9c1c0_level0_row40\" class=\"row_heading level0 row40\" >40</th>\n",
       "      <td id=\"T_9c1c0_row40_col0\" class=\"data row40 col0\" >Polynomial Degree</td>\n",
       "      <td id=\"T_9c1c0_row40_col1\" class=\"data row40 col1\" >None</td>\n",
       "    </tr>\n",
       "    <tr>\n",
       "      <th id=\"T_9c1c0_level0_row41\" class=\"row_heading level0 row41\" >41</th>\n",
       "      <td id=\"T_9c1c0_row41_col0\" class=\"data row41 col0\" >Trignometry Features</td>\n",
       "      <td id=\"T_9c1c0_row41_col1\" class=\"data row41 col1\" >False</td>\n",
       "    </tr>\n",
       "    <tr>\n",
       "      <th id=\"T_9c1c0_level0_row42\" class=\"row_heading level0 row42\" >42</th>\n",
       "      <td id=\"T_9c1c0_row42_col0\" class=\"data row42 col0\" >Polynomial Threshold</td>\n",
       "      <td id=\"T_9c1c0_row42_col1\" class=\"data row42 col1\" >None</td>\n",
       "    </tr>\n",
       "    <tr>\n",
       "      <th id=\"T_9c1c0_level0_row43\" class=\"row_heading level0 row43\" >43</th>\n",
       "      <td id=\"T_9c1c0_row43_col0\" class=\"data row43 col0\" >Group Features</td>\n",
       "      <td id=\"T_9c1c0_row43_col1\" class=\"data row43 col1\" >False</td>\n",
       "    </tr>\n",
       "    <tr>\n",
       "      <th id=\"T_9c1c0_level0_row44\" class=\"row_heading level0 row44\" >44</th>\n",
       "      <td id=\"T_9c1c0_row44_col0\" class=\"data row44 col0\" >Feature Selection</td>\n",
       "      <td id=\"T_9c1c0_row44_col1\" class=\"data row44 col1\" >False</td>\n",
       "    </tr>\n",
       "    <tr>\n",
       "      <th id=\"T_9c1c0_level0_row45\" class=\"row_heading level0 row45\" >45</th>\n",
       "      <td id=\"T_9c1c0_row45_col0\" class=\"data row45 col0\" >Feature Selection Method</td>\n",
       "      <td id=\"T_9c1c0_row45_col1\" class=\"data row45 col1\" >classic</td>\n",
       "    </tr>\n",
       "    <tr>\n",
       "      <th id=\"T_9c1c0_level0_row46\" class=\"row_heading level0 row46\" >46</th>\n",
       "      <td id=\"T_9c1c0_row46_col0\" class=\"data row46 col0\" >Features Selection Threshold</td>\n",
       "      <td id=\"T_9c1c0_row46_col1\" class=\"data row46 col1\" >None</td>\n",
       "    </tr>\n",
       "    <tr>\n",
       "      <th id=\"T_9c1c0_level0_row47\" class=\"row_heading level0 row47\" >47</th>\n",
       "      <td id=\"T_9c1c0_row47_col0\" class=\"data row47 col0\" >Feature Interaction</td>\n",
       "      <td id=\"T_9c1c0_row47_col1\" class=\"data row47 col1\" >False</td>\n",
       "    </tr>\n",
       "    <tr>\n",
       "      <th id=\"T_9c1c0_level0_row48\" class=\"row_heading level0 row48\" >48</th>\n",
       "      <td id=\"T_9c1c0_row48_col0\" class=\"data row48 col0\" >Feature Ratio</td>\n",
       "      <td id=\"T_9c1c0_row48_col1\" class=\"data row48 col1\" >False</td>\n",
       "    </tr>\n",
       "    <tr>\n",
       "      <th id=\"T_9c1c0_level0_row49\" class=\"row_heading level0 row49\" >49</th>\n",
       "      <td id=\"T_9c1c0_row49_col0\" class=\"data row49 col0\" >Interaction Threshold</td>\n",
       "      <td id=\"T_9c1c0_row49_col1\" class=\"data row49 col1\" >None</td>\n",
       "    </tr>\n",
       "  </tbody>\n",
       "</table>\n"
      ],
      "text/plain": [
       "<pandas.io.formats.style.Styler at 0x1d86a86d940>"
      ]
     },
     "metadata": {},
     "output_type": "display_data"
    }
   ],
   "source": [
    "s = setup(df, normalize = True)"
   ]
  },
  {
   "cell_type": "code",
   "execution_count": 19,
   "metadata": {},
   "outputs": [
    {
     "data": {
      "text/html": [
       "<div>\n",
       "<style scoped>\n",
       "    .dataframe tbody tr th:only-of-type {\n",
       "        vertical-align: middle;\n",
       "    }\n",
       "\n",
       "    .dataframe tbody tr th {\n",
       "        vertical-align: top;\n",
       "    }\n",
       "\n",
       "    .dataframe thead th {\n",
       "        text-align: right;\n",
       "    }\n",
       "</style>\n",
       "<table border=\"1\" class=\"dataframe\">\n",
       "  <thead>\n",
       "    <tr style=\"text-align: right;\">\n",
       "      <th></th>\n",
       "      <th>Silhouette</th>\n",
       "      <th>Calinski-Harabasz</th>\n",
       "      <th>Davies-Bouldin</th>\n",
       "      <th>Homogeneity</th>\n",
       "      <th>Rand Index</th>\n",
       "      <th>Completeness</th>\n",
       "    </tr>\n",
       "  </thead>\n",
       "  <tbody>\n",
       "    <tr>\n",
       "      <th>0</th>\n",
       "      <td>0.4857</td>\n",
       "      <td>48.5773</td>\n",
       "      <td>2.525</td>\n",
       "      <td>0</td>\n",
       "      <td>0</td>\n",
       "      <td>0</td>\n",
       "    </tr>\n",
       "  </tbody>\n",
       "</table>\n",
       "</div>"
      ],
      "text/plain": [
       "   Silhouette  Calinski-Harabasz  Davies-Bouldin  Homogeneity  Rand Index  \\\n",
       "0      0.4857            48.5773           2.525            0           0   \n",
       "\n",
       "   Completeness  \n",
       "0             0  "
      ]
     },
     "metadata": {},
     "output_type": "display_data"
    }
   ],
   "source": [
    "kmeans = create_model('kmeans')"
   ]
  },
  {
   "cell_type": "code",
   "execution_count": 20,
   "metadata": {},
   "outputs": [
    {
     "data": {
      "application/vnd.plotly.v1+json": {
       "config": {
        "plotlyServerURL": "https://plot.ly"
       },
       "data": [
        {
         "customdata": [
          [
           null
          ],
          [
           null
          ],
          [
           null
          ],
          [
           null
          ],
          [
           null
          ],
          [
           null
          ],
          [
           null
          ],
          [
           null
          ],
          [
           null
          ],
          [
           null
          ],
          [
           null
          ],
          [
           null
          ],
          [
           null
          ],
          [
           null
          ],
          [
           null
          ],
          [
           null
          ],
          [
           null
          ],
          [
           null
          ],
          [
           null
          ],
          [
           null
          ],
          [
           null
          ],
          [
           null
          ],
          [
           null
          ],
          [
           null
          ],
          [
           null
          ],
          [
           null
          ],
          [
           null
          ],
          [
           null
          ],
          [
           null
          ],
          [
           null
          ],
          [
           null
          ],
          [
           null
          ],
          [
           null
          ],
          [
           null
          ],
          [
           null
          ],
          [
           null
          ],
          [
           null
          ],
          [
           null
          ],
          [
           null
          ],
          [
           null
          ],
          [
           null
          ],
          [
           null
          ],
          [
           null
          ],
          [
           null
          ],
          [
           null
          ],
          [
           null
          ],
          [
           null
          ],
          [
           null
          ],
          [
           null
          ],
          [
           null
          ],
          [
           null
          ],
          [
           null
          ],
          [
           null
          ],
          [
           null
          ],
          [
           null
          ],
          [
           null
          ],
          [
           null
          ],
          [
           null
          ],
          [
           null
          ],
          [
           null
          ],
          [
           null
          ],
          [
           null
          ],
          [
           null
          ],
          [
           null
          ],
          [
           null
          ],
          [
           null
          ],
          [
           null
          ],
          [
           null
          ],
          [
           null
          ],
          [
           null
          ],
          [
           null
          ],
          [
           null
          ],
          [
           null
          ],
          [
           null
          ],
          [
           null
          ],
          [
           null
          ],
          [
           null
          ],
          [
           null
          ],
          [
           null
          ],
          [
           null
          ],
          [
           null
          ],
          [
           null
          ],
          [
           null
          ],
          [
           null
          ],
          [
           null
          ],
          [
           null
          ],
          [
           null
          ],
          [
           null
          ],
          [
           null
          ],
          [
           null
          ],
          [
           null
          ],
          [
           null
          ],
          [
           null
          ],
          [
           null
          ],
          [
           null
          ],
          [
           null
          ],
          [
           null
          ],
          [
           null
          ],
          [
           null
          ],
          [
           null
          ],
          [
           null
          ],
          [
           null
          ],
          [
           null
          ],
          [
           null
          ],
          [
           null
          ],
          [
           null
          ],
          [
           null
          ],
          [
           null
          ],
          [
           null
          ],
          [
           null
          ],
          [
           null
          ],
          [
           null
          ],
          [
           null
          ],
          [
           null
          ],
          [
           null
          ],
          [
           null
          ],
          [
           null
          ],
          [
           null
          ],
          [
           null
          ],
          [
           null
          ],
          [
           null
          ],
          [
           null
          ],
          [
           null
          ],
          [
           null
          ],
          [
           null
          ],
          [
           null
          ],
          [
           null
          ],
          [
           null
          ],
          [
           null
          ],
          [
           null
          ],
          [
           null
          ],
          [
           null
          ],
          [
           null
          ],
          [
           null
          ],
          [
           null
          ],
          [
           null
          ],
          [
           null
          ],
          [
           null
          ],
          [
           null
          ],
          [
           null
          ],
          [
           null
          ],
          [
           null
          ],
          [
           null
          ],
          [
           null
          ],
          [
           null
          ],
          [
           null
          ],
          [
           null
          ],
          [
           null
          ],
          [
           null
          ],
          [
           null
          ],
          [
           null
          ],
          [
           null
          ],
          [
           null
          ],
          [
           null
          ],
          [
           null
          ],
          [
           null
          ],
          [
           null
          ],
          [
           null
          ],
          [
           null
          ],
          [
           null
          ],
          [
           null
          ],
          [
           null
          ],
          [
           null
          ],
          [
           null
          ],
          [
           null
          ],
          [
           null
          ],
          [
           null
          ],
          [
           null
          ],
          [
           null
          ],
          [
           null
          ],
          [
           null
          ],
          [
           null
          ],
          [
           null
          ],
          [
           null
          ],
          [
           null
          ],
          [
           null
          ],
          [
           null
          ],
          [
           null
          ],
          [
           null
          ],
          [
           null
          ],
          [
           null
          ],
          [
           null
          ],
          [
           null
          ],
          [
           null
          ],
          [
           null
          ],
          [
           null
          ],
          [
           null
          ],
          [
           null
          ],
          [
           null
          ],
          [
           null
          ],
          [
           null
          ],
          [
           null
          ],
          [
           null
          ],
          [
           null
          ],
          [
           null
          ],
          [
           null
          ],
          [
           null
          ],
          [
           null
          ],
          [
           null
          ],
          [
           null
          ],
          [
           null
          ],
          [
           null
          ],
          [
           null
          ],
          [
           null
          ],
          [
           null
          ],
          [
           null
          ],
          [
           null
          ],
          [
           null
          ],
          [
           null
          ],
          [
           null
          ],
          [
           null
          ],
          [
           null
          ],
          [
           null
          ],
          [
           null
          ],
          [
           null
          ],
          [
           null
          ],
          [
           null
          ],
          [
           null
          ],
          [
           null
          ]
         ],
         "hovertemplate": "Cluster=Cluster 0<br>PCA1=%{x}<br>PCA2=%{y}<br>Feature=%{customdata[0]}<extra></extra>",
         "legendgroup": "Cluster 0",
         "marker": {
          "color": "#636efa",
          "opacity": 0.5,
          "symbol": "circle"
         },
         "mode": "markers",
         "name": "Cluster 0",
         "orientation": "v",
         "showlegend": true,
         "textposition": "top center",
         "type": "scatter",
         "x": [
          -0.8585401773452759,
          -0.8690325617790222,
          -0.8627066016197205,
          -0.8627071380615234,
          -0.8627066016197205,
          -0.8648355603218079,
          -0.8627066016197205,
          -0.8448871374130249,
          -0.8648202419281006,
          -0.8627014756202698,
          -0.8469655513763428,
          -0.8606233596801758,
          -0.8627066612243652,
          -0.8668907880783081,
          -0.86270672082901,
          -0.8668907880783081,
          -0.8627066016197205,
          -0.8606110215187073,
          -0.8606588840484619,
          -0.6782398819923401,
          -0.8648356199264526,
          -0.8405594825744629,
          -0.8627066016197205,
          -0.8627066016197205,
          -0.8648201823234558,
          -0.8627066016197205,
          -0.8627371788024902,
          -0.8606234788894653,
          -0.8627066016197205,
          -0.8648355603218079,
          -0.864795446395874,
          -0.8585402965545654,
          -0.8627066016197205,
          -0.8557974100112915,
          -0.8600886464118958,
          -0.8585402369499207,
          -0.8585402965545654,
          -0.838744580745697,
          -0.8648050427436829,
          -0.8627066612243652,
          -0.8648050427436829,
          -0.8668450713157654,
          -0.8648355603218079,
          -0.8648050427436829,
          -0.8621358275413513,
          -0.8428699970245361,
          -0.8585402369499207,
          -0.8553534746170044,
          -0.8648050427436829,
          -0.8585401773452759,
          -0.8585401773452759,
          -0.8485783338546753,
          -0.8434906601905823,
          -0.86270672082901,
          -0.8585402965545654,
          -0.8585402369499207,
          -0.8710748553276062,
          -0.8585402369499207,
          -0.8627066016197205,
          -0.8668907284736633,
          -0.8732861280441284,
          -0.86270672082901,
          -0.8627066016197205,
          -0.8627066016197205,
          -0.8585402369499207,
          -0.8627066016197205,
          -0.8585402369499207,
          -0.8627371788024902,
          -0.8585402369499207,
          -0.8585402369499207,
          -0.8732861280441284,
          -0.8648050427436829,
          -0.8690325617790222,
          -0.86270672082901,
          -0.86270672082901,
          -0.8627066016197205,
          -0.8669701814651489,
          -0.8627066612243652,
          -0.8648048639297485,
          -0.8585401177406311,
          -0.8585401177406311,
          -0.8585402965545654,
          -0.8606184720993042,
          -0.8627066612243652,
          -0.8627269268035889,
          -0.8585402369499207,
          -0.8648051023483276,
          -0.8627063632011414,
          -0.8627063632011414,
          -0.8690325617790222,
          -0.8627066612243652,
          -0.8648048043251038,
          -0.8627063035964966,
          -0.8773855566978455,
          -0.8606184720993042,
          -0.86270672082901,
          -0.8648203015327454,
          -0.8648203015327454,
          -0.8585402369499207,
          -0.8606436848640442,
          -0.8627066612243652,
          -0.8606184720993042,
          -0.8627016544342041,
          -0.8668907284736633,
          -0.8648355603218079,
          -0.8648202419281006,
          -0.8585402965545654,
          -0.8585402369499207,
          -0.8353810906410217,
          -0.8648765683174133,
          -0.8648050427436829,
          -0.8585402369499207,
          -0.8585402369499207,
          -0.8585402369499207,
          -0.8627063632011414,
          -0.8710899949073792,
          -0.8648050427436829,
          -0.8648050427436829,
          -0.8585402369499207,
          -0.8627268671989441,
          -0.8557974696159363,
          -0.8469603061676025,
          -0.8511057496070862,
          -0.8511057496070862,
          -0.8753534555435181,
          -0.8534055352210999,
          -0.8355805277824402,
          -0.8585402965545654,
          -0.8774780035018921,
          -0.8585402965545654,
          -0.8648201823234558,
          -0.8648049831390381,
          -0.8517699837684631,
          -0.019404398277401924,
          -0.8585402369499207,
          -0.8474816083908081,
          -0.8421828746795654,
          -0.8585402369499207,
          -0.8648050427436829,
          -0.8648048043251038,
          -0.8606184720993042,
          -0.8627066016197205,
          -0.8381597995758057,
          -0.8648049831390381,
          -0.8627066612243652,
          -0.8585402965545654,
          -0.8585402965545654,
          -0.8553432822227478,
          -0.8434906601905823,
          -0.869032621383667,
          -0.8647955060005188,
          -0.8648050427436829,
          -0.8405594825744629,
          -0.8627063632011414,
          -0.8585402965545654,
          -0.8668449521064758,
          -0.8690325617790222,
          -0.8381597399711609,
          -0.8585402369499207,
          -0.86270672082901,
          -0.8668449521064758,
          -0.8421828746795654,
          -0.6411942839622498,
          -0.8648049831390381,
          -0.8469602465629578,
          -0.8585402965545654,
          -0.8474816083908081,
          -0.8553534746170044,
          -0.8544251918792725,
          -0.8647903203964233,
          -0.8627424240112305,
          -0.8648049831390381,
          -0.6319141387939453,
          -0.8627066612243652,
          -0.8043575882911682,
          -0.8485782742500305,
          -0.8478465676307678,
          -0.8469602465629578,
          -0.8668450713157654,
          -0.8585402369499207,
          -0.8606539368629456,
          -0.8648050427436829,
          -0.8648050427436829,
          -0.8585401773452759,
          0.9536890387535095,
          -0.8292009830474854,
          -0.8606184720993042,
          -0.8585402965545654,
          -0.8648050427436829,
          -0.8690325617790222,
          -0.8648050427436829,
          -0.8585402369499207,
          -0.8585402369499207,
          -0.8627066612243652,
          -0.8648049831390381,
          -0.8608493804931641,
          -0.8648049831390381,
          -0.8585402965545654,
          -0.8553523421287537,
          -0.8585402369499207,
          -0.8606183528900146,
          -0.8648050427436829,
          -0.8575310111045837,
          -0.8405594825744629,
          -0.8648051023483276,
          -0.8648051023483276,
          -0.8648355603218079,
          -0.8585402369499207,
          -0.8585402965545654,
          -0.8585402965545654,
          -0.8648049831390381,
          -0.8647953867912292,
          -0.8534055352210999,
          -0.8585401177406311,
          -0.8606184720993042,
          -0.8585401177406311,
          -0.8585401177406311,
          -0.8606183528900146,
          -0.8544251322746277
         ],
         "xaxis": "x",
         "y": [
          0.044323377311229706,
          0.04803409054875374,
          0.045736316591501236,
          0.04535729065537453,
          0.045736294239759445,
          0.04654807969927788,
          0.045736294239759445,
          0.03249029442667961,
          0.04651201516389847,
          0.04572581499814987,
          0.032813817262649536,
          0.04503003507852554,
          0.045736346393823624,
          0.047365739941596985,
          0.04573630914092064,
          0.04736575484275818,
          0.04573630914092064,
          0.04516991972923279,
          0.04510949179530144,
          -0.27530625462532043,
          0.04654810577630997,
          0.008211040869355202,
          0.04573630541563034,
          0.045736320316791534,
          0.04651253670454025,
          0.045736316591501236,
          0.04580831900238991,
          0.04502939060330391,
          0.04573630541563034,
          0.04654806852340698,
          0.04606936499476433,
          0.04432280734181404,
          0.04573630541563034,
          0.02759297378361225,
          0.03860091790556908,
          0.04432278499007225,
          0.04432278871536255,
          0.047813598066568375,
          0.04647742211818695,
          0.04573630541563034,
          0.046477463096380234,
          0.04725213721394539,
          0.04654807969927788,
          0.046477463096380234,
          0.039393100887537,
          0.0321555994451046,
          0.04432278499007225,
          0.022007636725902557,
          0.046477463096380234,
          0.044323377311229706,
          0.0443233996629715,
          0.04396216198801994,
          0.02458939328789711,
          0.045736316591501236,
          0.04432280361652374,
          0.04432280734181404,
          0.04864567145705223,
          0.04432280734181404,
          0.045736294239759445,
          0.047365739941596985,
          0.049658242613077164,
          0.045736346393823624,
          0.04573632776737213,
          0.04573630541563034,
          0.04432278499007225,
          0.04573630541563034,
          0.044322796165943146,
          0.04580831900238991,
          0.04432275518774986,
          0.04432277753949165,
          0.04965820536017418,
          0.046477433294057846,
          0.04803409054875374,
          0.04573632776737213,
          0.04573632776737213,
          0.04573630541563034,
          0.04737979918718338,
          0.04573630541563034,
          0.046478137373924255,
          0.044323407113552094,
          0.0443233847618103,
          0.04432280734181404,
          0.04501846432685852,
          0.04573633521795273,
          0.04578195884823799,
          0.044322796165943146,
          0.046477485448122025,
          0.04573696851730347,
          0.045737020671367645,
          0.04803409054875374,
          0.045736316591501236,
          0.04647799953818321,
          0.04573695734143257,
          0.05090980604290962,
          0.0450185127556324,
          0.045736297965049744,
          0.04651201516389847,
          0.046512018889188766,
          0.044322822242975235,
          0.045075029134750366,
          0.045736294239759445,
          0.045018453150987625,
          0.045725200325250626,
          0.04736573249101639,
          0.04654806852340698,
          0.04651252552866936,
          0.04432277753949165,
          0.04432278499007225,
          0.02165495604276657,
          0.04664766415953636,
          0.046477410942316055,
          0.044322796165943146,
          0.044322796165943146,
          0.04432277753949165,
          0.045736923813819885,
          0.04868007078766823,
          0.046477410942316055,
          0.046477481722831726,
          0.04432274401187897,
          0.045781947672367096,
          0.027593011036515236,
          0.0331810787320137,
          0.048085734248161316,
          0.04808572679758072,
          0.05032368749380112,
          0.023112120106816292,
          0.040811169892549515,
          0.04432277753949165,
          0.05113362893462181,
          0.04432279244065285,
          0.04651253670454025,
          0.04647747427225113,
          0.06547713279724121,
          -0.16259442269802094,
          0.04432278499007225,
          0.012511893175542355,
          0.055523619055747986,
          0.04432277753949165,
          0.046477433294057846,
          0.046478189527988434,
          0.04501846432685852,
          0.04573630541563034,
          0.060028787702322006,
          0.04647739976644516,
          0.045736316591501236,
          0.04432278871536255,
          0.04432278871536255,
          0.022011155262589455,
          0.024588504806160927,
          0.04803314432501793,
          0.04606964439153671,
          0.04647689685225487,
          0.008211030624806881,
          0.04573693871498108,
          0.044322799891233444,
          0.04725218564271927,
          0.04803409054875374,
          0.060028787702322006,
          0.04432280734181404,
          0.04573630541563034,
          0.047252144664525986,
          0.05552361533045769,
          -0.3702787458896637,
          0.046477437019348145,
          0.033181093633174896,
          0.04432279244065285,
          0.01251220889389515,
          0.02200787141919136,
          0.05614861845970154,
          0.046058230102062225,
          0.045821018517017365,
          0.046477437019348145,
          -0.3609762191772461,
          0.04573630541563034,
          0.10582045465707779,
          0.043962135910987854,
          0.051268428564071655,
          0.033181093633174896,
          0.04725213721394539,
          0.044322796165943146,
          0.045100439339876175,
          0.046477463096380234,
          0.046477433294057846,
          0.044323332607746124,
          0.9555869102478027,
          0.03646482527256012,
          0.045018453150987625,
          0.04432278499007225,
          0.046477433294057846,
          0.04803409054875374,
          0.04647742584347725,
          0.04432278499007225,
          0.04432277753949165,
          0.045736316591501236,
          0.046477414667606354,
          0.02088768221437931,
          0.04647744819521904,
          0.04432278499007225,
          0.022008007392287254,
          0.044322796165943146,
          0.04501848295331001,
          0.046477437019348145,
          0.054819900542497635,
          0.008211054839193821,
          0.04647744446992874,
          0.046477433294057846,
          0.04654806852340698,
          0.044322796165943146,
          0.044322770088911057,
          0.04432280734181404,
          0.04647744819521904,
          0.046069372445344925,
          0.02311212196946144,
          0.0443233959376812,
          0.04501846432685852,
          0.044323407113552094,
          0.044323332607746124,
          0.045018453150987625,
          0.05614857003092766
         ],
         "yaxis": "y"
        },
        {
         "customdata": [
          [
           null
          ],
          [
           null
          ],
          [
           null
          ],
          [
           null
          ],
          [
           null
          ],
          [
           null
          ],
          [
           null
          ],
          [
           null
          ],
          [
           null
          ],
          [
           null
          ],
          [
           null
          ],
          [
           null
          ],
          [
           null
          ],
          [
           null
          ],
          [
           null
          ],
          [
           null
          ],
          [
           null
          ],
          [
           null
          ],
          [
           null
          ],
          [
           null
          ],
          [
           null
          ]
         ],
         "hovertemplate": "Cluster=Cluster 1<br>PCA1=%{x}<br>PCA2=%{y}<br>Feature=%{customdata[0]}<extra></extra>",
         "legendgroup": "Cluster 1",
         "marker": {
          "color": "#EF553B",
          "opacity": 0.5,
          "symbol": "circle"
         },
         "mode": "markers",
         "name": "Cluster 1",
         "orientation": "v",
         "showlegend": true,
         "textposition": "top center",
         "type": "scatter",
         "x": [
          2.558603525161743,
          2.2146925926208496,
          4.139716625213623,
          4.630105018615723,
          4.974153518676758,
          3.0314230918884277,
          3.7298178672790527,
          2.770928382873535,
          3.861192464828491,
          1.53299880027771,
          2.7006356716156006,
          3.537470579147339,
          3.5050277709960938,
          2.8441355228424072,
          1.5004351139068604,
          3.396043539047241,
          3.929957389831543,
          4.572562217712402,
          2.8037960529327393,
          2.7025201320648193,
          1.6843644380569458
         ],
         "xaxis": "x",
         "y": [
          0.709130585193634,
          0.9031229019165039,
          1.758431077003479,
          0.5665779113769531,
          -0.06730158627033234,
          2.41573166847229,
          1.835890293121338,
          0.3340224623680115,
          2.555612325668335,
          1.0206512212753296,
          2.4615180492401123,
          2.2109968662261963,
          2.3884832859039307,
          1.5200295448303223,
          -0.34530240297317505,
          0.2675958573818207,
          0.1954234093427658,
          3.3353917598724365,
          1.3689533472061157,
          1.6464036703109741,
          0.7791696786880493
         ],
         "yaxis": "y"
        },
        {
         "customdata": [
          [
           null
          ],
          [
           null
          ],
          [
           null
          ],
          [
           null
          ],
          [
           null
          ],
          [
           null
          ],
          [
           null
          ],
          [
           null
          ],
          [
           null
          ],
          [
           null
          ],
          [
           null
          ],
          [
           null
          ],
          [
           null
          ],
          [
           null
          ],
          [
           null
          ],
          [
           null
          ],
          [
           null
          ],
          [
           null
          ],
          [
           null
          ],
          [
           null
          ],
          [
           null
          ],
          [
           null
          ],
          [
           null
          ],
          [
           null
          ],
          [
           null
          ],
          [
           null
          ],
          [
           null
          ],
          [
           null
          ],
          [
           null
          ],
          [
           null
          ],
          [
           null
          ],
          [
           null
          ],
          [
           null
          ],
          [
           null
          ],
          [
           null
          ]
         ],
         "hovertemplate": "Cluster=Cluster 2<br>PCA1=%{x}<br>PCA2=%{y}<br>Feature=%{customdata[0]}<extra></extra>",
         "legendgroup": "Cluster 2",
         "marker": {
          "color": "#00cc96",
          "opacity": 0.5,
          "symbol": "circle"
         },
         "mode": "markers",
         "name": "Cluster 2",
         "orientation": "v",
         "showlegend": true,
         "textposition": "top center",
         "type": "scatter",
         "x": [
          3.837427854537964,
          1.3029229640960693,
          3.0237183570861816,
          3.078598976135254,
          2.32119083404541,
          4.605480670928955,
          2.3873136043548584,
          2.3396427631378174,
          0.8514662384986877,
          3.549299955368042,
          3.8857908248901367,
          3.4937705993652344,
          2.6402692794799805,
          1.7814997434616089,
          2.6047513484954834,
          1.2729599475860596,
          1.4451117515563965,
          3.0704402923583984,
          1.0895448923110962,
          2.007050037384033,
          3.4274628162384033,
          1.3502037525177002,
          2.7892050743103027,
          3.4503426551818848,
          1.6542068719863892,
          4.342055797576904,
          2.0162932872772217,
          1.8480597734451294,
          2.6380116939544678,
          2.3257904052734375,
          1.415661334991455,
          2.8525454998016357,
          2.0221633911132812,
          2.7126832008361816,
          2.5700929164886475
         ],
         "xaxis": "x",
         "y": [
          -1.4505319595336914,
          -1.725516676902771,
          -0.3375963866710663,
          -2.032256603240967,
          -1.9238924980163574,
          -0.1806209534406662,
          -0.7780773639678955,
          -1.6516793966293335,
          -0.48272934556007385,
          -2.667609214782715,
          -1.5100992918014526,
          -1.0036895275115967,
          0.11868835985660553,
          -0.031370311975479126,
          -1.8976136445999146,
          -1.4402828216552734,
          -0.28643175959587097,
          -0.45998066663742065,
          -1.8553922176361084,
          0.18526767194271088,
          -0.47692278027534485,
          -1.1907700300216675,
          -0.5051376819610596,
          -1.7535008192062378,
          -0.862841784954071,
          -2.379286289215088,
          -0.337838351726532,
          -1.4573047161102295,
          -1.565940499305725,
          -1.1626635789871216,
          -0.5506806373596191,
          -1.1311122179031372,
          -2.31809139251709,
          -2.358506441116333,
          -0.0260604415088892
         ],
         "yaxis": "y"
        },
        {
         "customdata": [
          [
           null
          ],
          [
           null
          ],
          [
           null
          ],
          [
           null
          ],
          [
           null
          ]
         ],
         "hovertemplate": "Cluster=Cluster 3<br>PCA1=%{x}<br>PCA2=%{y}<br>Feature=%{customdata[0]}<extra></extra>",
         "legendgroup": "Cluster 3",
         "marker": {
          "color": "#ab63fa",
          "opacity": 0.5,
          "symbol": "circle"
         },
         "mode": "markers",
         "name": "Cluster 3",
         "orientation": "v",
         "showlegend": true,
         "textposition": "top center",
         "type": "scatter",
         "x": [
          4.758078098297119,
          6.014571189880371,
          6.903243064880371,
          6.210423469543457,
          6.489576816558838
         ],
         "xaxis": "x",
         "y": [
          -0.5859955549240112,
          0.7764450907707214,
          1.574869155883789,
          1.4475229978561401,
          -0.7873677611351013
         ],
         "yaxis": "y"
        }
       ],
       "layout": {
        "height": 600,
        "legend": {
         "title": {
          "text": "Cluster"
         },
         "tracegroupgap": 0
        },
        "margin": {
         "t": 60
        },
        "plot_bgcolor": "rgb(240,240,240)",
        "template": {
         "data": {
          "bar": [
           {
            "error_x": {
             "color": "#2a3f5f"
            },
            "error_y": {
             "color": "#2a3f5f"
            },
            "marker": {
             "line": {
              "color": "#E5ECF6",
              "width": 0.5
             },
             "pattern": {
              "fillmode": "overlay",
              "size": 10,
              "solidity": 0.2
             }
            },
            "type": "bar"
           }
          ],
          "barpolar": [
           {
            "marker": {
             "line": {
              "color": "#E5ECF6",
              "width": 0.5
             },
             "pattern": {
              "fillmode": "overlay",
              "size": 10,
              "solidity": 0.2
             }
            },
            "type": "barpolar"
           }
          ],
          "carpet": [
           {
            "aaxis": {
             "endlinecolor": "#2a3f5f",
             "gridcolor": "white",
             "linecolor": "white",
             "minorgridcolor": "white",
             "startlinecolor": "#2a3f5f"
            },
            "baxis": {
             "endlinecolor": "#2a3f5f",
             "gridcolor": "white",
             "linecolor": "white",
             "minorgridcolor": "white",
             "startlinecolor": "#2a3f5f"
            },
            "type": "carpet"
           }
          ],
          "choropleth": [
           {
            "colorbar": {
             "outlinewidth": 0,
             "ticks": ""
            },
            "type": "choropleth"
           }
          ],
          "contour": [
           {
            "colorbar": {
             "outlinewidth": 0,
             "ticks": ""
            },
            "colorscale": [
             [
              0,
              "#0d0887"
             ],
             [
              0.1111111111111111,
              "#46039f"
             ],
             [
              0.2222222222222222,
              "#7201a8"
             ],
             [
              0.3333333333333333,
              "#9c179e"
             ],
             [
              0.4444444444444444,
              "#bd3786"
             ],
             [
              0.5555555555555556,
              "#d8576b"
             ],
             [
              0.6666666666666666,
              "#ed7953"
             ],
             [
              0.7777777777777778,
              "#fb9f3a"
             ],
             [
              0.8888888888888888,
              "#fdca26"
             ],
             [
              1,
              "#f0f921"
             ]
            ],
            "type": "contour"
           }
          ],
          "contourcarpet": [
           {
            "colorbar": {
             "outlinewidth": 0,
             "ticks": ""
            },
            "type": "contourcarpet"
           }
          ],
          "heatmap": [
           {
            "colorbar": {
             "outlinewidth": 0,
             "ticks": ""
            },
            "colorscale": [
             [
              0,
              "#0d0887"
             ],
             [
              0.1111111111111111,
              "#46039f"
             ],
             [
              0.2222222222222222,
              "#7201a8"
             ],
             [
              0.3333333333333333,
              "#9c179e"
             ],
             [
              0.4444444444444444,
              "#bd3786"
             ],
             [
              0.5555555555555556,
              "#d8576b"
             ],
             [
              0.6666666666666666,
              "#ed7953"
             ],
             [
              0.7777777777777778,
              "#fb9f3a"
             ],
             [
              0.8888888888888888,
              "#fdca26"
             ],
             [
              1,
              "#f0f921"
             ]
            ],
            "type": "heatmap"
           }
          ],
          "heatmapgl": [
           {
            "colorbar": {
             "outlinewidth": 0,
             "ticks": ""
            },
            "colorscale": [
             [
              0,
              "#0d0887"
             ],
             [
              0.1111111111111111,
              "#46039f"
             ],
             [
              0.2222222222222222,
              "#7201a8"
             ],
             [
              0.3333333333333333,
              "#9c179e"
             ],
             [
              0.4444444444444444,
              "#bd3786"
             ],
             [
              0.5555555555555556,
              "#d8576b"
             ],
             [
              0.6666666666666666,
              "#ed7953"
             ],
             [
              0.7777777777777778,
              "#fb9f3a"
             ],
             [
              0.8888888888888888,
              "#fdca26"
             ],
             [
              1,
              "#f0f921"
             ]
            ],
            "type": "heatmapgl"
           }
          ],
          "histogram": [
           {
            "marker": {
             "pattern": {
              "fillmode": "overlay",
              "size": 10,
              "solidity": 0.2
             }
            },
            "type": "histogram"
           }
          ],
          "histogram2d": [
           {
            "colorbar": {
             "outlinewidth": 0,
             "ticks": ""
            },
            "colorscale": [
             [
              0,
              "#0d0887"
             ],
             [
              0.1111111111111111,
              "#46039f"
             ],
             [
              0.2222222222222222,
              "#7201a8"
             ],
             [
              0.3333333333333333,
              "#9c179e"
             ],
             [
              0.4444444444444444,
              "#bd3786"
             ],
             [
              0.5555555555555556,
              "#d8576b"
             ],
             [
              0.6666666666666666,
              "#ed7953"
             ],
             [
              0.7777777777777778,
              "#fb9f3a"
             ],
             [
              0.8888888888888888,
              "#fdca26"
             ],
             [
              1,
              "#f0f921"
             ]
            ],
            "type": "histogram2d"
           }
          ],
          "histogram2dcontour": [
           {
            "colorbar": {
             "outlinewidth": 0,
             "ticks": ""
            },
            "colorscale": [
             [
              0,
              "#0d0887"
             ],
             [
              0.1111111111111111,
              "#46039f"
             ],
             [
              0.2222222222222222,
              "#7201a8"
             ],
             [
              0.3333333333333333,
              "#9c179e"
             ],
             [
              0.4444444444444444,
              "#bd3786"
             ],
             [
              0.5555555555555556,
              "#d8576b"
             ],
             [
              0.6666666666666666,
              "#ed7953"
             ],
             [
              0.7777777777777778,
              "#fb9f3a"
             ],
             [
              0.8888888888888888,
              "#fdca26"
             ],
             [
              1,
              "#f0f921"
             ]
            ],
            "type": "histogram2dcontour"
           }
          ],
          "mesh3d": [
           {
            "colorbar": {
             "outlinewidth": 0,
             "ticks": ""
            },
            "type": "mesh3d"
           }
          ],
          "parcoords": [
           {
            "line": {
             "colorbar": {
              "outlinewidth": 0,
              "ticks": ""
             }
            },
            "type": "parcoords"
           }
          ],
          "pie": [
           {
            "automargin": true,
            "type": "pie"
           }
          ],
          "scatter": [
           {
            "fillpattern": {
             "fillmode": "overlay",
             "size": 10,
             "solidity": 0.2
            },
            "type": "scatter"
           }
          ],
          "scatter3d": [
           {
            "line": {
             "colorbar": {
              "outlinewidth": 0,
              "ticks": ""
             }
            },
            "marker": {
             "colorbar": {
              "outlinewidth": 0,
              "ticks": ""
             }
            },
            "type": "scatter3d"
           }
          ],
          "scattercarpet": [
           {
            "marker": {
             "colorbar": {
              "outlinewidth": 0,
              "ticks": ""
             }
            },
            "type": "scattercarpet"
           }
          ],
          "scattergeo": [
           {
            "marker": {
             "colorbar": {
              "outlinewidth": 0,
              "ticks": ""
             }
            },
            "type": "scattergeo"
           }
          ],
          "scattergl": [
           {
            "marker": {
             "colorbar": {
              "outlinewidth": 0,
              "ticks": ""
             }
            },
            "type": "scattergl"
           }
          ],
          "scattermapbox": [
           {
            "marker": {
             "colorbar": {
              "outlinewidth": 0,
              "ticks": ""
             }
            },
            "type": "scattermapbox"
           }
          ],
          "scatterpolar": [
           {
            "marker": {
             "colorbar": {
              "outlinewidth": 0,
              "ticks": ""
             }
            },
            "type": "scatterpolar"
           }
          ],
          "scatterpolargl": [
           {
            "marker": {
             "colorbar": {
              "outlinewidth": 0,
              "ticks": ""
             }
            },
            "type": "scatterpolargl"
           }
          ],
          "scatterternary": [
           {
            "marker": {
             "colorbar": {
              "outlinewidth": 0,
              "ticks": ""
             }
            },
            "type": "scatterternary"
           }
          ],
          "surface": [
           {
            "colorbar": {
             "outlinewidth": 0,
             "ticks": ""
            },
            "colorscale": [
             [
              0,
              "#0d0887"
             ],
             [
              0.1111111111111111,
              "#46039f"
             ],
             [
              0.2222222222222222,
              "#7201a8"
             ],
             [
              0.3333333333333333,
              "#9c179e"
             ],
             [
              0.4444444444444444,
              "#bd3786"
             ],
             [
              0.5555555555555556,
              "#d8576b"
             ],
             [
              0.6666666666666666,
              "#ed7953"
             ],
             [
              0.7777777777777778,
              "#fb9f3a"
             ],
             [
              0.8888888888888888,
              "#fdca26"
             ],
             [
              1,
              "#f0f921"
             ]
            ],
            "type": "surface"
           }
          ],
          "table": [
           {
            "cells": {
             "fill": {
              "color": "#EBF0F8"
             },
             "line": {
              "color": "white"
             }
            },
            "header": {
             "fill": {
              "color": "#C8D4E3"
             },
             "line": {
              "color": "white"
             }
            },
            "type": "table"
           }
          ]
         },
         "layout": {
          "annotationdefaults": {
           "arrowcolor": "#2a3f5f",
           "arrowhead": 0,
           "arrowwidth": 1
          },
          "autotypenumbers": "strict",
          "coloraxis": {
           "colorbar": {
            "outlinewidth": 0,
            "ticks": ""
           }
          },
          "colorscale": {
           "diverging": [
            [
             0,
             "#8e0152"
            ],
            [
             0.1,
             "#c51b7d"
            ],
            [
             0.2,
             "#de77ae"
            ],
            [
             0.3,
             "#f1b6da"
            ],
            [
             0.4,
             "#fde0ef"
            ],
            [
             0.5,
             "#f7f7f7"
            ],
            [
             0.6,
             "#e6f5d0"
            ],
            [
             0.7,
             "#b8e186"
            ],
            [
             0.8,
             "#7fbc41"
            ],
            [
             0.9,
             "#4d9221"
            ],
            [
             1,
             "#276419"
            ]
           ],
           "sequential": [
            [
             0,
             "#0d0887"
            ],
            [
             0.1111111111111111,
             "#46039f"
            ],
            [
             0.2222222222222222,
             "#7201a8"
            ],
            [
             0.3333333333333333,
             "#9c179e"
            ],
            [
             0.4444444444444444,
             "#bd3786"
            ],
            [
             0.5555555555555556,
             "#d8576b"
            ],
            [
             0.6666666666666666,
             "#ed7953"
            ],
            [
             0.7777777777777778,
             "#fb9f3a"
            ],
            [
             0.8888888888888888,
             "#fdca26"
            ],
            [
             1,
             "#f0f921"
            ]
           ],
           "sequentialminus": [
            [
             0,
             "#0d0887"
            ],
            [
             0.1111111111111111,
             "#46039f"
            ],
            [
             0.2222222222222222,
             "#7201a8"
            ],
            [
             0.3333333333333333,
             "#9c179e"
            ],
            [
             0.4444444444444444,
             "#bd3786"
            ],
            [
             0.5555555555555556,
             "#d8576b"
            ],
            [
             0.6666666666666666,
             "#ed7953"
            ],
            [
             0.7777777777777778,
             "#fb9f3a"
            ],
            [
             0.8888888888888888,
             "#fdca26"
            ],
            [
             1,
             "#f0f921"
            ]
           ]
          },
          "colorway": [
           "#636efa",
           "#EF553B",
           "#00cc96",
           "#ab63fa",
           "#FFA15A",
           "#19d3f3",
           "#FF6692",
           "#B6E880",
           "#FF97FF",
           "#FECB52"
          ],
          "font": {
           "color": "#2a3f5f"
          },
          "geo": {
           "bgcolor": "white",
           "lakecolor": "white",
           "landcolor": "#E5ECF6",
           "showlakes": true,
           "showland": true,
           "subunitcolor": "white"
          },
          "hoverlabel": {
           "align": "left"
          },
          "hovermode": "closest",
          "mapbox": {
           "style": "light"
          },
          "paper_bgcolor": "white",
          "plot_bgcolor": "#E5ECF6",
          "polar": {
           "angularaxis": {
            "gridcolor": "white",
            "linecolor": "white",
            "ticks": ""
           },
           "bgcolor": "#E5ECF6",
           "radialaxis": {
            "gridcolor": "white",
            "linecolor": "white",
            "ticks": ""
           }
          },
          "scene": {
           "xaxis": {
            "backgroundcolor": "#E5ECF6",
            "gridcolor": "white",
            "gridwidth": 2,
            "linecolor": "white",
            "showbackground": true,
            "ticks": "",
            "zerolinecolor": "white"
           },
           "yaxis": {
            "backgroundcolor": "#E5ECF6",
            "gridcolor": "white",
            "gridwidth": 2,
            "linecolor": "white",
            "showbackground": true,
            "ticks": "",
            "zerolinecolor": "white"
           },
           "zaxis": {
            "backgroundcolor": "#E5ECF6",
            "gridcolor": "white",
            "gridwidth": 2,
            "linecolor": "white",
            "showbackground": true,
            "ticks": "",
            "zerolinecolor": "white"
           }
          },
          "shapedefaults": {
           "line": {
            "color": "#2a3f5f"
           }
          },
          "ternary": {
           "aaxis": {
            "gridcolor": "white",
            "linecolor": "white",
            "ticks": ""
           },
           "baxis": {
            "gridcolor": "white",
            "linecolor": "white",
            "ticks": ""
           },
           "bgcolor": "#E5ECF6",
           "caxis": {
            "gridcolor": "white",
            "linecolor": "white",
            "ticks": ""
           }
          },
          "title": {
           "x": 0.05
          },
          "xaxis": {
           "automargin": true,
           "gridcolor": "white",
           "linecolor": "white",
           "ticks": "",
           "title": {
            "standoff": 15
           },
           "zerolinecolor": "white",
           "zerolinewidth": 2
          },
          "yaxis": {
           "automargin": true,
           "gridcolor": "white",
           "linecolor": "white",
           "ticks": "",
           "title": {
            "standoff": 15
           },
           "zerolinecolor": "white",
           "zerolinewidth": 2
          }
         }
        },
        "title": {
         "text": "2D Cluster PCA Plot"
        },
        "xaxis": {
         "anchor": "y",
         "domain": [
          0,
          1
         ],
         "title": {
          "text": "PCA1"
         }
        },
        "yaxis": {
         "anchor": "x",
         "domain": [
          0,
          1
         ],
         "title": {
          "text": "PCA2"
         }
        }
       }
      }
     },
     "metadata": {},
     "output_type": "display_data"
    },
    {
     "data": {
      "application/vnd.jupyter.widget-view+json": {
       "model_id": "c132c0819c8f43289e09d72217821d17",
       "version_major": 2,
       "version_minor": 0
      },
      "text/plain": [
       "interactive(children=(ToggleButtons(description='Plot Type:', icons=('',), options=(('Cluster PCA Plot (2d)', …"
      ]
     },
     "metadata": {},
     "output_type": "display_data"
    },
    {
     "data": {
      "application/vnd.plotly.v1+json": {
       "config": {
        "plotlyServerURL": "https://plot.ly"
       },
       "data": [
        {
         "customdata": [
          [
           null
          ],
          [
           null
          ],
          [
           null
          ],
          [
           null
          ],
          [
           null
          ],
          [
           null
          ],
          [
           null
          ],
          [
           null
          ],
          [
           null
          ],
          [
           null
          ],
          [
           null
          ],
          [
           null
          ],
          [
           null
          ],
          [
           null
          ],
          [
           null
          ],
          [
           null
          ],
          [
           null
          ],
          [
           null
          ],
          [
           null
          ],
          [
           null
          ],
          [
           null
          ],
          [
           null
          ],
          [
           null
          ],
          [
           null
          ],
          [
           null
          ],
          [
           null
          ],
          [
           null
          ],
          [
           null
          ],
          [
           null
          ],
          [
           null
          ],
          [
           null
          ],
          [
           null
          ],
          [
           null
          ],
          [
           null
          ],
          [
           null
          ],
          [
           null
          ],
          [
           null
          ],
          [
           null
          ],
          [
           null
          ],
          [
           null
          ],
          [
           null
          ],
          [
           null
          ],
          [
           null
          ],
          [
           null
          ],
          [
           null
          ],
          [
           null
          ],
          [
           null
          ],
          [
           null
          ],
          [
           null
          ],
          [
           null
          ],
          [
           null
          ],
          [
           null
          ],
          [
           null
          ],
          [
           null
          ],
          [
           null
          ],
          [
           null
          ],
          [
           null
          ],
          [
           null
          ],
          [
           null
          ],
          [
           null
          ],
          [
           null
          ],
          [
           null
          ],
          [
           null
          ],
          [
           null
          ],
          [
           null
          ],
          [
           null
          ],
          [
           null
          ],
          [
           null
          ],
          [
           null
          ],
          [
           null
          ],
          [
           null
          ],
          [
           null
          ],
          [
           null
          ],
          [
           null
          ],
          [
           null
          ],
          [
           null
          ],
          [
           null
          ],
          [
           null
          ],
          [
           null
          ],
          [
           null
          ],
          [
           null
          ],
          [
           null
          ],
          [
           null
          ],
          [
           null
          ],
          [
           null
          ],
          [
           null
          ],
          [
           null
          ],
          [
           null
          ],
          [
           null
          ],
          [
           null
          ],
          [
           null
          ],
          [
           null
          ],
          [
           null
          ],
          [
           null
          ],
          [
           null
          ],
          [
           null
          ],
          [
           null
          ],
          [
           null
          ],
          [
           null
          ],
          [
           null
          ],
          [
           null
          ],
          [
           null
          ],
          [
           null
          ],
          [
           null
          ],
          [
           null
          ],
          [
           null
          ],
          [
           null
          ],
          [
           null
          ],
          [
           null
          ],
          [
           null
          ],
          [
           null
          ],
          [
           null
          ],
          [
           null
          ],
          [
           null
          ],
          [
           null
          ],
          [
           null
          ],
          [
           null
          ],
          [
           null
          ],
          [
           null
          ],
          [
           null
          ],
          [
           null
          ],
          [
           null
          ],
          [
           null
          ],
          [
           null
          ],
          [
           null
          ],
          [
           null
          ],
          [
           null
          ],
          [
           null
          ],
          [
           null
          ],
          [
           null
          ],
          [
           null
          ],
          [
           null
          ],
          [
           null
          ],
          [
           null
          ],
          [
           null
          ],
          [
           null
          ],
          [
           null
          ],
          [
           null
          ],
          [
           null
          ],
          [
           null
          ],
          [
           null
          ],
          [
           null
          ],
          [
           null
          ],
          [
           null
          ],
          [
           null
          ],
          [
           null
          ],
          [
           null
          ],
          [
           null
          ],
          [
           null
          ],
          [
           null
          ],
          [
           null
          ],
          [
           null
          ],
          [
           null
          ],
          [
           null
          ],
          [
           null
          ],
          [
           null
          ],
          [
           null
          ],
          [
           null
          ],
          [
           null
          ],
          [
           null
          ],
          [
           null
          ],
          [
           null
          ],
          [
           null
          ],
          [
           null
          ],
          [
           null
          ],
          [
           null
          ],
          [
           null
          ],
          [
           null
          ],
          [
           null
          ],
          [
           null
          ],
          [
           null
          ],
          [
           null
          ],
          [
           null
          ],
          [
           null
          ],
          [
           null
          ],
          [
           null
          ],
          [
           null
          ],
          [
           null
          ],
          [
           null
          ],
          [
           null
          ],
          [
           null
          ],
          [
           null
          ],
          [
           null
          ],
          [
           null
          ],
          [
           null
          ],
          [
           null
          ],
          [
           null
          ],
          [
           null
          ],
          [
           null
          ],
          [
           null
          ],
          [
           null
          ],
          [
           null
          ],
          [
           null
          ],
          [
           null
          ],
          [
           null
          ],
          [
           null
          ],
          [
           null
          ],
          [
           null
          ],
          [
           null
          ],
          [
           null
          ],
          [
           null
          ],
          [
           null
          ],
          [
           null
          ],
          [
           null
          ],
          [
           null
          ],
          [
           null
          ],
          [
           null
          ],
          [
           null
          ],
          [
           null
          ],
          [
           null
          ],
          [
           null
          ],
          [
           null
          ],
          [
           null
          ],
          [
           null
          ],
          [
           null
          ],
          [
           null
          ],
          [
           null
          ],
          [
           null
          ],
          [
           null
          ]
         ],
         "hovertemplate": "Cluster=Cluster 0<br>PCA1=%{x}<br>PCA2=%{y}<br>Feature=%{customdata[0]}<extra></extra>",
         "legendgroup": "Cluster 0",
         "marker": {
          "color": "#636efa",
          "opacity": 0.5,
          "symbol": "circle"
         },
         "mode": "markers",
         "name": "Cluster 0",
         "orientation": "v",
         "showlegend": true,
         "textposition": "top center",
         "type": "scatter",
         "x": [
          -0.8585401773452759,
          -0.8690325617790222,
          -0.8627066016197205,
          -0.8627071380615234,
          -0.8627066016197205,
          -0.8648355603218079,
          -0.8627066016197205,
          -0.8448871374130249,
          -0.8648202419281006,
          -0.8627014756202698,
          -0.8469655513763428,
          -0.8606233596801758,
          -0.8627066612243652,
          -0.8668907880783081,
          -0.86270672082901,
          -0.8668907880783081,
          -0.8627066016197205,
          -0.8606110215187073,
          -0.8606588840484619,
          -0.6782398819923401,
          -0.8648356199264526,
          -0.8405594825744629,
          -0.8627066016197205,
          -0.8627066016197205,
          -0.8648201823234558,
          -0.8627066016197205,
          -0.8627371788024902,
          -0.8606234788894653,
          -0.8627066016197205,
          -0.8648355603218079,
          -0.864795446395874,
          -0.8585402965545654,
          -0.8627066016197205,
          -0.8557974100112915,
          -0.8600886464118958,
          -0.8585402369499207,
          -0.8585402965545654,
          -0.838744580745697,
          -0.8648050427436829,
          -0.8627066612243652,
          -0.8648050427436829,
          -0.8668450713157654,
          -0.8648355603218079,
          -0.8648050427436829,
          -0.8621358275413513,
          -0.8428699970245361,
          -0.8585402369499207,
          -0.8553534746170044,
          -0.8648050427436829,
          -0.8585401773452759,
          -0.8585401773452759,
          -0.8485783338546753,
          -0.8434906601905823,
          -0.86270672082901,
          -0.8585402965545654,
          -0.8585402369499207,
          -0.8710748553276062,
          -0.8585402369499207,
          -0.8627066016197205,
          -0.8668907284736633,
          -0.8732861280441284,
          -0.86270672082901,
          -0.8627066016197205,
          -0.8627066016197205,
          -0.8585402369499207,
          -0.8627066016197205,
          -0.8585402369499207,
          -0.8627371788024902,
          -0.8585402369499207,
          -0.8585402369499207,
          -0.8732861280441284,
          -0.8648050427436829,
          -0.8690325617790222,
          -0.86270672082901,
          -0.86270672082901,
          -0.8627066016197205,
          -0.8669701814651489,
          -0.8627066612243652,
          -0.8648048639297485,
          -0.8585401177406311,
          -0.8585401177406311,
          -0.8585402965545654,
          -0.8606184720993042,
          -0.8627066612243652,
          -0.8627269268035889,
          -0.8585402369499207,
          -0.8648051023483276,
          -0.8627063632011414,
          -0.8627063632011414,
          -0.8690325617790222,
          -0.8627066612243652,
          -0.8648048043251038,
          -0.8627063035964966,
          -0.8773855566978455,
          -0.8606184720993042,
          -0.86270672082901,
          -0.8648203015327454,
          -0.8648203015327454,
          -0.8585402369499207,
          -0.8606436848640442,
          -0.8627066612243652,
          -0.8606184720993042,
          -0.8627016544342041,
          -0.8668907284736633,
          -0.8648355603218079,
          -0.8648202419281006,
          -0.8585402965545654,
          -0.8585402369499207,
          -0.8353810906410217,
          -0.8648765683174133,
          -0.8648050427436829,
          -0.8585402369499207,
          -0.8585402369499207,
          -0.8585402369499207,
          -0.8627063632011414,
          -0.8710899949073792,
          -0.8648050427436829,
          -0.8648050427436829,
          -0.8585402369499207,
          -0.8627268671989441,
          -0.8557974696159363,
          -0.8469603061676025,
          -0.8511057496070862,
          -0.8511057496070862,
          -0.8753534555435181,
          -0.8534055352210999,
          -0.8355805277824402,
          -0.8585402965545654,
          -0.8774780035018921,
          -0.8585402965545654,
          -0.8648201823234558,
          -0.8648049831390381,
          -0.8517699837684631,
          -0.019404398277401924,
          -0.8585402369499207,
          -0.8474816083908081,
          -0.8421828746795654,
          -0.8585402369499207,
          -0.8648050427436829,
          -0.8648048043251038,
          -0.8606184720993042,
          -0.8627066016197205,
          -0.8381597995758057,
          -0.8648049831390381,
          -0.8627066612243652,
          -0.8585402965545654,
          -0.8585402965545654,
          -0.8553432822227478,
          -0.8434906601905823,
          -0.869032621383667,
          -0.8647955060005188,
          -0.8648050427436829,
          -0.8405594825744629,
          -0.8627063632011414,
          -0.8585402965545654,
          -0.8668449521064758,
          -0.8690325617790222,
          -0.8381597399711609,
          -0.8585402369499207,
          -0.86270672082901,
          -0.8668449521064758,
          -0.8421828746795654,
          -0.6411942839622498,
          -0.8648049831390381,
          -0.8469602465629578,
          -0.8585402965545654,
          -0.8474816083908081,
          -0.8553534746170044,
          -0.8544251918792725,
          -0.8647903203964233,
          -0.8627424240112305,
          -0.8648049831390381,
          -0.6319141387939453,
          -0.8627066612243652,
          -0.8043575882911682,
          -0.8485782742500305,
          -0.8478465676307678,
          -0.8469602465629578,
          -0.8668450713157654,
          -0.8585402369499207,
          -0.8606539368629456,
          -0.8648050427436829,
          -0.8648050427436829,
          -0.8585401773452759,
          0.9536890387535095,
          -0.8292009830474854,
          -0.8606184720993042,
          -0.8585402965545654,
          -0.8648050427436829,
          -0.8690325617790222,
          -0.8648050427436829,
          -0.8585402369499207,
          -0.8585402369499207,
          -0.8627066612243652,
          -0.8648049831390381,
          -0.8608493804931641,
          -0.8648049831390381,
          -0.8585402965545654,
          -0.8553523421287537,
          -0.8585402369499207,
          -0.8606183528900146,
          -0.8648050427436829,
          -0.8575310111045837,
          -0.8405594825744629,
          -0.8648051023483276,
          -0.8648051023483276,
          -0.8648355603218079,
          -0.8585402369499207,
          -0.8585402965545654,
          -0.8585402965545654,
          -0.8648049831390381,
          -0.8647953867912292,
          -0.8534055352210999,
          -0.8585401177406311,
          -0.8606184720993042,
          -0.8585401177406311,
          -0.8585401177406311,
          -0.8606183528900146,
          -0.8544251322746277
         ],
         "xaxis": "x",
         "y": [
          0.044323377311229706,
          0.04803409054875374,
          0.045736316591501236,
          0.04535729065537453,
          0.045736294239759445,
          0.04654807969927788,
          0.045736294239759445,
          0.03249029442667961,
          0.04651201516389847,
          0.04572581499814987,
          0.032813817262649536,
          0.04503003507852554,
          0.045736346393823624,
          0.047365739941596985,
          0.04573630914092064,
          0.04736575484275818,
          0.04573630914092064,
          0.04516991972923279,
          0.04510949179530144,
          -0.27530625462532043,
          0.04654810577630997,
          0.008211040869355202,
          0.04573630541563034,
          0.045736320316791534,
          0.04651253670454025,
          0.045736316591501236,
          0.04580831900238991,
          0.04502939060330391,
          0.04573630541563034,
          0.04654806852340698,
          0.04606936499476433,
          0.04432280734181404,
          0.04573630541563034,
          0.02759297378361225,
          0.03860091790556908,
          0.04432278499007225,
          0.04432278871536255,
          0.047813598066568375,
          0.04647742211818695,
          0.04573630541563034,
          0.046477463096380234,
          0.04725213721394539,
          0.04654807969927788,
          0.046477463096380234,
          0.039393100887537,
          0.0321555994451046,
          0.04432278499007225,
          0.022007636725902557,
          0.046477463096380234,
          0.044323377311229706,
          0.0443233996629715,
          0.04396216198801994,
          0.02458939328789711,
          0.045736316591501236,
          0.04432280361652374,
          0.04432280734181404,
          0.04864567145705223,
          0.04432280734181404,
          0.045736294239759445,
          0.047365739941596985,
          0.049658242613077164,
          0.045736346393823624,
          0.04573632776737213,
          0.04573630541563034,
          0.04432278499007225,
          0.04573630541563034,
          0.044322796165943146,
          0.04580831900238991,
          0.04432275518774986,
          0.04432277753949165,
          0.04965820536017418,
          0.046477433294057846,
          0.04803409054875374,
          0.04573632776737213,
          0.04573632776737213,
          0.04573630541563034,
          0.04737979918718338,
          0.04573630541563034,
          0.046478137373924255,
          0.044323407113552094,
          0.0443233847618103,
          0.04432280734181404,
          0.04501846432685852,
          0.04573633521795273,
          0.04578195884823799,
          0.044322796165943146,
          0.046477485448122025,
          0.04573696851730347,
          0.045737020671367645,
          0.04803409054875374,
          0.045736316591501236,
          0.04647799953818321,
          0.04573695734143257,
          0.05090980604290962,
          0.0450185127556324,
          0.045736297965049744,
          0.04651201516389847,
          0.046512018889188766,
          0.044322822242975235,
          0.045075029134750366,
          0.045736294239759445,
          0.045018453150987625,
          0.045725200325250626,
          0.04736573249101639,
          0.04654806852340698,
          0.04651252552866936,
          0.04432277753949165,
          0.04432278499007225,
          0.02165495604276657,
          0.04664766415953636,
          0.046477410942316055,
          0.044322796165943146,
          0.044322796165943146,
          0.04432277753949165,
          0.045736923813819885,
          0.04868007078766823,
          0.046477410942316055,
          0.046477481722831726,
          0.04432274401187897,
          0.045781947672367096,
          0.027593011036515236,
          0.0331810787320137,
          0.048085734248161316,
          0.04808572679758072,
          0.05032368749380112,
          0.023112120106816292,
          0.040811169892549515,
          0.04432277753949165,
          0.05113362893462181,
          0.04432279244065285,
          0.04651253670454025,
          0.04647747427225113,
          0.06547713279724121,
          -0.16259442269802094,
          0.04432278499007225,
          0.012511893175542355,
          0.055523619055747986,
          0.04432277753949165,
          0.046477433294057846,
          0.046478189527988434,
          0.04501846432685852,
          0.04573630541563034,
          0.060028787702322006,
          0.04647739976644516,
          0.045736316591501236,
          0.04432278871536255,
          0.04432278871536255,
          0.022011155262589455,
          0.024588504806160927,
          0.04803314432501793,
          0.04606964439153671,
          0.04647689685225487,
          0.008211030624806881,
          0.04573693871498108,
          0.044322799891233444,
          0.04725218564271927,
          0.04803409054875374,
          0.060028787702322006,
          0.04432280734181404,
          0.04573630541563034,
          0.047252144664525986,
          0.05552361533045769,
          -0.3702787458896637,
          0.046477437019348145,
          0.033181093633174896,
          0.04432279244065285,
          0.01251220889389515,
          0.02200787141919136,
          0.05614861845970154,
          0.046058230102062225,
          0.045821018517017365,
          0.046477437019348145,
          -0.3609762191772461,
          0.04573630541563034,
          0.10582045465707779,
          0.043962135910987854,
          0.051268428564071655,
          0.033181093633174896,
          0.04725213721394539,
          0.044322796165943146,
          0.045100439339876175,
          0.046477463096380234,
          0.046477433294057846,
          0.044323332607746124,
          0.9555869102478027,
          0.03646482527256012,
          0.045018453150987625,
          0.04432278499007225,
          0.046477433294057846,
          0.04803409054875374,
          0.04647742584347725,
          0.04432278499007225,
          0.04432277753949165,
          0.045736316591501236,
          0.046477414667606354,
          0.02088768221437931,
          0.04647744819521904,
          0.04432278499007225,
          0.022008007392287254,
          0.044322796165943146,
          0.04501848295331001,
          0.046477437019348145,
          0.054819900542497635,
          0.008211054839193821,
          0.04647744446992874,
          0.046477433294057846,
          0.04654806852340698,
          0.044322796165943146,
          0.044322770088911057,
          0.04432280734181404,
          0.04647744819521904,
          0.046069372445344925,
          0.02311212196946144,
          0.0443233959376812,
          0.04501846432685852,
          0.044323407113552094,
          0.044323332607746124,
          0.045018453150987625,
          0.05614857003092766
         ],
         "yaxis": "y"
        },
        {
         "customdata": [
          [
           null
          ],
          [
           null
          ],
          [
           null
          ],
          [
           null
          ],
          [
           null
          ],
          [
           null
          ],
          [
           null
          ],
          [
           null
          ],
          [
           null
          ],
          [
           null
          ],
          [
           null
          ],
          [
           null
          ],
          [
           null
          ],
          [
           null
          ],
          [
           null
          ],
          [
           null
          ],
          [
           null
          ],
          [
           null
          ],
          [
           null
          ],
          [
           null
          ],
          [
           null
          ]
         ],
         "hovertemplate": "Cluster=Cluster 1<br>PCA1=%{x}<br>PCA2=%{y}<br>Feature=%{customdata[0]}<extra></extra>",
         "legendgroup": "Cluster 1",
         "marker": {
          "color": "#EF553B",
          "opacity": 0.5,
          "symbol": "circle"
         },
         "mode": "markers",
         "name": "Cluster 1",
         "orientation": "v",
         "showlegend": true,
         "textposition": "top center",
         "type": "scatter",
         "x": [
          2.558603525161743,
          2.2146925926208496,
          4.139716625213623,
          4.630105018615723,
          4.974153518676758,
          3.0314230918884277,
          3.7298178672790527,
          2.770928382873535,
          3.861192464828491,
          1.53299880027771,
          2.7006356716156006,
          3.537470579147339,
          3.5050277709960938,
          2.8441355228424072,
          1.5004351139068604,
          3.396043539047241,
          3.929957389831543,
          4.572562217712402,
          2.8037960529327393,
          2.7025201320648193,
          1.6843644380569458
         ],
         "xaxis": "x",
         "y": [
          0.709130585193634,
          0.9031229019165039,
          1.758431077003479,
          0.5665779113769531,
          -0.06730158627033234,
          2.41573166847229,
          1.835890293121338,
          0.3340224623680115,
          2.555612325668335,
          1.0206512212753296,
          2.4615180492401123,
          2.2109968662261963,
          2.3884832859039307,
          1.5200295448303223,
          -0.34530240297317505,
          0.2675958573818207,
          0.1954234093427658,
          3.3353917598724365,
          1.3689533472061157,
          1.6464036703109741,
          0.7791696786880493
         ],
         "yaxis": "y"
        },
        {
         "customdata": [
          [
           null
          ],
          [
           null
          ],
          [
           null
          ],
          [
           null
          ],
          [
           null
          ],
          [
           null
          ],
          [
           null
          ],
          [
           null
          ],
          [
           null
          ],
          [
           null
          ],
          [
           null
          ],
          [
           null
          ],
          [
           null
          ],
          [
           null
          ],
          [
           null
          ],
          [
           null
          ],
          [
           null
          ],
          [
           null
          ],
          [
           null
          ],
          [
           null
          ],
          [
           null
          ],
          [
           null
          ],
          [
           null
          ],
          [
           null
          ],
          [
           null
          ],
          [
           null
          ],
          [
           null
          ],
          [
           null
          ],
          [
           null
          ],
          [
           null
          ],
          [
           null
          ],
          [
           null
          ],
          [
           null
          ],
          [
           null
          ],
          [
           null
          ]
         ],
         "hovertemplate": "Cluster=Cluster 2<br>PCA1=%{x}<br>PCA2=%{y}<br>Feature=%{customdata[0]}<extra></extra>",
         "legendgroup": "Cluster 2",
         "marker": {
          "color": "#00cc96",
          "opacity": 0.5,
          "symbol": "circle"
         },
         "mode": "markers",
         "name": "Cluster 2",
         "orientation": "v",
         "showlegend": true,
         "textposition": "top center",
         "type": "scatter",
         "x": [
          3.837427854537964,
          1.3029229640960693,
          3.0237183570861816,
          3.078598976135254,
          2.32119083404541,
          4.605480670928955,
          2.3873136043548584,
          2.3396427631378174,
          0.8514662384986877,
          3.549299955368042,
          3.8857908248901367,
          3.4937705993652344,
          2.6402692794799805,
          1.7814997434616089,
          2.6047513484954834,
          1.2729599475860596,
          1.4451117515563965,
          3.0704402923583984,
          1.0895448923110962,
          2.007050037384033,
          3.4274628162384033,
          1.3502037525177002,
          2.7892050743103027,
          3.4503426551818848,
          1.6542068719863892,
          4.342055797576904,
          2.0162932872772217,
          1.8480597734451294,
          2.6380116939544678,
          2.3257904052734375,
          1.415661334991455,
          2.8525454998016357,
          2.0221633911132812,
          2.7126832008361816,
          2.5700929164886475
         ],
         "xaxis": "x",
         "y": [
          -1.4505319595336914,
          -1.725516676902771,
          -0.3375963866710663,
          -2.032256603240967,
          -1.9238924980163574,
          -0.1806209534406662,
          -0.7780773639678955,
          -1.6516793966293335,
          -0.48272934556007385,
          -2.667609214782715,
          -1.5100992918014526,
          -1.0036895275115967,
          0.11868835985660553,
          -0.031370311975479126,
          -1.8976136445999146,
          -1.4402828216552734,
          -0.28643175959587097,
          -0.45998066663742065,
          -1.8553922176361084,
          0.18526767194271088,
          -0.47692278027534485,
          -1.1907700300216675,
          -0.5051376819610596,
          -1.7535008192062378,
          -0.862841784954071,
          -2.379286289215088,
          -0.337838351726532,
          -1.4573047161102295,
          -1.565940499305725,
          -1.1626635789871216,
          -0.5506806373596191,
          -1.1311122179031372,
          -2.31809139251709,
          -2.358506441116333,
          -0.0260604415088892
         ],
         "yaxis": "y"
        },
        {
         "customdata": [
          [
           null
          ],
          [
           null
          ],
          [
           null
          ],
          [
           null
          ],
          [
           null
          ]
         ],
         "hovertemplate": "Cluster=Cluster 3<br>PCA1=%{x}<br>PCA2=%{y}<br>Feature=%{customdata[0]}<extra></extra>",
         "legendgroup": "Cluster 3",
         "marker": {
          "color": "#ab63fa",
          "opacity": 0.5,
          "symbol": "circle"
         },
         "mode": "markers",
         "name": "Cluster 3",
         "orientation": "v",
         "showlegend": true,
         "textposition": "top center",
         "type": "scatter",
         "x": [
          4.758078098297119,
          6.014571189880371,
          6.903243064880371,
          6.210423469543457,
          6.489576816558838
         ],
         "xaxis": "x",
         "y": [
          -0.5859955549240112,
          0.7764450907707214,
          1.574869155883789,
          1.4475229978561401,
          -0.7873677611351013
         ],
         "yaxis": "y"
        }
       ],
       "layout": {
        "height": 600,
        "legend": {
         "title": {
          "text": "Cluster"
         },
         "tracegroupgap": 0
        },
        "margin": {
         "t": 60
        },
        "plot_bgcolor": "rgb(240,240,240)",
        "template": {
         "data": {
          "bar": [
           {
            "error_x": {
             "color": "#2a3f5f"
            },
            "error_y": {
             "color": "#2a3f5f"
            },
            "marker": {
             "line": {
              "color": "#E5ECF6",
              "width": 0.5
             },
             "pattern": {
              "fillmode": "overlay",
              "size": 10,
              "solidity": 0.2
             }
            },
            "type": "bar"
           }
          ],
          "barpolar": [
           {
            "marker": {
             "line": {
              "color": "#E5ECF6",
              "width": 0.5
             },
             "pattern": {
              "fillmode": "overlay",
              "size": 10,
              "solidity": 0.2
             }
            },
            "type": "barpolar"
           }
          ],
          "carpet": [
           {
            "aaxis": {
             "endlinecolor": "#2a3f5f",
             "gridcolor": "white",
             "linecolor": "white",
             "minorgridcolor": "white",
             "startlinecolor": "#2a3f5f"
            },
            "baxis": {
             "endlinecolor": "#2a3f5f",
             "gridcolor": "white",
             "linecolor": "white",
             "minorgridcolor": "white",
             "startlinecolor": "#2a3f5f"
            },
            "type": "carpet"
           }
          ],
          "choropleth": [
           {
            "colorbar": {
             "outlinewidth": 0,
             "ticks": ""
            },
            "type": "choropleth"
           }
          ],
          "contour": [
           {
            "colorbar": {
             "outlinewidth": 0,
             "ticks": ""
            },
            "colorscale": [
             [
              0,
              "#0d0887"
             ],
             [
              0.1111111111111111,
              "#46039f"
             ],
             [
              0.2222222222222222,
              "#7201a8"
             ],
             [
              0.3333333333333333,
              "#9c179e"
             ],
             [
              0.4444444444444444,
              "#bd3786"
             ],
             [
              0.5555555555555556,
              "#d8576b"
             ],
             [
              0.6666666666666666,
              "#ed7953"
             ],
             [
              0.7777777777777778,
              "#fb9f3a"
             ],
             [
              0.8888888888888888,
              "#fdca26"
             ],
             [
              1,
              "#f0f921"
             ]
            ],
            "type": "contour"
           }
          ],
          "contourcarpet": [
           {
            "colorbar": {
             "outlinewidth": 0,
             "ticks": ""
            },
            "type": "contourcarpet"
           }
          ],
          "heatmap": [
           {
            "colorbar": {
             "outlinewidth": 0,
             "ticks": ""
            },
            "colorscale": [
             [
              0,
              "#0d0887"
             ],
             [
              0.1111111111111111,
              "#46039f"
             ],
             [
              0.2222222222222222,
              "#7201a8"
             ],
             [
              0.3333333333333333,
              "#9c179e"
             ],
             [
              0.4444444444444444,
              "#bd3786"
             ],
             [
              0.5555555555555556,
              "#d8576b"
             ],
             [
              0.6666666666666666,
              "#ed7953"
             ],
             [
              0.7777777777777778,
              "#fb9f3a"
             ],
             [
              0.8888888888888888,
              "#fdca26"
             ],
             [
              1,
              "#f0f921"
             ]
            ],
            "type": "heatmap"
           }
          ],
          "heatmapgl": [
           {
            "colorbar": {
             "outlinewidth": 0,
             "ticks": ""
            },
            "colorscale": [
             [
              0,
              "#0d0887"
             ],
             [
              0.1111111111111111,
              "#46039f"
             ],
             [
              0.2222222222222222,
              "#7201a8"
             ],
             [
              0.3333333333333333,
              "#9c179e"
             ],
             [
              0.4444444444444444,
              "#bd3786"
             ],
             [
              0.5555555555555556,
              "#d8576b"
             ],
             [
              0.6666666666666666,
              "#ed7953"
             ],
             [
              0.7777777777777778,
              "#fb9f3a"
             ],
             [
              0.8888888888888888,
              "#fdca26"
             ],
             [
              1,
              "#f0f921"
             ]
            ],
            "type": "heatmapgl"
           }
          ],
          "histogram": [
           {
            "marker": {
             "pattern": {
              "fillmode": "overlay",
              "size": 10,
              "solidity": 0.2
             }
            },
            "type": "histogram"
           }
          ],
          "histogram2d": [
           {
            "colorbar": {
             "outlinewidth": 0,
             "ticks": ""
            },
            "colorscale": [
             [
              0,
              "#0d0887"
             ],
             [
              0.1111111111111111,
              "#46039f"
             ],
             [
              0.2222222222222222,
              "#7201a8"
             ],
             [
              0.3333333333333333,
              "#9c179e"
             ],
             [
              0.4444444444444444,
              "#bd3786"
             ],
             [
              0.5555555555555556,
              "#d8576b"
             ],
             [
              0.6666666666666666,
              "#ed7953"
             ],
             [
              0.7777777777777778,
              "#fb9f3a"
             ],
             [
              0.8888888888888888,
              "#fdca26"
             ],
             [
              1,
              "#f0f921"
             ]
            ],
            "type": "histogram2d"
           }
          ],
          "histogram2dcontour": [
           {
            "colorbar": {
             "outlinewidth": 0,
             "ticks": ""
            },
            "colorscale": [
             [
              0,
              "#0d0887"
             ],
             [
              0.1111111111111111,
              "#46039f"
             ],
             [
              0.2222222222222222,
              "#7201a8"
             ],
             [
              0.3333333333333333,
              "#9c179e"
             ],
             [
              0.4444444444444444,
              "#bd3786"
             ],
             [
              0.5555555555555556,
              "#d8576b"
             ],
             [
              0.6666666666666666,
              "#ed7953"
             ],
             [
              0.7777777777777778,
              "#fb9f3a"
             ],
             [
              0.8888888888888888,
              "#fdca26"
             ],
             [
              1,
              "#f0f921"
             ]
            ],
            "type": "histogram2dcontour"
           }
          ],
          "mesh3d": [
           {
            "colorbar": {
             "outlinewidth": 0,
             "ticks": ""
            },
            "type": "mesh3d"
           }
          ],
          "parcoords": [
           {
            "line": {
             "colorbar": {
              "outlinewidth": 0,
              "ticks": ""
             }
            },
            "type": "parcoords"
           }
          ],
          "pie": [
           {
            "automargin": true,
            "type": "pie"
           }
          ],
          "scatter": [
           {
            "fillpattern": {
             "fillmode": "overlay",
             "size": 10,
             "solidity": 0.2
            },
            "type": "scatter"
           }
          ],
          "scatter3d": [
           {
            "line": {
             "colorbar": {
              "outlinewidth": 0,
              "ticks": ""
             }
            },
            "marker": {
             "colorbar": {
              "outlinewidth": 0,
              "ticks": ""
             }
            },
            "type": "scatter3d"
           }
          ],
          "scattercarpet": [
           {
            "marker": {
             "colorbar": {
              "outlinewidth": 0,
              "ticks": ""
             }
            },
            "type": "scattercarpet"
           }
          ],
          "scattergeo": [
           {
            "marker": {
             "colorbar": {
              "outlinewidth": 0,
              "ticks": ""
             }
            },
            "type": "scattergeo"
           }
          ],
          "scattergl": [
           {
            "marker": {
             "colorbar": {
              "outlinewidth": 0,
              "ticks": ""
             }
            },
            "type": "scattergl"
           }
          ],
          "scattermapbox": [
           {
            "marker": {
             "colorbar": {
              "outlinewidth": 0,
              "ticks": ""
             }
            },
            "type": "scattermapbox"
           }
          ],
          "scatterpolar": [
           {
            "marker": {
             "colorbar": {
              "outlinewidth": 0,
              "ticks": ""
             }
            },
            "type": "scatterpolar"
           }
          ],
          "scatterpolargl": [
           {
            "marker": {
             "colorbar": {
              "outlinewidth": 0,
              "ticks": ""
             }
            },
            "type": "scatterpolargl"
           }
          ],
          "scatterternary": [
           {
            "marker": {
             "colorbar": {
              "outlinewidth": 0,
              "ticks": ""
             }
            },
            "type": "scatterternary"
           }
          ],
          "surface": [
           {
            "colorbar": {
             "outlinewidth": 0,
             "ticks": ""
            },
            "colorscale": [
             [
              0,
              "#0d0887"
             ],
             [
              0.1111111111111111,
              "#46039f"
             ],
             [
              0.2222222222222222,
              "#7201a8"
             ],
             [
              0.3333333333333333,
              "#9c179e"
             ],
             [
              0.4444444444444444,
              "#bd3786"
             ],
             [
              0.5555555555555556,
              "#d8576b"
             ],
             [
              0.6666666666666666,
              "#ed7953"
             ],
             [
              0.7777777777777778,
              "#fb9f3a"
             ],
             [
              0.8888888888888888,
              "#fdca26"
             ],
             [
              1,
              "#f0f921"
             ]
            ],
            "type": "surface"
           }
          ],
          "table": [
           {
            "cells": {
             "fill": {
              "color": "#EBF0F8"
             },
             "line": {
              "color": "white"
             }
            },
            "header": {
             "fill": {
              "color": "#C8D4E3"
             },
             "line": {
              "color": "white"
             }
            },
            "type": "table"
           }
          ]
         },
         "layout": {
          "annotationdefaults": {
           "arrowcolor": "#2a3f5f",
           "arrowhead": 0,
           "arrowwidth": 1
          },
          "autotypenumbers": "strict",
          "coloraxis": {
           "colorbar": {
            "outlinewidth": 0,
            "ticks": ""
           }
          },
          "colorscale": {
           "diverging": [
            [
             0,
             "#8e0152"
            ],
            [
             0.1,
             "#c51b7d"
            ],
            [
             0.2,
             "#de77ae"
            ],
            [
             0.3,
             "#f1b6da"
            ],
            [
             0.4,
             "#fde0ef"
            ],
            [
             0.5,
             "#f7f7f7"
            ],
            [
             0.6,
             "#e6f5d0"
            ],
            [
             0.7,
             "#b8e186"
            ],
            [
             0.8,
             "#7fbc41"
            ],
            [
             0.9,
             "#4d9221"
            ],
            [
             1,
             "#276419"
            ]
           ],
           "sequential": [
            [
             0,
             "#0d0887"
            ],
            [
             0.1111111111111111,
             "#46039f"
            ],
            [
             0.2222222222222222,
             "#7201a8"
            ],
            [
             0.3333333333333333,
             "#9c179e"
            ],
            [
             0.4444444444444444,
             "#bd3786"
            ],
            [
             0.5555555555555556,
             "#d8576b"
            ],
            [
             0.6666666666666666,
             "#ed7953"
            ],
            [
             0.7777777777777778,
             "#fb9f3a"
            ],
            [
             0.8888888888888888,
             "#fdca26"
            ],
            [
             1,
             "#f0f921"
            ]
           ],
           "sequentialminus": [
            [
             0,
             "#0d0887"
            ],
            [
             0.1111111111111111,
             "#46039f"
            ],
            [
             0.2222222222222222,
             "#7201a8"
            ],
            [
             0.3333333333333333,
             "#9c179e"
            ],
            [
             0.4444444444444444,
             "#bd3786"
            ],
            [
             0.5555555555555556,
             "#d8576b"
            ],
            [
             0.6666666666666666,
             "#ed7953"
            ],
            [
             0.7777777777777778,
             "#fb9f3a"
            ],
            [
             0.8888888888888888,
             "#fdca26"
            ],
            [
             1,
             "#f0f921"
            ]
           ]
          },
          "colorway": [
           "#636efa",
           "#EF553B",
           "#00cc96",
           "#ab63fa",
           "#FFA15A",
           "#19d3f3",
           "#FF6692",
           "#B6E880",
           "#FF97FF",
           "#FECB52"
          ],
          "font": {
           "color": "#2a3f5f"
          },
          "geo": {
           "bgcolor": "white",
           "lakecolor": "white",
           "landcolor": "#E5ECF6",
           "showlakes": true,
           "showland": true,
           "subunitcolor": "white"
          },
          "hoverlabel": {
           "align": "left"
          },
          "hovermode": "closest",
          "mapbox": {
           "style": "light"
          },
          "paper_bgcolor": "white",
          "plot_bgcolor": "#E5ECF6",
          "polar": {
           "angularaxis": {
            "gridcolor": "white",
            "linecolor": "white",
            "ticks": ""
           },
           "bgcolor": "#E5ECF6",
           "radialaxis": {
            "gridcolor": "white",
            "linecolor": "white",
            "ticks": ""
           }
          },
          "scene": {
           "xaxis": {
            "backgroundcolor": "#E5ECF6",
            "gridcolor": "white",
            "gridwidth": 2,
            "linecolor": "white",
            "showbackground": true,
            "ticks": "",
            "zerolinecolor": "white"
           },
           "yaxis": {
            "backgroundcolor": "#E5ECF6",
            "gridcolor": "white",
            "gridwidth": 2,
            "linecolor": "white",
            "showbackground": true,
            "ticks": "",
            "zerolinecolor": "white"
           },
           "zaxis": {
            "backgroundcolor": "#E5ECF6",
            "gridcolor": "white",
            "gridwidth": 2,
            "linecolor": "white",
            "showbackground": true,
            "ticks": "",
            "zerolinecolor": "white"
           }
          },
          "shapedefaults": {
           "line": {
            "color": "#2a3f5f"
           }
          },
          "ternary": {
           "aaxis": {
            "gridcolor": "white",
            "linecolor": "white",
            "ticks": ""
           },
           "baxis": {
            "gridcolor": "white",
            "linecolor": "white",
            "ticks": ""
           },
           "bgcolor": "#E5ECF6",
           "caxis": {
            "gridcolor": "white",
            "linecolor": "white",
            "ticks": ""
           }
          },
          "title": {
           "x": 0.05
          },
          "xaxis": {
           "automargin": true,
           "gridcolor": "white",
           "linecolor": "white",
           "ticks": "",
           "title": {
            "standoff": 15
           },
           "zerolinecolor": "white",
           "zerolinewidth": 2
          },
          "yaxis": {
           "automargin": true,
           "gridcolor": "white",
           "linecolor": "white",
           "ticks": "",
           "title": {
            "standoff": 15
           },
           "zerolinecolor": "white",
           "zerolinewidth": 2
          }
         }
        },
        "title": {
         "text": "2D Cluster PCA Plot"
        },
        "xaxis": {
         "anchor": "y",
         "domain": [
          0,
          1
         ],
         "title": {
          "text": "PCA1"
         }
        },
        "yaxis": {
         "anchor": "x",
         "domain": [
          0,
          1
         ],
         "title": {
          "text": "PCA2"
         }
        }
       }
      }
     },
     "metadata": {},
     "output_type": "display_data"
    }
   ],
   "source": [
    "evaluate_model(kmeans)"
   ]
  },
  {
   "cell_type": "code",
   "execution_count": 21,
   "metadata": {},
   "outputs": [
    {
     "data": {
      "text/plain": [
       "AI                          Cluster 3\n",
       "API services                Cluster 0\n",
       "AR                          Cluster 0\n",
       "ASMR                        Cluster 0\n",
       "Ads Technology              Cluster 0\n",
       "                              ...    \n",
       "เรื่องผี                    Cluster 0\n",
       "เรื่องผี สังคม ประเทศ       Cluster 0\n",
       "เรื่องเทคโนโลยีอะไรก็ได้    Cluster 0\n",
       "แนะแนวการเรียนต่อ           Cluster 0\n",
       "แน้วโน้มการจ้างงาน          Cluster 0\n",
       "Name: Cluster, Length: 280, dtype: object"
      ]
     },
     "execution_count": 21,
     "metadata": {},
     "output_type": "execute_result"
    }
   ],
   "source": [
    "result = assign_model(kmeans)\n",
    "df_cluster = result.loc[:, 'Cluster']\n",
    "df_cluster"
   ]
  },
  {
   "cell_type": "code",
   "execution_count": 22,
   "metadata": {},
   "outputs": [],
   "source": [
    "lst = []\n",
    "for i in range(4):\n",
    "    lst.append(df_cluster[df_cluster.isin([f'Cluster {i}'])].index.tolist())"
   ]
  },
  {
   "cell_type": "code",
   "execution_count": 23,
   "metadata": {},
   "outputs": [
    {
     "data": {
      "text/plain": [
       "['API services',\n",
       " 'AR',\n",
       " 'ASMR',\n",
       " 'Ads Technology',\n",
       " 'Agile',\n",
       " 'Android',\n",
       " 'Archery',\n",
       " 'Artificial Intelligence',\n",
       " 'Automation testing',\n",
       " 'Automotive',\n",
       " 'Backend',\n",
       " 'Business',\n",
       " 'CI/CD',\n",
       " 'ChatGPT',\n",
       " 'ChatGPT ในอนาคต ถ้ามีการเปิดใช้แบบตัวเต็ม',\n",
       " 'Cloud',\n",
       " 'Cloud Computing (AWS)',\n",
       " 'Cloud Management',\n",
       " 'Cloud computing',\n",
       " 'Crypto Ai',\n",
       " 'DIY',\n",
       " 'Data',\n",
       " 'Data science',\n",
       " 'Design',\n",
       " 'Design Ops',\n",
       " 'Design token',\n",
       " 'Dev',\n",
       " 'DevOps',\n",
       " 'Evolution of Large Language Model ( BERT',\n",
       " 'Fintech',\n",
       " 'Fishing',\n",
       " 'Food...',\n",
       " 'Frontend',\n",
       " 'Full stack DevOps',\n",
       " 'GPT',\n",
       " 'Game Development',\n",
       " 'Gaming Industry',\n",
       " 'HPC',\n",
       " 'HR',\n",
       " 'High Performance computing',\n",
       " 'Hololive',\n",
       " 'IOT',\n",
       " 'IT',\n",
       " 'Idol',\n",
       " 'Industry knowledge',\n",
       " 'It innovation agile scrum',\n",
       " 'K-Pop',\n",
       " 'Linux',\n",
       " 'Local first software',\n",
       " 'ML',\n",
       " 'MUM',\n",
       " 'Machine Learning',\n",
       " 'MachineLearning',\n",
       " 'Mbti',\n",
       " 'Metaverse',\n",
       " 'Natural (Human) LanguagesLanguages',\n",
       " 'Network Programming',\n",
       " 'New trend tech ตอนนี้',\n",
       " 'None',\n",
       " 'OS',\n",
       " 'PaML)',\n",
       " 'Perl',\n",
       " 'Printing',\n",
       " 'Programmer',\n",
       " 'Programming',\n",
       " 'Python',\n",
       " 'QA',\n",
       " 'Quantum',\n",
       " 'RF',\n",
       " 'SDLC',\n",
       " 'Seach',\n",
       " 'SecOps',\n",
       " 'Self-impovement',\n",
       " 'Social Issue',\n",
       " 'Software',\n",
       " 'Software Development',\n",
       " 'Software Engineering (Ruby',\n",
       " 'Software engineering',\n",
       " 'Streaming Technology',\n",
       " 'Tech',\n",
       " 'Tech Leader',\n",
       " 'Tech Trend',\n",
       " 'Tech ในปัจจุบัน อนาคต',\n",
       " 'Technical Support',\n",
       " 'UX&UI Frontend software dev',\n",
       " 'UX/UI Design',\n",
       " 'VR',\n",
       " 'anime Idol IT',\n",
       " 'anything',\n",
       " 'automation',\n",
       " 'bdsm',\n",
       " 'blockchain',\n",
       " 'call out',\n",
       " 'clip ตลก',\n",
       " 'cloud',\n",
       " 'cloud native',\n",
       " 'computational finance',\n",
       " 'computer vision',\n",
       " 'consumer electronics',\n",
       " 'crypto domino',\n",
       " 'data',\n",
       " 'data analysis',\n",
       " 'data analytics',\n",
       " 'data visualization',\n",
       " 'design thinking',\n",
       " 'economy',\n",
       " 'electronics',\n",
       " 'finance',\n",
       " 'financial',\n",
       " 'food',\n",
       " 'game',\n",
       " 'health',\n",
       " 'hpc',\n",
       " 'iOS',\n",
       " 'information technology',\n",
       " 'k8s',\n",
       " 'life experience',\n",
       " 'linux',\n",
       " 'machine learning',\n",
       " 'marketing',\n",
       " 'math',\n",
       " 'mathematics',\n",
       " 'meme',\n",
       " 'mental health',\n",
       " 'more); World Events',\n",
       " 'neural engineering',\n",
       " 'programming',\n",
       " 'python',\n",
       " 'research',\n",
       " 'science',\n",
       " 'self-development',\n",
       " 'social networking',\n",
       " 'software',\n",
       " 'software design',\n",
       " 'software development',\n",
       " 'tech',\n",
       " 'technology',\n",
       " 'testing',\n",
       " 'travel',\n",
       " 'web developer',\n",
       " 'web development',\n",
       " 'web3',\n",
       " 'กราฟฟิคดีไซด์',\n",
       " 'กล้องฟิล์ม',\n",
       " 'การจัดการ',\n",
       " 'การทำงานในองค์กร',\n",
       " 'การบิน',\n",
       " 'การประยุกต์ใช้เทคโนโลยี',\n",
       " 'การพัฒนาตัวเอง',\n",
       " 'การพัฒนาองค์กร',\n",
       " 'การศึกษา',\n",
       " 'การศึกษา สุขภาพใจ',\n",
       " 'การหารายได้พิเศษ',\n",
       " 'การออกกำลังกาย',\n",
       " 'การเข้าศึกษามหาลัยต่อ',\n",
       " 'การเงิน',\n",
       " 'การเงิน การลงทุน',\n",
       " 'การเงินส่วนบุคคล',\n",
       " 'การเดินทางท่องเที่ยว',\n",
       " 'การเมือง',\n",
       " 'การเมือง/การปกครอง',\n",
       " 'การเรียนต่อ การทำเพลง สังคมไทยในปัจจุบัน เทคโนโลยีในอนาคต',\n",
       " 'การ์ตูน',\n",
       " 'คณิตศาสตร์',\n",
       " 'คลิปเล่าเรื่อง (FM Diary)',\n",
       " 'ความรู้เกี่ยวกับด้าน IT',\n",
       " 'ความรู้เกี่ยวับด้าน Design และอื่น ๆ ที่เกี่ยวข้อง',\n",
       " 'ความเป็นอยู่ของนักเรียน มก',\n",
       " 'คอมพิวเตอร์',\n",
       " 'ชีวิต การทำงาน',\n",
       " 'ดนตรี',\n",
       " 'ด้วยความที่เป็นนักเรียนหนูสนใจเรื่องกาคไม่กล้าแสดงออกของนักเรียนค่ะ',\n",
       " 'ด้านการลงทุน',\n",
       " 'ด้านอาหาร',\n",
       " 'ด้านเทคโนโลยี',\n",
       " 'ทรัพยากรมนุษย์',\n",
       " 'ทั้วไป',\n",
       " 'ธุรกิจ การตลาด อวกาศ',\n",
       " 'บริหารคน',\n",
       " 'ประวัตศาสตร์',\n",
       " 'ประวัติศาสตร์',\n",
       " 'ประเด็นด้านสังคม เช่น ทำแท้งเสรี',\n",
       " 'ภาวะโลกร้อน',\n",
       " 'ภาษา',\n",
       " 'ภาษาญี่ปุ่น',\n",
       " 'มหาวิทยาลัย',\n",
       " 'มีความสนใจด้านเทคโนโลยี',\n",
       " 'รถ',\n",
       " 'รถยนต์ เครื่องกล เครื่องจักร',\n",
       " 'ลงทุน',\n",
       " 'ละคร',\n",
       " 'วิทยาศาตร์',\n",
       " 'วิศวกรรมเเมคคาทรอนิกส์',\n",
       " 'สนใจด้านเทคโนโลยี',\n",
       " 'สนใจเกี่ยวกับอาขีพที่สามารถไปต่อได้เมื่อจบปริญญาตรี คณะวิศวกรรมศาสตร์',\n",
       " 'สัตว์เลี้ยง แนวทางอาชีพ',\n",
       " 'สายงาน software engineer',\n",
       " 'สิ่งแวดล้อมกับเทคโนโลยี',\n",
       " 'สุนัข',\n",
       " 'หัวข้อทั่วไป',\n",
       " 'หัวข้อที่มีความแปลกใจหรือโชว์ไอเดียเจ๋งๆ',\n",
       " 'หัวข้อเกี่ยวกับ Power apps',\n",
       " 'อนิเมะ',\n",
       " 'อยากขับเครื่องบิน',\n",
       " 'อยากทราบความเห็นของบุคคลอื่นๆที่จะได้เข้าร่วม พูดคุยเกี่ยวกับเรื่องต่างๆ สนใจท้อปปิคในการพูดคุยทุกรูปเเบบ',\n",
       " 'อาร์ตเวิร์ค',\n",
       " 'อินเทอร์เน็ต',\n",
       " 'เกม',\n",
       " 'เทคโน',\n",
       " 'เทคโนโลยี',\n",
       " 'เทคโนโลยี การเงิน การขนส่ง',\n",
       " 'เทคโนโลยี เศรษฐกิจ การเมือง',\n",
       " 'เพลง',\n",
       " 'เรื่องที่ไ่ม่เคยรู้มาก่อน',\n",
       " 'เรื่องผี',\n",
       " 'เรื่องผี สังคม ประเทศ',\n",
       " 'เรื่องเทคโนโลยีอะไรก็ได้',\n",
       " 'แนะแนวการเรียนต่อ',\n",
       " 'แน้วโน้มการจ้างงาน']"
      ]
     },
     "execution_count": 23,
     "metadata": {},
     "output_type": "execute_result"
    }
   ],
   "source": [
    "lst[0]"
   ]
  },
  {
   "cell_type": "code",
   "execution_count": 24,
   "metadata": {},
   "outputs": [
    {
     "data": {
      "text/plain": [
       "['Andriod',\n",
       " 'Banking',\n",
       " 'Big Data',\n",
       " 'Blockchain',\n",
       " 'Cloud Computing',\n",
       " 'Cryptocurruncy',\n",
       " 'Cyber Security',\n",
       " 'DeFi',\n",
       " 'Docker',\n",
       " 'Entrepreneurship',\n",
       " 'Finance',\n",
       " 'Hackathons',\n",
       " 'Hackings',\n",
       " 'High Performance Computing',\n",
       " 'Manchine Learning',\n",
       " 'Networking',\n",
       " 'Quantum Computing',\n",
       " 'UX/UI',\n",
       " 'Virtual Reality',\n",
       " 'Web Application',\n",
       " 'Web3']"
      ]
     },
     "execution_count": 24,
     "metadata": {},
     "output_type": "execute_result"
    }
   ],
   "source": [
    "lst[1]"
   ]
  },
  {
   "cell_type": "code",
   "execution_count": 25,
   "metadata": {},
   "outputs": [
    {
     "data": {
      "text/plain": [
       "['Apple Inc.',\n",
       " 'Art',\n",
       " 'Augmented Reality',\n",
       " 'Cooking',\n",
       " 'Dessert',\n",
       " 'Education',\n",
       " 'Election',\n",
       " 'Environment',\n",
       " 'Excercising',\n",
       " 'Food',\n",
       " 'Game',\n",
       " 'Gaming',\n",
       " 'History',\n",
       " 'Human Rights',\n",
       " 'IOS',\n",
       " 'Idols',\n",
       " 'IoT(internet of Things)',\n",
       " 'Japan',\n",
       " 'KPOP',\n",
       " 'Korea',\n",
       " 'Language',\n",
       " 'Mobile',\n",
       " 'Movie',\n",
       " 'Music',\n",
       " 'Nature',\n",
       " 'Netflix',\n",
       " 'Philosophy',\n",
       " 'Politics',\n",
       " 'Restaurant',\n",
       " 'Security',\n",
       " 'Social Media',\n",
       " 'Startup',\n",
       " 'Studying Abroad',\n",
       " 'Travel',\n",
       " 'Youtube']"
      ]
     },
     "execution_count": 25,
     "metadata": {},
     "output_type": "execute_result"
    }
   ],
   "source": [
    "lst[2]"
   ]
  },
  {
   "cell_type": "code",
   "execution_count": 26,
   "metadata": {},
   "outputs": [
    {
     "data": {
      "text/plain": [
       "['AI', 'Anime', 'Coding', 'Computer', 'Technology']"
      ]
     },
     "execution_count": 26,
     "metadata": {},
     "output_type": "execute_result"
    }
   ],
   "source": [
    "lst[3]"
   ]
  }
 ],
 "metadata": {
  "kernelspec": {
   "display_name": "Python 3",
   "language": "python",
   "name": "python3"
  },
  "language_info": {
   "codemirror_mode": {
    "name": "ipython",
    "version": 3
   },
   "file_extension": ".py",
   "mimetype": "text/x-python",
   "name": "python",
   "nbconvert_exporter": "python",
   "pygments_lexer": "ipython3",
   "version": "3.8.0"
  },
  "orig_nbformat": 4,
  "vscode": {
   "interpreter": {
    "hash": "5d04d0ea025a2b5c0a405c24c3ed943d49065a11de485e353892bf0638615a3b"
   }
  }
 },
 "nbformat": 4,
 "nbformat_minor": 2
}
