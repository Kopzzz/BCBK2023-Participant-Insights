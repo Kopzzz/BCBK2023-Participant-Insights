{
 "cells": [
  {
   "attachments": {},
   "cell_type": "markdown",
   "metadata": {},
   "source": [
    "# Importing Libraries"
   ]
  },
  {
   "cell_type": "code",
   "execution_count": 14,
   "metadata": {},
   "outputs": [],
   "source": [
    "import warnings\n",
    "warnings.filterwarnings('ignore')\n",
    "\n",
    "import pandas as pd\n",
    "import numpy as np\n",
    "import matplotlib.pyplot as plt\n",
    "import seaborn as sns\n",
    "\n",
    "from pycaret.clustering import *\n",
    "from sklearn.model_selection import train_test_split, KFold, cross_val_score"
   ]
  },
  {
   "attachments": {},
   "cell_type": "markdown",
   "metadata": {},
   "source": [
    "# Loading the Data"
   ]
  },
  {
   "cell_type": "code",
   "execution_count": 15,
   "metadata": {},
   "outputs": [],
   "source": [
    "df = pd.read_csv('../datasets/interest-dummy.csv')"
   ]
  },
  {
   "attachments": {},
   "cell_type": "markdown",
   "metadata": {},
   "source": [
    "# Data Cleaning & EDA "
   ]
  },
  {
   "cell_type": "code",
   "execution_count": 16,
   "metadata": {},
   "outputs": [
    {
     "data": {
      "text/html": [
       "<div>\n",
       "<style scoped>\n",
       "    .dataframe tbody tr th:only-of-type {\n",
       "        vertical-align: middle;\n",
       "    }\n",
       "\n",
       "    .dataframe tbody tr th {\n",
       "        vertical-align: top;\n",
       "    }\n",
       "\n",
       "    .dataframe thead th {\n",
       "        text-align: right;\n",
       "    }\n",
       "</style>\n",
       "<table border=\"1\" class=\"dataframe\">\n",
       "  <thead>\n",
       "    <tr style=\"text-align: right;\">\n",
       "      <th></th>\n",
       "      <th>0</th>\n",
       "      <th>1</th>\n",
       "      <th>2</th>\n",
       "      <th>3</th>\n",
       "      <th>4</th>\n",
       "      <th>5</th>\n",
       "      <th>6</th>\n",
       "      <th>7</th>\n",
       "      <th>8</th>\n",
       "      <th>9</th>\n",
       "      <th>...</th>\n",
       "      <th>187</th>\n",
       "      <th>188</th>\n",
       "      <th>189</th>\n",
       "      <th>190</th>\n",
       "      <th>191</th>\n",
       "      <th>192</th>\n",
       "      <th>193</th>\n",
       "      <th>194</th>\n",
       "      <th>195</th>\n",
       "      <th>196</th>\n",
       "    </tr>\n",
       "  </thead>\n",
       "  <tbody>\n",
       "    <tr>\n",
       "      <th>AI</th>\n",
       "      <td>0</td>\n",
       "      <td>1</td>\n",
       "      <td>1</td>\n",
       "      <td>1</td>\n",
       "      <td>0</td>\n",
       "      <td>0</td>\n",
       "      <td>0</td>\n",
       "      <td>0</td>\n",
       "      <td>0</td>\n",
       "      <td>1</td>\n",
       "      <td>...</td>\n",
       "      <td>1</td>\n",
       "      <td>0</td>\n",
       "      <td>0</td>\n",
       "      <td>0</td>\n",
       "      <td>0</td>\n",
       "      <td>0</td>\n",
       "      <td>0</td>\n",
       "      <td>0</td>\n",
       "      <td>0</td>\n",
       "      <td>0</td>\n",
       "    </tr>\n",
       "    <tr>\n",
       "      <th>API services</th>\n",
       "      <td>0</td>\n",
       "      <td>0</td>\n",
       "      <td>0</td>\n",
       "      <td>0</td>\n",
       "      <td>0</td>\n",
       "      <td>0</td>\n",
       "      <td>0</td>\n",
       "      <td>0</td>\n",
       "      <td>0</td>\n",
       "      <td>0</td>\n",
       "      <td>...</td>\n",
       "      <td>0</td>\n",
       "      <td>0</td>\n",
       "      <td>0</td>\n",
       "      <td>0</td>\n",
       "      <td>0</td>\n",
       "      <td>0</td>\n",
       "      <td>0</td>\n",
       "      <td>0</td>\n",
       "      <td>0</td>\n",
       "      <td>0</td>\n",
       "    </tr>\n",
       "    <tr>\n",
       "      <th>AR</th>\n",
       "      <td>0</td>\n",
       "      <td>0</td>\n",
       "      <td>0</td>\n",
       "      <td>0</td>\n",
       "      <td>0</td>\n",
       "      <td>0</td>\n",
       "      <td>0</td>\n",
       "      <td>0</td>\n",
       "      <td>0</td>\n",
       "      <td>0</td>\n",
       "      <td>...</td>\n",
       "      <td>0</td>\n",
       "      <td>0</td>\n",
       "      <td>0</td>\n",
       "      <td>0</td>\n",
       "      <td>0</td>\n",
       "      <td>0</td>\n",
       "      <td>0</td>\n",
       "      <td>0</td>\n",
       "      <td>0</td>\n",
       "      <td>0</td>\n",
       "    </tr>\n",
       "    <tr>\n",
       "      <th>ASMR</th>\n",
       "      <td>0</td>\n",
       "      <td>0</td>\n",
       "      <td>0</td>\n",
       "      <td>0</td>\n",
       "      <td>0</td>\n",
       "      <td>0</td>\n",
       "      <td>0</td>\n",
       "      <td>0</td>\n",
       "      <td>0</td>\n",
       "      <td>0</td>\n",
       "      <td>...</td>\n",
       "      <td>0</td>\n",
       "      <td>0</td>\n",
       "      <td>0</td>\n",
       "      <td>0</td>\n",
       "      <td>0</td>\n",
       "      <td>0</td>\n",
       "      <td>0</td>\n",
       "      <td>0</td>\n",
       "      <td>0</td>\n",
       "      <td>0</td>\n",
       "    </tr>\n",
       "    <tr>\n",
       "      <th>Ads Technology</th>\n",
       "      <td>0</td>\n",
       "      <td>0</td>\n",
       "      <td>0</td>\n",
       "      <td>0</td>\n",
       "      <td>0</td>\n",
       "      <td>0</td>\n",
       "      <td>0</td>\n",
       "      <td>0</td>\n",
       "      <td>0</td>\n",
       "      <td>0</td>\n",
       "      <td>...</td>\n",
       "      <td>0</td>\n",
       "      <td>0</td>\n",
       "      <td>0</td>\n",
       "      <td>0</td>\n",
       "      <td>0</td>\n",
       "      <td>0</td>\n",
       "      <td>0</td>\n",
       "      <td>0</td>\n",
       "      <td>0</td>\n",
       "      <td>0</td>\n",
       "    </tr>\n",
       "  </tbody>\n",
       "</table>\n",
       "<p>5 rows × 197 columns</p>\n",
       "</div>"
      ],
      "text/plain": [
       "                0    1    2    3    4    5    6    7    8    9    ...  187  \\\n",
       "AI                0    1    1    1    0    0    0    0    0    1  ...    1   \n",
       "API services      0    0    0    0    0    0    0    0    0    0  ...    0   \n",
       "AR                0    0    0    0    0    0    0    0    0    0  ...    0   \n",
       "ASMR              0    0    0    0    0    0    0    0    0    0  ...    0   \n",
       "Ads Technology    0    0    0    0    0    0    0    0    0    0  ...    0   \n",
       "\n",
       "                188  189  190  191  192  193  194  195  196  \n",
       "AI                0    0    0    0    0    0    0    0    0  \n",
       "API services      0    0    0    0    0    0    0    0    0  \n",
       "AR                0    0    0    0    0    0    0    0    0  \n",
       "ASMR              0    0    0    0    0    0    0    0    0  \n",
       "Ads Technology    0    0    0    0    0    0    0    0    0  \n",
       "\n",
       "[5 rows x 197 columns]"
      ]
     },
     "execution_count": 16,
     "metadata": {},
     "output_type": "execute_result"
    }
   ],
   "source": [
    "df = df.T\n",
    "df.head()"
   ]
  },
  {
   "cell_type": "code",
   "execution_count": 17,
   "metadata": {},
   "outputs": [],
   "source": [
    "# df_train, df_test = train_test_split(df ,train_size = 0.8, random_state = 42)\n",
    "# print(df_train.shape)\n",
    "# print(df_test.shape)"
   ]
  },
  {
   "cell_type": "code",
   "execution_count": 18,
   "metadata": {},
   "outputs": [
    {
     "data": {
      "text/html": [
       "<style type=\"text/css\">\n",
       "#T_a7242_row21_col1 {\n",
       "  background-color: lightgreen;\n",
       "}\n",
       "</style>\n",
       "<table id=\"T_a7242\">\n",
       "  <thead>\n",
       "    <tr>\n",
       "      <th class=\"blank level0\" >&nbsp;</th>\n",
       "      <th id=\"T_a7242_level0_col0\" class=\"col_heading level0 col0\" >Description</th>\n",
       "      <th id=\"T_a7242_level0_col1\" class=\"col_heading level0 col1\" >Value</th>\n",
       "    </tr>\n",
       "  </thead>\n",
       "  <tbody>\n",
       "    <tr>\n",
       "      <th id=\"T_a7242_level0_row0\" class=\"row_heading level0 row0\" >0</th>\n",
       "      <td id=\"T_a7242_row0_col0\" class=\"data row0 col0\" >session_id</td>\n",
       "      <td id=\"T_a7242_row0_col1\" class=\"data row0 col1\" >5125</td>\n",
       "    </tr>\n",
       "    <tr>\n",
       "      <th id=\"T_a7242_level0_row1\" class=\"row_heading level0 row1\" >1</th>\n",
       "      <td id=\"T_a7242_row1_col0\" class=\"data row1 col0\" >Original Data</td>\n",
       "      <td id=\"T_a7242_row1_col1\" class=\"data row1 col1\" >(267, 197)</td>\n",
       "    </tr>\n",
       "    <tr>\n",
       "      <th id=\"T_a7242_level0_row2\" class=\"row_heading level0 row2\" >2</th>\n",
       "      <td id=\"T_a7242_row2_col0\" class=\"data row2 col0\" >Missing Values</td>\n",
       "      <td id=\"T_a7242_row2_col1\" class=\"data row2 col1\" >False</td>\n",
       "    </tr>\n",
       "    <tr>\n",
       "      <th id=\"T_a7242_level0_row3\" class=\"row_heading level0 row3\" >3</th>\n",
       "      <td id=\"T_a7242_row3_col0\" class=\"data row3 col0\" >Numeric Features</td>\n",
       "      <td id=\"T_a7242_row3_col1\" class=\"data row3 col1\" >0</td>\n",
       "    </tr>\n",
       "    <tr>\n",
       "      <th id=\"T_a7242_level0_row4\" class=\"row_heading level0 row4\" >4</th>\n",
       "      <td id=\"T_a7242_row4_col0\" class=\"data row4 col0\" >Categorical Features</td>\n",
       "      <td id=\"T_a7242_row4_col1\" class=\"data row4 col1\" >197</td>\n",
       "    </tr>\n",
       "    <tr>\n",
       "      <th id=\"T_a7242_level0_row5\" class=\"row_heading level0 row5\" >5</th>\n",
       "      <td id=\"T_a7242_row5_col0\" class=\"data row5 col0\" >Ordinal Features</td>\n",
       "      <td id=\"T_a7242_row5_col1\" class=\"data row5 col1\" >False</td>\n",
       "    </tr>\n",
       "    <tr>\n",
       "      <th id=\"T_a7242_level0_row6\" class=\"row_heading level0 row6\" >6</th>\n",
       "      <td id=\"T_a7242_row6_col0\" class=\"data row6 col0\" >High Cardinality Features</td>\n",
       "      <td id=\"T_a7242_row6_col1\" class=\"data row6 col1\" >False</td>\n",
       "    </tr>\n",
       "    <tr>\n",
       "      <th id=\"T_a7242_level0_row7\" class=\"row_heading level0 row7\" >7</th>\n",
       "      <td id=\"T_a7242_row7_col0\" class=\"data row7 col0\" >High Cardinality Method</td>\n",
       "      <td id=\"T_a7242_row7_col1\" class=\"data row7 col1\" >None</td>\n",
       "    </tr>\n",
       "    <tr>\n",
       "      <th id=\"T_a7242_level0_row8\" class=\"row_heading level0 row8\" >8</th>\n",
       "      <td id=\"T_a7242_row8_col0\" class=\"data row8 col0\" >Transformed Data</td>\n",
       "      <td id=\"T_a7242_row8_col1\" class=\"data row8 col1\" >(267, 392)</td>\n",
       "    </tr>\n",
       "    <tr>\n",
       "      <th id=\"T_a7242_level0_row9\" class=\"row_heading level0 row9\" >9</th>\n",
       "      <td id=\"T_a7242_row9_col0\" class=\"data row9 col0\" >CPU Jobs</td>\n",
       "      <td id=\"T_a7242_row9_col1\" class=\"data row9 col1\" >-1</td>\n",
       "    </tr>\n",
       "    <tr>\n",
       "      <th id=\"T_a7242_level0_row10\" class=\"row_heading level0 row10\" >10</th>\n",
       "      <td id=\"T_a7242_row10_col0\" class=\"data row10 col0\" >Use GPU</td>\n",
       "      <td id=\"T_a7242_row10_col1\" class=\"data row10 col1\" >False</td>\n",
       "    </tr>\n",
       "    <tr>\n",
       "      <th id=\"T_a7242_level0_row11\" class=\"row_heading level0 row11\" >11</th>\n",
       "      <td id=\"T_a7242_row11_col0\" class=\"data row11 col0\" >Log Experiment</td>\n",
       "      <td id=\"T_a7242_row11_col1\" class=\"data row11 col1\" >False</td>\n",
       "    </tr>\n",
       "    <tr>\n",
       "      <th id=\"T_a7242_level0_row12\" class=\"row_heading level0 row12\" >12</th>\n",
       "      <td id=\"T_a7242_row12_col0\" class=\"data row12 col0\" >Experiment Name</td>\n",
       "      <td id=\"T_a7242_row12_col1\" class=\"data row12 col1\" >cluster-default-name</td>\n",
       "    </tr>\n",
       "    <tr>\n",
       "      <th id=\"T_a7242_level0_row13\" class=\"row_heading level0 row13\" >13</th>\n",
       "      <td id=\"T_a7242_row13_col0\" class=\"data row13 col0\" >USI</td>\n",
       "      <td id=\"T_a7242_row13_col1\" class=\"data row13 col1\" >e1a8</td>\n",
       "    </tr>\n",
       "    <tr>\n",
       "      <th id=\"T_a7242_level0_row14\" class=\"row_heading level0 row14\" >14</th>\n",
       "      <td id=\"T_a7242_row14_col0\" class=\"data row14 col0\" >Imputation Type</td>\n",
       "      <td id=\"T_a7242_row14_col1\" class=\"data row14 col1\" >simple</td>\n",
       "    </tr>\n",
       "    <tr>\n",
       "      <th id=\"T_a7242_level0_row15\" class=\"row_heading level0 row15\" >15</th>\n",
       "      <td id=\"T_a7242_row15_col0\" class=\"data row15 col0\" >Iterative Imputation Iteration</td>\n",
       "      <td id=\"T_a7242_row15_col1\" class=\"data row15 col1\" >None</td>\n",
       "    </tr>\n",
       "    <tr>\n",
       "      <th id=\"T_a7242_level0_row16\" class=\"row_heading level0 row16\" >16</th>\n",
       "      <td id=\"T_a7242_row16_col0\" class=\"data row16 col0\" >Numeric Imputer</td>\n",
       "      <td id=\"T_a7242_row16_col1\" class=\"data row16 col1\" >mean</td>\n",
       "    </tr>\n",
       "    <tr>\n",
       "      <th id=\"T_a7242_level0_row17\" class=\"row_heading level0 row17\" >17</th>\n",
       "      <td id=\"T_a7242_row17_col0\" class=\"data row17 col0\" >Iterative Imputation Numeric Model</td>\n",
       "      <td id=\"T_a7242_row17_col1\" class=\"data row17 col1\" >None</td>\n",
       "    </tr>\n",
       "    <tr>\n",
       "      <th id=\"T_a7242_level0_row18\" class=\"row_heading level0 row18\" >18</th>\n",
       "      <td id=\"T_a7242_row18_col0\" class=\"data row18 col0\" >Categorical Imputer</td>\n",
       "      <td id=\"T_a7242_row18_col1\" class=\"data row18 col1\" >mode</td>\n",
       "    </tr>\n",
       "    <tr>\n",
       "      <th id=\"T_a7242_level0_row19\" class=\"row_heading level0 row19\" >19</th>\n",
       "      <td id=\"T_a7242_row19_col0\" class=\"data row19 col0\" >Iterative Imputation Categorical Model</td>\n",
       "      <td id=\"T_a7242_row19_col1\" class=\"data row19 col1\" >None</td>\n",
       "    </tr>\n",
       "    <tr>\n",
       "      <th id=\"T_a7242_level0_row20\" class=\"row_heading level0 row20\" >20</th>\n",
       "      <td id=\"T_a7242_row20_col0\" class=\"data row20 col0\" >Unknown Categoricals Handling</td>\n",
       "      <td id=\"T_a7242_row20_col1\" class=\"data row20 col1\" >least_frequent</td>\n",
       "    </tr>\n",
       "    <tr>\n",
       "      <th id=\"T_a7242_level0_row21\" class=\"row_heading level0 row21\" >21</th>\n",
       "      <td id=\"T_a7242_row21_col0\" class=\"data row21 col0\" >Normalize</td>\n",
       "      <td id=\"T_a7242_row21_col1\" class=\"data row21 col1\" >True</td>\n",
       "    </tr>\n",
       "    <tr>\n",
       "      <th id=\"T_a7242_level0_row22\" class=\"row_heading level0 row22\" >22</th>\n",
       "      <td id=\"T_a7242_row22_col0\" class=\"data row22 col0\" >Normalize Method</td>\n",
       "      <td id=\"T_a7242_row22_col1\" class=\"data row22 col1\" >zscore</td>\n",
       "    </tr>\n",
       "    <tr>\n",
       "      <th id=\"T_a7242_level0_row23\" class=\"row_heading level0 row23\" >23</th>\n",
       "      <td id=\"T_a7242_row23_col0\" class=\"data row23 col0\" >Transformation</td>\n",
       "      <td id=\"T_a7242_row23_col1\" class=\"data row23 col1\" >False</td>\n",
       "    </tr>\n",
       "    <tr>\n",
       "      <th id=\"T_a7242_level0_row24\" class=\"row_heading level0 row24\" >24</th>\n",
       "      <td id=\"T_a7242_row24_col0\" class=\"data row24 col0\" >Transformation Method</td>\n",
       "      <td id=\"T_a7242_row24_col1\" class=\"data row24 col1\" >None</td>\n",
       "    </tr>\n",
       "    <tr>\n",
       "      <th id=\"T_a7242_level0_row25\" class=\"row_heading level0 row25\" >25</th>\n",
       "      <td id=\"T_a7242_row25_col0\" class=\"data row25 col0\" >PCA</td>\n",
       "      <td id=\"T_a7242_row25_col1\" class=\"data row25 col1\" >False</td>\n",
       "    </tr>\n",
       "    <tr>\n",
       "      <th id=\"T_a7242_level0_row26\" class=\"row_heading level0 row26\" >26</th>\n",
       "      <td id=\"T_a7242_row26_col0\" class=\"data row26 col0\" >PCA Method</td>\n",
       "      <td id=\"T_a7242_row26_col1\" class=\"data row26 col1\" >None</td>\n",
       "    </tr>\n",
       "    <tr>\n",
       "      <th id=\"T_a7242_level0_row27\" class=\"row_heading level0 row27\" >27</th>\n",
       "      <td id=\"T_a7242_row27_col0\" class=\"data row27 col0\" >PCA Components</td>\n",
       "      <td id=\"T_a7242_row27_col1\" class=\"data row27 col1\" >None</td>\n",
       "    </tr>\n",
       "    <tr>\n",
       "      <th id=\"T_a7242_level0_row28\" class=\"row_heading level0 row28\" >28</th>\n",
       "      <td id=\"T_a7242_row28_col0\" class=\"data row28 col0\" >Ignore Low Variance</td>\n",
       "      <td id=\"T_a7242_row28_col1\" class=\"data row28 col1\" >False</td>\n",
       "    </tr>\n",
       "    <tr>\n",
       "      <th id=\"T_a7242_level0_row29\" class=\"row_heading level0 row29\" >29</th>\n",
       "      <td id=\"T_a7242_row29_col0\" class=\"data row29 col0\" >Combine Rare Levels</td>\n",
       "      <td id=\"T_a7242_row29_col1\" class=\"data row29 col1\" >False</td>\n",
       "    </tr>\n",
       "    <tr>\n",
       "      <th id=\"T_a7242_level0_row30\" class=\"row_heading level0 row30\" >30</th>\n",
       "      <td id=\"T_a7242_row30_col0\" class=\"data row30 col0\" >Rare Level Threshold</td>\n",
       "      <td id=\"T_a7242_row30_col1\" class=\"data row30 col1\" >None</td>\n",
       "    </tr>\n",
       "    <tr>\n",
       "      <th id=\"T_a7242_level0_row31\" class=\"row_heading level0 row31\" >31</th>\n",
       "      <td id=\"T_a7242_row31_col0\" class=\"data row31 col0\" >Numeric Binning</td>\n",
       "      <td id=\"T_a7242_row31_col1\" class=\"data row31 col1\" >False</td>\n",
       "    </tr>\n",
       "    <tr>\n",
       "      <th id=\"T_a7242_level0_row32\" class=\"row_heading level0 row32\" >32</th>\n",
       "      <td id=\"T_a7242_row32_col0\" class=\"data row32 col0\" >Remove Outliers</td>\n",
       "      <td id=\"T_a7242_row32_col1\" class=\"data row32 col1\" >False</td>\n",
       "    </tr>\n",
       "    <tr>\n",
       "      <th id=\"T_a7242_level0_row33\" class=\"row_heading level0 row33\" >33</th>\n",
       "      <td id=\"T_a7242_row33_col0\" class=\"data row33 col0\" >Outliers Threshold</td>\n",
       "      <td id=\"T_a7242_row33_col1\" class=\"data row33 col1\" >None</td>\n",
       "    </tr>\n",
       "    <tr>\n",
       "      <th id=\"T_a7242_level0_row34\" class=\"row_heading level0 row34\" >34</th>\n",
       "      <td id=\"T_a7242_row34_col0\" class=\"data row34 col0\" >Remove Multicollinearity</td>\n",
       "      <td id=\"T_a7242_row34_col1\" class=\"data row34 col1\" >False</td>\n",
       "    </tr>\n",
       "    <tr>\n",
       "      <th id=\"T_a7242_level0_row35\" class=\"row_heading level0 row35\" >35</th>\n",
       "      <td id=\"T_a7242_row35_col0\" class=\"data row35 col0\" >Multicollinearity Threshold</td>\n",
       "      <td id=\"T_a7242_row35_col1\" class=\"data row35 col1\" >None</td>\n",
       "    </tr>\n",
       "    <tr>\n",
       "      <th id=\"T_a7242_level0_row36\" class=\"row_heading level0 row36\" >36</th>\n",
       "      <td id=\"T_a7242_row36_col0\" class=\"data row36 col0\" >Remove Perfect Collinearity</td>\n",
       "      <td id=\"T_a7242_row36_col1\" class=\"data row36 col1\" >False</td>\n",
       "    </tr>\n",
       "    <tr>\n",
       "      <th id=\"T_a7242_level0_row37\" class=\"row_heading level0 row37\" >37</th>\n",
       "      <td id=\"T_a7242_row37_col0\" class=\"data row37 col0\" >Clustering</td>\n",
       "      <td id=\"T_a7242_row37_col1\" class=\"data row37 col1\" >False</td>\n",
       "    </tr>\n",
       "    <tr>\n",
       "      <th id=\"T_a7242_level0_row38\" class=\"row_heading level0 row38\" >38</th>\n",
       "      <td id=\"T_a7242_row38_col0\" class=\"data row38 col0\" >Clustering Iteration</td>\n",
       "      <td id=\"T_a7242_row38_col1\" class=\"data row38 col1\" >None</td>\n",
       "    </tr>\n",
       "    <tr>\n",
       "      <th id=\"T_a7242_level0_row39\" class=\"row_heading level0 row39\" >39</th>\n",
       "      <td id=\"T_a7242_row39_col0\" class=\"data row39 col0\" >Polynomial Features</td>\n",
       "      <td id=\"T_a7242_row39_col1\" class=\"data row39 col1\" >False</td>\n",
       "    </tr>\n",
       "    <tr>\n",
       "      <th id=\"T_a7242_level0_row40\" class=\"row_heading level0 row40\" >40</th>\n",
       "      <td id=\"T_a7242_row40_col0\" class=\"data row40 col0\" >Polynomial Degree</td>\n",
       "      <td id=\"T_a7242_row40_col1\" class=\"data row40 col1\" >None</td>\n",
       "    </tr>\n",
       "    <tr>\n",
       "      <th id=\"T_a7242_level0_row41\" class=\"row_heading level0 row41\" >41</th>\n",
       "      <td id=\"T_a7242_row41_col0\" class=\"data row41 col0\" >Trignometry Features</td>\n",
       "      <td id=\"T_a7242_row41_col1\" class=\"data row41 col1\" >False</td>\n",
       "    </tr>\n",
       "    <tr>\n",
       "      <th id=\"T_a7242_level0_row42\" class=\"row_heading level0 row42\" >42</th>\n",
       "      <td id=\"T_a7242_row42_col0\" class=\"data row42 col0\" >Polynomial Threshold</td>\n",
       "      <td id=\"T_a7242_row42_col1\" class=\"data row42 col1\" >None</td>\n",
       "    </tr>\n",
       "    <tr>\n",
       "      <th id=\"T_a7242_level0_row43\" class=\"row_heading level0 row43\" >43</th>\n",
       "      <td id=\"T_a7242_row43_col0\" class=\"data row43 col0\" >Group Features</td>\n",
       "      <td id=\"T_a7242_row43_col1\" class=\"data row43 col1\" >False</td>\n",
       "    </tr>\n",
       "    <tr>\n",
       "      <th id=\"T_a7242_level0_row44\" class=\"row_heading level0 row44\" >44</th>\n",
       "      <td id=\"T_a7242_row44_col0\" class=\"data row44 col0\" >Feature Selection</td>\n",
       "      <td id=\"T_a7242_row44_col1\" class=\"data row44 col1\" >False</td>\n",
       "    </tr>\n",
       "    <tr>\n",
       "      <th id=\"T_a7242_level0_row45\" class=\"row_heading level0 row45\" >45</th>\n",
       "      <td id=\"T_a7242_row45_col0\" class=\"data row45 col0\" >Feature Selection Method</td>\n",
       "      <td id=\"T_a7242_row45_col1\" class=\"data row45 col1\" >classic</td>\n",
       "    </tr>\n",
       "    <tr>\n",
       "      <th id=\"T_a7242_level0_row46\" class=\"row_heading level0 row46\" >46</th>\n",
       "      <td id=\"T_a7242_row46_col0\" class=\"data row46 col0\" >Features Selection Threshold</td>\n",
       "      <td id=\"T_a7242_row46_col1\" class=\"data row46 col1\" >None</td>\n",
       "    </tr>\n",
       "    <tr>\n",
       "      <th id=\"T_a7242_level0_row47\" class=\"row_heading level0 row47\" >47</th>\n",
       "      <td id=\"T_a7242_row47_col0\" class=\"data row47 col0\" >Feature Interaction</td>\n",
       "      <td id=\"T_a7242_row47_col1\" class=\"data row47 col1\" >False</td>\n",
       "    </tr>\n",
       "    <tr>\n",
       "      <th id=\"T_a7242_level0_row48\" class=\"row_heading level0 row48\" >48</th>\n",
       "      <td id=\"T_a7242_row48_col0\" class=\"data row48 col0\" >Feature Ratio</td>\n",
       "      <td id=\"T_a7242_row48_col1\" class=\"data row48 col1\" >False</td>\n",
       "    </tr>\n",
       "    <tr>\n",
       "      <th id=\"T_a7242_level0_row49\" class=\"row_heading level0 row49\" >49</th>\n",
       "      <td id=\"T_a7242_row49_col0\" class=\"data row49 col0\" >Interaction Threshold</td>\n",
       "      <td id=\"T_a7242_row49_col1\" class=\"data row49 col1\" >None</td>\n",
       "    </tr>\n",
       "  </tbody>\n",
       "</table>\n"
      ],
      "text/plain": [
       "<pandas.io.formats.style.Styler at 0x1d73ca57220>"
      ]
     },
     "metadata": {},
     "output_type": "display_data"
    }
   ],
   "source": [
    "s = setup(df, normalize = True)"
   ]
  },
  {
   "cell_type": "code",
   "execution_count": 19,
   "metadata": {},
   "outputs": [
    {
     "data": {
      "text/html": [
       "<div>\n",
       "<style scoped>\n",
       "    .dataframe tbody tr th:only-of-type {\n",
       "        vertical-align: middle;\n",
       "    }\n",
       "\n",
       "    .dataframe tbody tr th {\n",
       "        vertical-align: top;\n",
       "    }\n",
       "\n",
       "    .dataframe thead th {\n",
       "        text-align: right;\n",
       "    }\n",
       "</style>\n",
       "<table border=\"1\" class=\"dataframe\">\n",
       "  <thead>\n",
       "    <tr style=\"text-align: right;\">\n",
       "      <th></th>\n",
       "      <th>Silhouette</th>\n",
       "      <th>Calinski-Harabasz</th>\n",
       "      <th>Davies-Bouldin</th>\n",
       "      <th>Homogeneity</th>\n",
       "      <th>Rand Index</th>\n",
       "      <th>Completeness</th>\n",
       "    </tr>\n",
       "  </thead>\n",
       "  <tbody>\n",
       "    <tr>\n",
       "      <th>0</th>\n",
       "      <td>0.4772</td>\n",
       "      <td>46.2411</td>\n",
       "      <td>2.541</td>\n",
       "      <td>0</td>\n",
       "      <td>0</td>\n",
       "      <td>0</td>\n",
       "    </tr>\n",
       "  </tbody>\n",
       "</table>\n",
       "</div>"
      ],
      "text/plain": [
       "   Silhouette  Calinski-Harabasz  Davies-Bouldin  Homogeneity  Rand Index  \\\n",
       "0      0.4772            46.2411           2.541            0           0   \n",
       "\n",
       "   Completeness  \n",
       "0             0  "
      ]
     },
     "metadata": {},
     "output_type": "display_data"
    }
   ],
   "source": [
    "kmeans = create_model('kmeans')"
   ]
  },
  {
   "cell_type": "code",
   "execution_count": 20,
   "metadata": {},
   "outputs": [
    {
     "data": {
      "application/vnd.plotly.v1+json": {
       "config": {
        "plotlyServerURL": "https://plot.ly"
       },
       "data": [
        {
         "customdata": [
          [
           null
          ],
          [
           null
          ],
          [
           null
          ],
          [
           null
          ],
          [
           null
          ],
          [
           null
          ],
          [
           null
          ],
          [
           null
          ],
          [
           null
          ],
          [
           null
          ],
          [
           null
          ],
          [
           null
          ],
          [
           null
          ],
          [
           null
          ],
          [
           null
          ],
          [
           null
          ],
          [
           null
          ],
          [
           null
          ],
          [
           null
          ],
          [
           null
          ],
          [
           null
          ],
          [
           null
          ],
          [
           null
          ],
          [
           null
          ],
          [
           null
          ],
          [
           null
          ],
          [
           null
          ],
          [
           null
          ],
          [
           null
          ],
          [
           null
          ],
          [
           null
          ],
          [
           null
          ],
          [
           null
          ],
          [
           null
          ],
          [
           null
          ],
          [
           null
          ],
          [
           null
          ],
          [
           null
          ],
          [
           null
          ],
          [
           null
          ],
          [
           null
          ],
          [
           null
          ],
          [
           null
          ],
          [
           null
          ],
          [
           null
          ],
          [
           null
          ],
          [
           null
          ],
          [
           null
          ],
          [
           null
          ],
          [
           null
          ],
          [
           null
          ],
          [
           null
          ],
          [
           null
          ],
          [
           null
          ],
          [
           null
          ],
          [
           null
          ],
          [
           null
          ],
          [
           null
          ],
          [
           null
          ],
          [
           null
          ],
          [
           null
          ],
          [
           null
          ],
          [
           null
          ],
          [
           null
          ],
          [
           null
          ],
          [
           null
          ],
          [
           null
          ],
          [
           null
          ],
          [
           null
          ],
          [
           null
          ],
          [
           null
          ],
          [
           null
          ],
          [
           null
          ],
          [
           null
          ],
          [
           null
          ],
          [
           null
          ],
          [
           null
          ],
          [
           null
          ],
          [
           null
          ],
          [
           null
          ],
          [
           null
          ],
          [
           null
          ],
          [
           null
          ],
          [
           null
          ],
          [
           null
          ],
          [
           null
          ],
          [
           null
          ],
          [
           null
          ],
          [
           null
          ],
          [
           null
          ],
          [
           null
          ],
          [
           null
          ],
          [
           null
          ],
          [
           null
          ],
          [
           null
          ],
          [
           null
          ],
          [
           null
          ],
          [
           null
          ],
          [
           null
          ],
          [
           null
          ],
          [
           null
          ],
          [
           null
          ],
          [
           null
          ],
          [
           null
          ],
          [
           null
          ],
          [
           null
          ],
          [
           null
          ],
          [
           null
          ],
          [
           null
          ],
          [
           null
          ],
          [
           null
          ],
          [
           null
          ],
          [
           null
          ],
          [
           null
          ],
          [
           null
          ],
          [
           null
          ],
          [
           null
          ],
          [
           null
          ],
          [
           null
          ],
          [
           null
          ],
          [
           null
          ],
          [
           null
          ],
          [
           null
          ],
          [
           null
          ],
          [
           null
          ],
          [
           null
          ],
          [
           null
          ],
          [
           null
          ],
          [
           null
          ],
          [
           null
          ],
          [
           null
          ],
          [
           null
          ],
          [
           null
          ],
          [
           null
          ],
          [
           null
          ],
          [
           null
          ],
          [
           null
          ],
          [
           null
          ],
          [
           null
          ],
          [
           null
          ],
          [
           null
          ],
          [
           null
          ],
          [
           null
          ],
          [
           null
          ],
          [
           null
          ],
          [
           null
          ],
          [
           null
          ],
          [
           null
          ],
          [
           null
          ],
          [
           null
          ],
          [
           null
          ],
          [
           null
          ],
          [
           null
          ],
          [
           null
          ],
          [
           null
          ],
          [
           null
          ],
          [
           null
          ],
          [
           null
          ],
          [
           null
          ],
          [
           null
          ],
          [
           null
          ],
          [
           null
          ],
          [
           null
          ],
          [
           null
          ],
          [
           null
          ],
          [
           null
          ],
          [
           null
          ],
          [
           null
          ],
          [
           null
          ],
          [
           null
          ],
          [
           null
          ],
          [
           null
          ],
          [
           null
          ],
          [
           null
          ],
          [
           null
          ],
          [
           null
          ],
          [
           null
          ],
          [
           null
          ],
          [
           null
          ],
          [
           null
          ],
          [
           null
          ],
          [
           null
          ],
          [
           null
          ],
          [
           null
          ],
          [
           null
          ],
          [
           null
          ],
          [
           null
          ],
          [
           null
          ],
          [
           null
          ],
          [
           null
          ],
          [
           null
          ],
          [
           null
          ],
          [
           null
          ],
          [
           null
          ],
          [
           null
          ],
          [
           null
          ],
          [
           null
          ],
          [
           null
          ],
          [
           null
          ],
          [
           null
          ],
          [
           null
          ],
          [
           null
          ],
          [
           null
          ],
          [
           null
          ],
          [
           null
          ],
          [
           null
          ]
         ],
         "hovertemplate": "Cluster=Cluster 0<br>PCA1=%{x}<br>PCA2=%{y}<br>Feature=%{customdata[0]}<extra></extra>",
         "legendgroup": "Cluster 0",
         "marker": {
          "color": "#636efa",
          "opacity": 0.5,
          "symbol": "circle"
         },
         "mode": "markers",
         "name": "Cluster 0",
         "orientation": "v",
         "showlegend": true,
         "textposition": "top center",
         "type": "scatter",
         "x": [
          -0.9001466035842896,
          -0.9068101048469543,
          -0.9045662879943848,
          -0.9068264961242676,
          -0.9045664072036743,
          -0.9023497104644775,
          -0.9090136289596558,
          -0.9112840890884399,
          -0.9045662879943848,
          -0.9067936539649963,
          -0.9045662879943848,
          -0.9201478362083435,
          -0.9023497104644775,
          -0.9045662879943848,
          -0.9045662879943848,
          -0.9067936539649963,
          -0.900144100189209,
          -0.9023768305778503,
          -0.9045662879943848,
          -0.9045608639717102,
          -0.9134652614593506,
          -0.9090110659599304,
          -0.906826376914978,
          -0.9068099856376648,
          -0.9001440405845642,
          -0.8773165345191956,
          -0.9068704843521118,
          -0.9067936539649963,
          -0.9001466035842896,
          -0.9067936539649963,
          -0.9045664072036743,
          -0.8823529481887817,
          -0.9068264961242676,
          -0.8843833804130554,
          -0.9001466631889343,
          -0.8973346948623657,
          -0.8902616500854492,
          -0.885325014591217,
          -0.900144100189209,
          -0.9001442193984985,
          -0.9068264961242676,
          -0.9045662879943848,
          -0.9023550748825073,
          -0.9112816452980042,
          -0.9045662879943848,
          -0.9045700430870056,
          -0.9045664072036743,
          -0.906826376914978,
          -0.9045662879943848,
          -0.8865284323692322,
          -0.9067962169647217,
          -0.9045607447624207,
          -0.8887373805046082,
          -0.9023549556732178,
          -0.9045662879943848,
          -0.9090110659599304,
          -0.9045664072036743,
          -0.9090110659599304,
          -0.9045664072036743,
          -0.9023453593254089,
          -0.9023932218551636,
          -0.719903826713562,
          -0.9001466035842896,
          -0.9039914608001709,
          -0.9045662879943848,
          -0.9001440405845642,
          -0.900144100189209,
          -0.9112816452980042,
          -0.9067936539649963,
          -0.9023497104644775,
          -0.900144100189209,
          -0.9001440405845642,
          -0.9001466035842896,
          -0.9001466035842896,
          -0.900144100189209,
          -0.9067935347557068,
          -0.9023497104644775,
          -0.9001440405845642,
          -0.9023497104644775,
          -0.902371346950531,
          -0.9045662879943848,
          -0.900144100189209,
          -0.9067936539649963,
          -0.900144100189209,
          -0.920246958732605,
          -0.9001440405845642,
          -0.9112595319747925,
          -0.900144100189209,
          -0.900144100189209,
          -0.9046046137809753,
          -0.9045664072036743,
          -0.9112816452980042,
          -0.900144100189209,
          -0.9045664072036743,
          -0.900144100189209,
          -0.900144100189209,
          -0.9067936539649963,
          -0.9045662879943848,
          -0.9157973527908325,
          -0.9045662879943848,
          -0.9045662879943848,
          -0.9045662879943848,
          -0.900144100189209,
          -0.9045662879943848,
          -0.9001440405845642,
          -0.900144100189209,
          -0.900144100189209,
          -0.9157973527908325,
          -0.9067936539649963,
          -0.9112816452980042,
          -0.9045662879943848,
          -0.9045662879943848,
          -0.9045662879943848,
          -0.9090927243232727,
          -0.9045662879943848,
          -0.9067962169647217,
          -0.9001466035842896,
          -0.9001440405845642,
          -0.9001440405845642,
          -0.902349591255188,
          -0.9001440405845642,
          -0.9045662879943848,
          -0.9045662879943848,
          -0.9067937731742859,
          -0.9067937731742859,
          -0.9067937731742859,
          -0.900144100189209,
          -0.9067935347557068,
          -0.9067936539649963,
          -0.9001466631889343,
          -0.9089625477790833,
          -0.8887280821800232,
          -0.8952587246894836,
          -0.897682249546051,
          -0.9068099856376648,
          -0.900144100189209,
          -0.9067937731742859,
          -0.8456847071647644,
          -0.9039291739463806,
          -0.9067936539649963,
          -0.8901427388191223,
          -0.8887304663658142,
          -0.900144100189209,
          -0.8714761734008789,
          -0.9067812561988831,
          -0.896182656288147,
          -0.900144100189209,
          -0.9067936539649963,
          -0.8928217887878418,
          -0.8823529481887817,
          -0.8841003775596619,
          -0.9023497104644775,
          -0.8892613649368286,
          -0.8799253106117249,
          -0.9045662879943848,
          -0.6739655137062073,
          -0.06234586611390114,
          -0.8933939933776855,
          -0.9067936539649963,
          -0.8961851000785828,
          -0.8973320126533508,
          -0.8770992159843445,
          -0.8952587246894836,
          -0.9067936539649963,
          -0.9005649089813232,
          -0.8928217887878418,
          -0.8973320126533508,
          -0.9067937731742859,
          -0.9067936539649963,
          -0.9089625477790833,
          -0.897682249546051,
          -0.9018157124519348,
          -0.9067936539649963,
          -0.8799254298210144,
          -0.9089625477790833,
          -0.8823529481887817,
          -0.900144100189209,
          -0.9067936539649963,
          -0.9067863821983337,
          -0.911281406879425,
          -0.8853249549865723,
          -0.8808151483535767,
          -0.9067937731742859,
          -0.9045664072036743,
          -0.897336483001709,
          -0.9001442193984985,
          -0.8892618417739868,
          -0.9067865014076233,
          -0.8841003775596619,
          -0.9001466631889343,
          -0.9045664072036743,
          0.9118472933769226,
          -0.9067936539649963,
          -0.9067936539649963,
          -0.8887304663658142,
          -0.9067936539649963,
          -0.9089625477790833,
          -0.9067956805229187,
          -0.8902615904808044,
          -0.9023497104644775,
          -0.9067936539649963,
          -0.9068288803100586,
          -0.9067891836166382,
          -0.6838744282722473,
          -0.9067936539649963,
          -0.900144100189209
         ],
         "xaxis": "x",
         "y": [
          0.04708226025104523,
          0.0494086816906929,
          0.04858391731977463,
          0.049446459859609604,
          0.04858390614390373,
          0.04782121628522873,
          0.05031270906329155,
          0.05102526769042015,
          0.04858355224132538,
          0.04937128722667694,
          0.048583872616291046,
          0.054079893976449966,
          0.04782118275761604,
          0.04858390614390373,
          0.04858391731977463,
          0.04937135428190231,
          0.04708210006356239,
          0.047881342470645905,
          0.04858392849564552,
          0.048572130501270294,
          0.05171163007616997,
          0.05031248554587364,
          0.04944644495844841,
          0.049408674240112305,
          0.04708210006356239,
          0.02448754757642746,
          0.049552273005247116,
          0.04937136173248291,
          0.04708226025104523,
          0.04937135428190231,
          0.04858390614390373,
          0.010988999158143997,
          0.049446459859609604,
          0.03486120328307152,
          0.04708227887749672,
          0.024887211620807648,
          0.0467335507273674,
          0.027416814118623734,
          0.04708210006356239,
          0.0470820777118206,
          0.049446459859609604,
          0.048583921045064926,
          0.047832828015089035,
          0.05102536454796791,
          0.04858391731977463,
          0.048212066292762756,
          0.04858392849564552,
          0.049446456134319305,
          0.04858391731977463,
          0.0352398045361042,
          0.04937128722667694,
          0.04857178032398224,
          0.03561311215162277,
          0.047832779586315155,
          0.04858390614390373,
          0.05031247064471245,
          0.04858390986919403,
          0.05031249672174454,
          0.04858392849564552,
          0.04797956347465515,
          0.04791795462369919,
          -0.27279412746429443,
          0.04708198085427284,
          0.04224266856908798,
          0.04858355224132538,
          0.04708200320601463,
          0.0470820888876915,
          0.051025357097387314,
          0.049371372908353806,
          0.04782119393348694,
          0.0470820888876915,
          0.0470820777118206,
          0.04708226025104523,
          0.04708198085427284,
          0.04708171263337135,
          0.04937132075428963,
          0.04782116413116455,
          0.04708206653594971,
          0.04782116413116455,
          0.04786989837884903,
          0.04858389496803284,
          0.0470820888876915,
          0.04937136173248291,
          0.0470820777118206,
          0.05431852862238884,
          0.04708210751414299,
          0.05097336322069168,
          0.047082092612981796,
          0.047082092612981796,
          0.04867393895983696,
          0.048583902418613434,
          0.05102536454796791,
          0.0470820777118206,
          0.048583902418613434,
          0.0470820888876915,
          0.0470820777118206,
          0.04937136173248291,
          0.04858389496803284,
          0.05275091156363487,
          0.04858388379216194,
          0.04858388379216194,
          0.04858389496803284,
          0.0470820888876915,
          0.04858392849564552,
          0.04708210006356239,
          0.0470820888876915,
          0.0470820888876915,
          0.05275092273950577,
          0.049371372908353806,
          0.051025357097387314,
          0.04858390614390373,
          0.04858390614390373,
          0.04858390614390373,
          0.05033017694950104,
          0.04858392849564552,
          0.04937160015106201,
          0.04708198085427284,
          0.04708174616098404,
          0.04708200320601463,
          0.047821175307035446,
          0.047082044184207916,
          0.04858390614390373,
          0.04858388379216194,
          0.04937135428190231,
          0.04937135428190231,
          0.04937135428190231,
          0.04708205536007881,
          0.04937125742435455,
          0.04937135428190231,
          0.04708193987607956,
          0.05019276216626167,
          0.035973306745290756,
          0.025954846292734146,
          0.03045380488038063,
          0.049408674240112305,
          0.04708206653594971,
          0.04937133193016052,
          0.10841091722249985,
          0.024151841178536415,
          0.04937136173248291,
          0.054263606667518616,
          0.03597363084554672,
          0.04708174988627434,
          0.039437469094991684,
          0.04895724356174469,
          0.058957044035196304,
          0.0470820888876915,
          0.04937136173248291,
          0.050878968089818954,
          0.010989001020789146,
          0.058386366814374924,
          0.047821205109357834,
          0.015311620198190212,
          0.0628536120057106,
          0.04858391731977463,
          -0.3582850694656372,
          -0.15976370871067047,
          0.0682564377784729,
          0.04937127232551575,
          0.0589573010802269,
          0.024886898696422577,
          0.04349484667181969,
          0.025954846292734146,
          0.04937133193016052,
          0.05806729197502136,
          0.050878968089818954,
          0.024886898696422577,
          0.04937130585312843,
          0.04937134310603142,
          0.05019276216626167,
          0.030453812330961227,
          0.04140393063426018,
          0.04937135800719261,
          0.06285356730222702,
          0.05019274726510048,
          0.010988958179950714,
          0.047082044184207916,
          0.04937034845352173,
          0.048969969153404236,
          0.051025159657001495,
          0.027416091412305832,
          0.05067921057343483,
          0.04937132075428963,
          0.04858392849564552,
          0.02488498017191887,
          0.0470820777118206,
          0.015311176888644695,
          0.04896913841366768,
          0.058386363089084625,
          0.047082290053367615,
          0.04858392849564552,
          0.9573206305503845,
          0.04937134310603142,
          0.04937134310603142,
          0.03597386181354523,
          0.04937130585312843,
          0.050192758440971375,
          0.04937184974551201,
          0.046733465045690536,
          0.047821205109357834,
          0.04937135428190231,
          0.04944666847586632,
          0.04896903038024902,
          -0.36736947298049927,
          0.04937124624848366,
          0.0470820888876915
         ],
         "yaxis": "y"
        },
        {
         "customdata": [
          [
           null
          ],
          [
           null
          ],
          [
           null
          ],
          [
           null
          ],
          [
           null
          ],
          [
           null
          ],
          [
           null
          ]
         ],
         "hovertemplate": "Cluster=Cluster 1<br>PCA1=%{x}<br>PCA2=%{y}<br>Feature=%{customdata[0]}<extra></extra>",
         "legendgroup": "Cluster 1",
         "marker": {
          "color": "#EF553B",
          "opacity": 0.5,
          "symbol": "circle"
         },
         "mode": "markers",
         "name": "Cluster 1",
         "orientation": "v",
         "showlegend": true,
         "textposition": "top center",
         "type": "scatter",
         "x": [
          6.865225791931152,
          6.173281192779541,
          4.564325332641602,
          6.447715759277344,
          5.976449966430664,
          3.8883345127105713,
          4.5895538330078125
         ],
         "xaxis": "x",
         "y": [
          1.5701886415481567,
          1.4425655603408813,
          -0.18239641189575195,
          -0.7906614542007446,
          0.7719491720199585,
          0.19477596879005432,
          0.56477290391922
         ],
         "yaxis": "y"
        },
        {
         "customdata": [
          [
           null
          ],
          [
           null
          ],
          [
           null
          ],
          [
           null
          ],
          [
           null
          ],
          [
           null
          ],
          [
           null
          ],
          [
           null
          ],
          [
           null
          ],
          [
           null
          ],
          [
           null
          ],
          [
           null
          ],
          [
           null
          ],
          [
           null
          ],
          [
           null
          ],
          [
           null
          ],
          [
           null
          ],
          [
           null
          ]
         ],
         "hovertemplate": "Cluster=Cluster 2<br>PCA1=%{x}<br>PCA2=%{y}<br>Feature=%{customdata[0]}<extra></extra>",
         "legendgroup": "Cluster 2",
         "marker": {
          "color": "#00cc96",
          "opacity": 0.5,
          "symbol": "circle"
         },
         "mode": "markers",
         "name": "Cluster 2",
         "orientation": "v",
         "showlegend": true,
         "textposition": "top center",
         "type": "scatter",
         "x": [
          2.9899940490722656,
          4.533534526824951,
          1.6426103115081787,
          2.761474847793579,
          4.933147430419922,
          3.4959397315979004,
          3.35418701171875,
          2.6606929302215576,
          3.464121103286743,
          1.491100788116455,
          2.6596596240997314,
          2.5167744159698486,
          2.8025314807891846,
          3.821746587753296,
          4.098770618438721,
          3.6886072158813477,
          2.172868490219116,
          2.7280027866363525
         ],
         "xaxis": "x",
         "y": [
          2.4164342880249023,
          3.3339030742645264,
          0.7802742719650269,
          1.3699586391448975,
          -0.06928642094135284,
          2.2116010189056396,
          0.26744216680526733,
          1.6475496292114258,
          2.388500213623047,
          1.0222322940826416,
          2.462338447570801,
          0.7093481421470642,
          1.5208362340927124,
          2.554325580596924,
          1.7579758167266846,
          1.8359707593917847,
          0.904177725315094,
          0.33545050024986267
         ],
         "yaxis": "y"
        },
        {
         "customdata": [
          [
           null
          ],
          [
           null
          ],
          [
           null
          ],
          [
           null
          ],
          [
           null
          ],
          [
           null
          ],
          [
           null
          ],
          [
           null
          ],
          [
           null
          ],
          [
           null
          ],
          [
           null
          ],
          [
           null
          ],
          [
           null
          ],
          [
           null
          ],
          [
           null
          ],
          [
           null
          ],
          [
           null
          ],
          [
           null
          ],
          [
           null
          ],
          [
           null
          ],
          [
           null
          ],
          [
           null
          ],
          [
           null
          ],
          [
           null
          ],
          [
           null
          ],
          [
           null
          ],
          [
           null
          ],
          [
           null
          ],
          [
           null
          ],
          [
           null
          ],
          [
           null
          ],
          [
           null
          ],
          [
           null
          ],
          [
           null
          ],
          [
           null
          ],
          [
           null
          ]
         ],
         "hovertemplate": "Cluster=Cluster 3<br>PCA1=%{x}<br>PCA2=%{y}<br>Feature=%{customdata[0]}<extra></extra>",
         "legendgroup": "Cluster 3",
         "marker": {
          "color": "#ab63fa",
          "opacity": 0.5,
          "symbol": "circle"
         },
         "mode": "markers",
         "name": "Cluster 3",
         "orientation": "v",
         "showlegend": true,
         "textposition": "top center",
         "type": "scatter",
         "x": [
          4.717613697052002,
          3.384864091873169,
          3.794344902038574,
          2.7459716796875,
          2.9803953170776367,
          1.3064740896224976,
          2.561591863632202,
          1.401949405670166,
          1.4567811489105225,
          1.6105599403381348,
          3.4072933197021484,
          2.527848720550537,
          3.4512367248535156,
          2.668520450592041,
          3.506427764892578,
          0.8072395920753479,
          1.9652193784713745,
          2.296353578567505,
          2.3440423011779785,
          2.5979084968566895,
          1.7385185956954956,
          1.2578728199005127,
          2.2773940563201904,
          1.9740923643112183,
          1.2298927307128906,
          4.299355983734131,
          1.046433925628662,
          1.9786802530288696,
          2.8087034225463867,
          3.0364949703216553,
          1.3715606927871704,
          2.2825419902801514,
          3.84228777885437,
          1.804308533668518,
          3.027622938156128,
          2.5953540802001953
         ],
         "xaxis": "x",
         "y": [
          -0.588690459728241,
          -0.4768603444099426,
          -1.4509285688400269,
          -0.5043273568153381,
          -0.3367379903793335,
          -1.1887983083724976,
          -1.897120475769043,
          -0.2845694422721863,
          -0.3431234061717987,
          -0.8610866665840149,
          -1.7539459466934204,
          -0.025427941232919693,
          -1.0040383338928223,
          -2.3577969074249268,
          -2.668783664703369,
          -0.47978800535202026,
          0.18592755496501923,
          -1.6511437892913818,
          -0.7772124409675598,
          0.11908421665430069,
          -0.02988409250974655,
          -1.7230501174926758,
          -1.9230468273162842,
          -0.3370877206325531,
          -1.4391249418258667,
          -2.3810532093048096,
          -1.8542040586471558,
          -2.317436933517456,
          -1.130437970161438,
          -2.0333542823791504,
          -0.5485131740570068,
          -1.1618038415908813,
          -1.5106589794158936,
          -1.456013798713684,
          -0.4595591425895691,
          -1.5664998292922974
         ],
         "yaxis": "y"
        }
       ],
       "layout": {
        "height": 600,
        "legend": {
         "title": {
          "text": "Cluster"
         },
         "tracegroupgap": 0
        },
        "margin": {
         "t": 60
        },
        "plot_bgcolor": "rgb(240,240,240)",
        "template": {
         "data": {
          "bar": [
           {
            "error_x": {
             "color": "#2a3f5f"
            },
            "error_y": {
             "color": "#2a3f5f"
            },
            "marker": {
             "line": {
              "color": "#E5ECF6",
              "width": 0.5
             },
             "pattern": {
              "fillmode": "overlay",
              "size": 10,
              "solidity": 0.2
             }
            },
            "type": "bar"
           }
          ],
          "barpolar": [
           {
            "marker": {
             "line": {
              "color": "#E5ECF6",
              "width": 0.5
             },
             "pattern": {
              "fillmode": "overlay",
              "size": 10,
              "solidity": 0.2
             }
            },
            "type": "barpolar"
           }
          ],
          "carpet": [
           {
            "aaxis": {
             "endlinecolor": "#2a3f5f",
             "gridcolor": "white",
             "linecolor": "white",
             "minorgridcolor": "white",
             "startlinecolor": "#2a3f5f"
            },
            "baxis": {
             "endlinecolor": "#2a3f5f",
             "gridcolor": "white",
             "linecolor": "white",
             "minorgridcolor": "white",
             "startlinecolor": "#2a3f5f"
            },
            "type": "carpet"
           }
          ],
          "choropleth": [
           {
            "colorbar": {
             "outlinewidth": 0,
             "ticks": ""
            },
            "type": "choropleth"
           }
          ],
          "contour": [
           {
            "colorbar": {
             "outlinewidth": 0,
             "ticks": ""
            },
            "colorscale": [
             [
              0,
              "#0d0887"
             ],
             [
              0.1111111111111111,
              "#46039f"
             ],
             [
              0.2222222222222222,
              "#7201a8"
             ],
             [
              0.3333333333333333,
              "#9c179e"
             ],
             [
              0.4444444444444444,
              "#bd3786"
             ],
             [
              0.5555555555555556,
              "#d8576b"
             ],
             [
              0.6666666666666666,
              "#ed7953"
             ],
             [
              0.7777777777777778,
              "#fb9f3a"
             ],
             [
              0.8888888888888888,
              "#fdca26"
             ],
             [
              1,
              "#f0f921"
             ]
            ],
            "type": "contour"
           }
          ],
          "contourcarpet": [
           {
            "colorbar": {
             "outlinewidth": 0,
             "ticks": ""
            },
            "type": "contourcarpet"
           }
          ],
          "heatmap": [
           {
            "colorbar": {
             "outlinewidth": 0,
             "ticks": ""
            },
            "colorscale": [
             [
              0,
              "#0d0887"
             ],
             [
              0.1111111111111111,
              "#46039f"
             ],
             [
              0.2222222222222222,
              "#7201a8"
             ],
             [
              0.3333333333333333,
              "#9c179e"
             ],
             [
              0.4444444444444444,
              "#bd3786"
             ],
             [
              0.5555555555555556,
              "#d8576b"
             ],
             [
              0.6666666666666666,
              "#ed7953"
             ],
             [
              0.7777777777777778,
              "#fb9f3a"
             ],
             [
              0.8888888888888888,
              "#fdca26"
             ],
             [
              1,
              "#f0f921"
             ]
            ],
            "type": "heatmap"
           }
          ],
          "heatmapgl": [
           {
            "colorbar": {
             "outlinewidth": 0,
             "ticks": ""
            },
            "colorscale": [
             [
              0,
              "#0d0887"
             ],
             [
              0.1111111111111111,
              "#46039f"
             ],
             [
              0.2222222222222222,
              "#7201a8"
             ],
             [
              0.3333333333333333,
              "#9c179e"
             ],
             [
              0.4444444444444444,
              "#bd3786"
             ],
             [
              0.5555555555555556,
              "#d8576b"
             ],
             [
              0.6666666666666666,
              "#ed7953"
             ],
             [
              0.7777777777777778,
              "#fb9f3a"
             ],
             [
              0.8888888888888888,
              "#fdca26"
             ],
             [
              1,
              "#f0f921"
             ]
            ],
            "type": "heatmapgl"
           }
          ],
          "histogram": [
           {
            "marker": {
             "pattern": {
              "fillmode": "overlay",
              "size": 10,
              "solidity": 0.2
             }
            },
            "type": "histogram"
           }
          ],
          "histogram2d": [
           {
            "colorbar": {
             "outlinewidth": 0,
             "ticks": ""
            },
            "colorscale": [
             [
              0,
              "#0d0887"
             ],
             [
              0.1111111111111111,
              "#46039f"
             ],
             [
              0.2222222222222222,
              "#7201a8"
             ],
             [
              0.3333333333333333,
              "#9c179e"
             ],
             [
              0.4444444444444444,
              "#bd3786"
             ],
             [
              0.5555555555555556,
              "#d8576b"
             ],
             [
              0.6666666666666666,
              "#ed7953"
             ],
             [
              0.7777777777777778,
              "#fb9f3a"
             ],
             [
              0.8888888888888888,
              "#fdca26"
             ],
             [
              1,
              "#f0f921"
             ]
            ],
            "type": "histogram2d"
           }
          ],
          "histogram2dcontour": [
           {
            "colorbar": {
             "outlinewidth": 0,
             "ticks": ""
            },
            "colorscale": [
             [
              0,
              "#0d0887"
             ],
             [
              0.1111111111111111,
              "#46039f"
             ],
             [
              0.2222222222222222,
              "#7201a8"
             ],
             [
              0.3333333333333333,
              "#9c179e"
             ],
             [
              0.4444444444444444,
              "#bd3786"
             ],
             [
              0.5555555555555556,
              "#d8576b"
             ],
             [
              0.6666666666666666,
              "#ed7953"
             ],
             [
              0.7777777777777778,
              "#fb9f3a"
             ],
             [
              0.8888888888888888,
              "#fdca26"
             ],
             [
              1,
              "#f0f921"
             ]
            ],
            "type": "histogram2dcontour"
           }
          ],
          "mesh3d": [
           {
            "colorbar": {
             "outlinewidth": 0,
             "ticks": ""
            },
            "type": "mesh3d"
           }
          ],
          "parcoords": [
           {
            "line": {
             "colorbar": {
              "outlinewidth": 0,
              "ticks": ""
             }
            },
            "type": "parcoords"
           }
          ],
          "pie": [
           {
            "automargin": true,
            "type": "pie"
           }
          ],
          "scatter": [
           {
            "fillpattern": {
             "fillmode": "overlay",
             "size": 10,
             "solidity": 0.2
            },
            "type": "scatter"
           }
          ],
          "scatter3d": [
           {
            "line": {
             "colorbar": {
              "outlinewidth": 0,
              "ticks": ""
             }
            },
            "marker": {
             "colorbar": {
              "outlinewidth": 0,
              "ticks": ""
             }
            },
            "type": "scatter3d"
           }
          ],
          "scattercarpet": [
           {
            "marker": {
             "colorbar": {
              "outlinewidth": 0,
              "ticks": ""
             }
            },
            "type": "scattercarpet"
           }
          ],
          "scattergeo": [
           {
            "marker": {
             "colorbar": {
              "outlinewidth": 0,
              "ticks": ""
             }
            },
            "type": "scattergeo"
           }
          ],
          "scattergl": [
           {
            "marker": {
             "colorbar": {
              "outlinewidth": 0,
              "ticks": ""
             }
            },
            "type": "scattergl"
           }
          ],
          "scattermapbox": [
           {
            "marker": {
             "colorbar": {
              "outlinewidth": 0,
              "ticks": ""
             }
            },
            "type": "scattermapbox"
           }
          ],
          "scatterpolar": [
           {
            "marker": {
             "colorbar": {
              "outlinewidth": 0,
              "ticks": ""
             }
            },
            "type": "scatterpolar"
           }
          ],
          "scatterpolargl": [
           {
            "marker": {
             "colorbar": {
              "outlinewidth": 0,
              "ticks": ""
             }
            },
            "type": "scatterpolargl"
           }
          ],
          "scatterternary": [
           {
            "marker": {
             "colorbar": {
              "outlinewidth": 0,
              "ticks": ""
             }
            },
            "type": "scatterternary"
           }
          ],
          "surface": [
           {
            "colorbar": {
             "outlinewidth": 0,
             "ticks": ""
            },
            "colorscale": [
             [
              0,
              "#0d0887"
             ],
             [
              0.1111111111111111,
              "#46039f"
             ],
             [
              0.2222222222222222,
              "#7201a8"
             ],
             [
              0.3333333333333333,
              "#9c179e"
             ],
             [
              0.4444444444444444,
              "#bd3786"
             ],
             [
              0.5555555555555556,
              "#d8576b"
             ],
             [
              0.6666666666666666,
              "#ed7953"
             ],
             [
              0.7777777777777778,
              "#fb9f3a"
             ],
             [
              0.8888888888888888,
              "#fdca26"
             ],
             [
              1,
              "#f0f921"
             ]
            ],
            "type": "surface"
           }
          ],
          "table": [
           {
            "cells": {
             "fill": {
              "color": "#EBF0F8"
             },
             "line": {
              "color": "white"
             }
            },
            "header": {
             "fill": {
              "color": "#C8D4E3"
             },
             "line": {
              "color": "white"
             }
            },
            "type": "table"
           }
          ]
         },
         "layout": {
          "annotationdefaults": {
           "arrowcolor": "#2a3f5f",
           "arrowhead": 0,
           "arrowwidth": 1
          },
          "autotypenumbers": "strict",
          "coloraxis": {
           "colorbar": {
            "outlinewidth": 0,
            "ticks": ""
           }
          },
          "colorscale": {
           "diverging": [
            [
             0,
             "#8e0152"
            ],
            [
             0.1,
             "#c51b7d"
            ],
            [
             0.2,
             "#de77ae"
            ],
            [
             0.3,
             "#f1b6da"
            ],
            [
             0.4,
             "#fde0ef"
            ],
            [
             0.5,
             "#f7f7f7"
            ],
            [
             0.6,
             "#e6f5d0"
            ],
            [
             0.7,
             "#b8e186"
            ],
            [
             0.8,
             "#7fbc41"
            ],
            [
             0.9,
             "#4d9221"
            ],
            [
             1,
             "#276419"
            ]
           ],
           "sequential": [
            [
             0,
             "#0d0887"
            ],
            [
             0.1111111111111111,
             "#46039f"
            ],
            [
             0.2222222222222222,
             "#7201a8"
            ],
            [
             0.3333333333333333,
             "#9c179e"
            ],
            [
             0.4444444444444444,
             "#bd3786"
            ],
            [
             0.5555555555555556,
             "#d8576b"
            ],
            [
             0.6666666666666666,
             "#ed7953"
            ],
            [
             0.7777777777777778,
             "#fb9f3a"
            ],
            [
             0.8888888888888888,
             "#fdca26"
            ],
            [
             1,
             "#f0f921"
            ]
           ],
           "sequentialminus": [
            [
             0,
             "#0d0887"
            ],
            [
             0.1111111111111111,
             "#46039f"
            ],
            [
             0.2222222222222222,
             "#7201a8"
            ],
            [
             0.3333333333333333,
             "#9c179e"
            ],
            [
             0.4444444444444444,
             "#bd3786"
            ],
            [
             0.5555555555555556,
             "#d8576b"
            ],
            [
             0.6666666666666666,
             "#ed7953"
            ],
            [
             0.7777777777777778,
             "#fb9f3a"
            ],
            [
             0.8888888888888888,
             "#fdca26"
            ],
            [
             1,
             "#f0f921"
            ]
           ]
          },
          "colorway": [
           "#636efa",
           "#EF553B",
           "#00cc96",
           "#ab63fa",
           "#FFA15A",
           "#19d3f3",
           "#FF6692",
           "#B6E880",
           "#FF97FF",
           "#FECB52"
          ],
          "font": {
           "color": "#2a3f5f"
          },
          "geo": {
           "bgcolor": "white",
           "lakecolor": "white",
           "landcolor": "#E5ECF6",
           "showlakes": true,
           "showland": true,
           "subunitcolor": "white"
          },
          "hoverlabel": {
           "align": "left"
          },
          "hovermode": "closest",
          "mapbox": {
           "style": "light"
          },
          "paper_bgcolor": "white",
          "plot_bgcolor": "#E5ECF6",
          "polar": {
           "angularaxis": {
            "gridcolor": "white",
            "linecolor": "white",
            "ticks": ""
           },
           "bgcolor": "#E5ECF6",
           "radialaxis": {
            "gridcolor": "white",
            "linecolor": "white",
            "ticks": ""
           }
          },
          "scene": {
           "xaxis": {
            "backgroundcolor": "#E5ECF6",
            "gridcolor": "white",
            "gridwidth": 2,
            "linecolor": "white",
            "showbackground": true,
            "ticks": "",
            "zerolinecolor": "white"
           },
           "yaxis": {
            "backgroundcolor": "#E5ECF6",
            "gridcolor": "white",
            "gridwidth": 2,
            "linecolor": "white",
            "showbackground": true,
            "ticks": "",
            "zerolinecolor": "white"
           },
           "zaxis": {
            "backgroundcolor": "#E5ECF6",
            "gridcolor": "white",
            "gridwidth": 2,
            "linecolor": "white",
            "showbackground": true,
            "ticks": "",
            "zerolinecolor": "white"
           }
          },
          "shapedefaults": {
           "line": {
            "color": "#2a3f5f"
           }
          },
          "ternary": {
           "aaxis": {
            "gridcolor": "white",
            "linecolor": "white",
            "ticks": ""
           },
           "baxis": {
            "gridcolor": "white",
            "linecolor": "white",
            "ticks": ""
           },
           "bgcolor": "#E5ECF6",
           "caxis": {
            "gridcolor": "white",
            "linecolor": "white",
            "ticks": ""
           }
          },
          "title": {
           "x": 0.05
          },
          "xaxis": {
           "automargin": true,
           "gridcolor": "white",
           "linecolor": "white",
           "ticks": "",
           "title": {
            "standoff": 15
           },
           "zerolinecolor": "white",
           "zerolinewidth": 2
          },
          "yaxis": {
           "automargin": true,
           "gridcolor": "white",
           "linecolor": "white",
           "ticks": "",
           "title": {
            "standoff": 15
           },
           "zerolinecolor": "white",
           "zerolinewidth": 2
          }
         }
        },
        "title": {
         "text": "2D Cluster PCA Plot"
        },
        "xaxis": {
         "anchor": "y",
         "domain": [
          0,
          1
         ],
         "title": {
          "text": "PCA1"
         }
        },
        "yaxis": {
         "anchor": "x",
         "domain": [
          0,
          1
         ],
         "title": {
          "text": "PCA2"
         }
        }
       }
      }
     },
     "metadata": {},
     "output_type": "display_data"
    },
    {
     "data": {
      "application/vnd.jupyter.widget-view+json": {
       "model_id": "c439093a23c54979891221cca0ce689c",
       "version_major": 2,
       "version_minor": 0
      },
      "text/plain": [
       "interactive(children=(ToggleButtons(description='Plot Type:', icons=('',), options=(('Cluster PCA Plot (2d)', …"
      ]
     },
     "metadata": {},
     "output_type": "display_data"
    }
   ],
   "source": [
    "evaluate_model(kmeans)"
   ]
  },
  {
   "cell_type": "code",
   "execution_count": 21,
   "metadata": {},
   "outputs": [
    {
     "data": {
      "text/plain": [
       "AI                          Cluster 1\n",
       "API services                Cluster 0\n",
       "AR                          Cluster 0\n",
       "ASMR                        Cluster 0\n",
       "Ads Technology              Cluster 0\n",
       "                              ...    \n",
       "เรื่องผี                    Cluster 0\n",
       "เรื่องผี สังคม ประเทศ       Cluster 0\n",
       "เรื่องเทคโนโลยีอะไรก็ได้    Cluster 0\n",
       "แนะแนวการเรียนต่อ           Cluster 0\n",
       "แน้วโน้มการจ้างงาน          Cluster 0\n",
       "Name: Cluster, Length: 267, dtype: object"
      ]
     },
     "execution_count": 21,
     "metadata": {},
     "output_type": "execute_result"
    }
   ],
   "source": [
    "result = assign_model(kmeans)\n",
    "df_cluster = result.loc[:, 'Cluster']\n",
    "df_cluster"
   ]
  },
  {
   "cell_type": "code",
   "execution_count": 22,
   "metadata": {},
   "outputs": [],
   "source": [
    "lst = []\n",
    "for i in range(4):\n",
    "    lst.append(df_cluster[df_cluster.isin([f'Cluster {i}'])].index.tolist())"
   ]
  },
  {
   "cell_type": "code",
   "execution_count": 23,
   "metadata": {},
   "outputs": [
    {
     "data": {
      "text/plain": [
       "['API services',\n",
       " 'AR',\n",
       " 'ASMR',\n",
       " 'Ads Technology',\n",
       " 'Agile',\n",
       " 'Android',\n",
       " 'Archery',\n",
       " 'Artificial Intelligence',\n",
       " 'Automation testing',\n",
       " 'Automotive',\n",
       " 'Backend',\n",
       " 'Business',\n",
       " 'CI/CD',\n",
       " 'ChatGPT',\n",
       " 'ChatGPT ในอนาคต ถ้ามีการเปิดใช้แบบตัวเต็ม',\n",
       " 'Cloud',\n",
       " 'Cloud Computing (AWS)',\n",
       " 'Cloud Management',\n",
       " 'Cloud computing',\n",
       " 'Crypto Ai',\n",
       " 'DIY',\n",
       " 'Data science',\n",
       " 'Design',\n",
       " 'Design Ops',\n",
       " 'Design token',\n",
       " 'Dev',\n",
       " 'DevOps',\n",
       " 'Evolution of Large Language Model ( BERT',\n",
       " 'Fintech',\n",
       " 'Fishing',\n",
       " 'Food...',\n",
       " 'Frontend',\n",
       " 'Full stack DevOps',\n",
       " 'GPT',\n",
       " 'Game Development',\n",
       " 'Gaming Industry',\n",
       " 'HPC',\n",
       " 'HR',\n",
       " 'High Performance computing',\n",
       " 'Hololive',\n",
       " 'IOT',\n",
       " 'IT',\n",
       " 'Idol',\n",
       " 'It innovation agile scrum',\n",
       " 'K-Pop',\n",
       " 'Linux',\n",
       " 'Local first software',\n",
       " 'ML',\n",
       " 'MUM',\n",
       " 'Machine Learning',\n",
       " 'MachineLearning',\n",
       " 'Mbti',\n",
       " 'Metaverse',\n",
       " 'Natural (Human) LanguagesLanguages',\n",
       " 'Network Programming',\n",
       " 'New trend tech ตอนนี้',\n",
       " 'OS',\n",
       " 'PaML)',\n",
       " 'Perl',\n",
       " 'Printing',\n",
       " 'Programmer',\n",
       " 'Programming',\n",
       " 'Python',\n",
       " 'QA',\n",
       " 'Quantum',\n",
       " 'RF',\n",
       " 'SDLC',\n",
       " 'Seach',\n",
       " 'SecOps',\n",
       " 'Self-impovement',\n",
       " 'Social Issue',\n",
       " 'Software',\n",
       " 'Software Development',\n",
       " 'Software Engineering (Ruby',\n",
       " 'Software engineering',\n",
       " 'Streaming Technology',\n",
       " 'Tech',\n",
       " 'Tech Leader',\n",
       " 'Tech Trend',\n",
       " 'Tech ในปัจจุบัน อนาคต',\n",
       " 'Technical Support',\n",
       " 'UX/UI Design',\n",
       " 'VR',\n",
       " 'anime Idol IT',\n",
       " 'anything',\n",
       " 'automation',\n",
       " 'bdsm',\n",
       " 'blockchain',\n",
       " 'clip ตลก',\n",
       " 'cloud',\n",
       " 'cloud native',\n",
       " 'computational finance',\n",
       " 'computer vision',\n",
       " 'consumer electronics',\n",
       " 'crypto domino',\n",
       " 'data',\n",
       " 'data analysis',\n",
       " 'data analytics',\n",
       " 'data visualization',\n",
       " 'design thinking',\n",
       " 'economy',\n",
       " 'electronics',\n",
       " 'finance',\n",
       " 'financial',\n",
       " 'food',\n",
       " 'game',\n",
       " 'health',\n",
       " 'hpc',\n",
       " 'iOS',\n",
       " 'information technology',\n",
       " 'k8s',\n",
       " 'life experience',\n",
       " 'linux',\n",
       " 'machine learning',\n",
       " 'marketing',\n",
       " 'math',\n",
       " 'mathematics',\n",
       " 'meme',\n",
       " 'mental health',\n",
       " 'more); World Events',\n",
       " 'neural engineering',\n",
       " 'programming',\n",
       " 'python',\n",
       " 'research',\n",
       " 'science',\n",
       " 'self-development',\n",
       " 'social networking',\n",
       " 'software',\n",
       " 'software design',\n",
       " 'software development',\n",
       " 'tech',\n",
       " 'technology',\n",
       " 'testing',\n",
       " 'travel',\n",
       " 'web developer',\n",
       " 'web3',\n",
       " 'กราฟฟิคดีไซด์',\n",
       " 'กล้องฟิล์ม',\n",
       " 'การจัดการ',\n",
       " 'การบิน',\n",
       " 'การพัฒนาตัวเอง',\n",
       " 'การศึกษา',\n",
       " 'การศึกษา สุขภาพใจ',\n",
       " 'การหารายได้พิเศษ',\n",
       " 'การออกกำลังกาย',\n",
       " 'การเข้าศึกษามหาลัยต่อ',\n",
       " 'การเงิน',\n",
       " 'การเงิน การลงทุน',\n",
       " 'การเงินส่วนบุคคล',\n",
       " 'การเดินทางท่องเที่ยว',\n",
       " 'การเมือง/การปกครอง',\n",
       " 'การเรียนต่อ การทำเพลง สังคมไทยในปัจจุบัน เทคโนโลยีในอนาคต',\n",
       " 'การ์ตูน',\n",
       " 'คณิตศาสตร์',\n",
       " 'คลิปเล่าเรื่อง (FM Diary)',\n",
       " 'ความรู้เกี่ยวกับด้าน IT',\n",
       " 'ความรู้เกี่ยวับด้าน Design และอื่น ๆ ที่เกี่ยวข้อง',\n",
       " 'ความเป็นอยู่ของนักเรียน มก',\n",
       " 'คอมพิวเตอร์',\n",
       " 'ชีวิต การทำงาน',\n",
       " 'ดนตรี',\n",
       " 'ด้วยความที่เป็นนักเรียนหนูสนใจเรื่องกาคไม่กล้าแสดงออกของนักเรียนค่ะ',\n",
       " 'ด้านการลงทุน',\n",
       " 'ด้านอาหาร',\n",
       " 'ด้านเทคโนโลยี',\n",
       " 'ธุรกิจ การตลาด อวกาศ',\n",
       " 'บริหารคน',\n",
       " 'ประวัตศาสตร์',\n",
       " 'ประวัติศาสตร์',\n",
       " 'ประเด็นด้านสังคม เช่น ทำแท้งเสรี',\n",
       " 'ภาวะโลกร้อน',\n",
       " 'ภาษา',\n",
       " 'ภาษาญี่ปุ่น',\n",
       " 'มหาวิทยาลัย',\n",
       " 'มีความสนใจด้านเทคโนโลยี',\n",
       " 'รถ',\n",
       " 'รถยนต์ เครื่องกล เครื่องจักร',\n",
       " 'ละคร',\n",
       " 'วิทยาศาตร์',\n",
       " 'วิศวกรรมเเมคคาทรอนิกส์',\n",
       " 'สนใจด้านเทคโนโลยี',\n",
       " 'สนใจเกี่ยวกับอาขีพที่สามารถไปต่อได้เมื่อจบปริญญาตรี คณะวิศวกรรมศาสตร์',\n",
       " 'สัตว์เลี้ยง แนวทางอาชีพ',\n",
       " 'สายงาน software engineer',\n",
       " 'สิ่งแวดล้อมกับเทคโนโลยี',\n",
       " 'สุนัข',\n",
       " 'หัวข้อทั่วไป',\n",
       " 'หัวข้อที่มีความแปลกใจหรือโชว์ไอเดียเจ๋งๆ',\n",
       " 'หัวข้อเกี่ยวกับ Power apps',\n",
       " 'อนิเมะ',\n",
       " 'อยากขับเครื่องบิน',\n",
       " 'อยากทราบความเห็นของบุคคลอื่นๆที่จะได้เข้าร่วม พูดคุยเกี่ยวกับเรื่องต่างๆ สนใจท้อปปิคในการพูดคุยทุกรูปเเบบ',\n",
       " 'อาร์ตเวิร์ค',\n",
       " 'อินเทอร์เน็ต',\n",
       " 'เกม',\n",
       " 'เทคโน',\n",
       " 'เทคโนโลยี',\n",
       " 'เทคโนโลยี การเงิน การขนส่ง',\n",
       " 'เทคโนโลยี เศรษฐกิจ การเมือง',\n",
       " 'เพลง',\n",
       " 'เรื่องที่ไ่ม่เคยรู้มาก่อน',\n",
       " 'เรื่องผี',\n",
       " 'เรื่องผี สังคม ประเทศ',\n",
       " 'เรื่องเทคโนโลยีอะไรก็ได้',\n",
       " 'แนะแนวการเรียนต่อ',\n",
       " 'แน้วโน้มการจ้างงาน']"
      ]
     },
     "execution_count": 23,
     "metadata": {},
     "output_type": "execute_result"
    }
   ],
   "source": [
    "lst[0]"
   ]
  },
  {
   "cell_type": "code",
   "execution_count": 24,
   "metadata": {},
   "outputs": [
    {
     "data": {
      "text/plain": [
       "['AI',\n",
       " 'Coding',\n",
       " 'Computer',\n",
       " 'Education',\n",
       " 'Technology',\n",
       " 'UX/UI',\n",
       " 'Web Application']"
      ]
     },
     "execution_count": 24,
     "metadata": {},
     "output_type": "execute_result"
    }
   ],
   "source": [
    "lst[1]"
   ]
  },
  {
   "cell_type": "code",
   "execution_count": 25,
   "metadata": {},
   "outputs": [
    {
     "data": {
      "text/plain": [
       "['Andriod',\n",
       " 'Banking',\n",
       " 'Big Data',\n",
       " 'Blockchain',\n",
       " 'Cloud Computing',\n",
       " 'Cryptocurruncy',\n",
       " 'Cyber Security',\n",
       " 'DeFi',\n",
       " 'Docker',\n",
       " 'Entrepreneurship',\n",
       " 'Finance',\n",
       " 'Hackathons',\n",
       " 'Hackings',\n",
       " 'High Performance Computing',\n",
       " 'Manchine Learning',\n",
       " 'Networking',\n",
       " 'Quantum Computing',\n",
       " 'Web3']"
      ]
     },
     "execution_count": 25,
     "metadata": {},
     "output_type": "execute_result"
    }
   ],
   "source": [
    "lst[2]"
   ]
  },
  {
   "cell_type": "code",
   "execution_count": 26,
   "metadata": {},
   "outputs": [
    {
     "data": {
      "text/plain": [
       "['Anime',\n",
       " 'Apple Inc.',\n",
       " 'Art',\n",
       " 'Augmented Reality',\n",
       " 'Cooking',\n",
       " 'Dessert',\n",
       " 'Election',\n",
       " 'Environment',\n",
       " 'Excercising',\n",
       " 'Food',\n",
       " 'Game',\n",
       " 'Gaming',\n",
       " 'History',\n",
       " 'Human Rights',\n",
       " 'IOS',\n",
       " 'Idols',\n",
       " 'IoT(internet of Things)',\n",
       " 'Japan',\n",
       " 'KPOP',\n",
       " 'Korea',\n",
       " 'Language',\n",
       " 'Mobile',\n",
       " 'Movie',\n",
       " 'Music',\n",
       " 'Nature',\n",
       " 'Netflix',\n",
       " 'Philosophy',\n",
       " 'Politics',\n",
       " 'Restaurant',\n",
       " 'Security',\n",
       " 'Social Media',\n",
       " 'Startup',\n",
       " 'Studying Abroad',\n",
       " 'Travel',\n",
       " 'Virtual Reality',\n",
       " 'Youtube']"
      ]
     },
     "execution_count": 26,
     "metadata": {},
     "output_type": "execute_result"
    }
   ],
   "source": [
    "lst[3]"
   ]
  }
 ],
 "metadata": {
  "kernelspec": {
   "display_name": "Python 3",
   "language": "python",
   "name": "python3"
  },
  "language_info": {
   "codemirror_mode": {
    "name": "ipython",
    "version": 3
   },
   "file_extension": ".py",
   "mimetype": "text/x-python",
   "name": "python",
   "nbconvert_exporter": "python",
   "pygments_lexer": "ipython3",
   "version": "3.8.0"
  },
  "orig_nbformat": 4,
  "vscode": {
   "interpreter": {
    "hash": "5d04d0ea025a2b5c0a405c24c3ed943d49065a11de485e353892bf0638615a3b"
   }
  }
 },
 "nbformat": 4,
 "nbformat_minor": 2
}
