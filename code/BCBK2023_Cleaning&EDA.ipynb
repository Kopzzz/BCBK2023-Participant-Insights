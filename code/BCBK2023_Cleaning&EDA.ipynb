{
 "cells": [
  {
   "attachments": {},
   "cell_type": "markdown",
   "metadata": {},
   "source": [
    "# Importing Libraries"
   ]
  },
  {
   "cell_type": "code",
   "execution_count": 23,
   "metadata": {},
   "outputs": [],
   "source": [
    "import warnings\n",
    "warnings.filterwarnings('ignore')\n",
    "\n",
    "import pandas as pd\n",
    "import numpy as np\n",
    "import matplotlib.pyplot as plt\n",
    "import seaborn as sns"
   ]
  },
  {
   "attachments": {},
   "cell_type": "markdown",
   "metadata": {},
   "source": [
    "# Loading the Data"
   ]
  },
  {
   "cell_type": "code",
   "execution_count": 24,
   "metadata": {},
   "outputs": [],
   "source": [
    "df = pd.read_csv('../datasets/Barcamp Bangkhen 2023 Participant Registration (Responses) - Form Responses 1.csv')"
   ]
  },
  {
   "attachments": {},
   "cell_type": "markdown",
   "metadata": {},
   "source": [
    "# Data Cleaning & EDA "
   ]
  },
  {
   "cell_type": "code",
   "execution_count": 25,
   "metadata": {},
   "outputs": [
    {
     "data": {
      "text/plain": [
       "Index(['Timestamp', 'Email Address', 'ชื่อจริง (Firstname)',\n",
       "       'นามสกุล (Lastname)', 'อาชีพ (Career)',\n",
       "       'องค์กรที่สังกัด (Organization)',\n",
       "       'ประวัติการแพ้อาหาร และอาหารตามความเชื่อหรือศาสนา (Food allergy/religious or ethical preferences)',\n",
       "       'Size เสื้อโดยประมาณ (Approximate  Shirt Size )\\n**เฉพาะผู้ที่ลงทะเบียน 200 คนแรก(จำนวนอาจมีการเปลี่ยนแปลง) จะได้รับเสื้อยืด T-shirt Barcamp Bangkhen 2023\\n**Only the first 200 registrants(The amount may change) will receive a free Barcamp Bangkhen 2023 T-shirt.',\n",
       "       'ความสนใจ (Interests) (comma-serperated)',\n",
       "       'ความยินยอมในการใช้ข้อมูล (Consent for the use of information)'],\n",
       "      dtype='object')"
      ]
     },
     "execution_count": 25,
     "metadata": {},
     "output_type": "execute_result"
    }
   ],
   "source": [
    "df.columns"
   ]
  },
  {
   "cell_type": "code",
   "execution_count": 26,
   "metadata": {},
   "outputs": [],
   "source": [
    "df = df.drop(columns=['Email Address', 'ชื่อจริง (Firstname)', 'นามสกุล (Lastname)'])"
   ]
  },
  {
   "cell_type": "code",
   "execution_count": 27,
   "metadata": {},
   "outputs": [],
   "source": [
    "df.rename(index=str, \n",
    "             columns={  'อาชีพ (Career)': \"career\", 'องค์กรที่สังกัด (Organization)': \"organization\", \n",
    "                        'ประวัติการแพ้อาหาร และอาหารตามความเชื่อหรือศาสนา (Food allergy/religious or ethical preferences)' : \"food\", \n",
    "                        \"Size เสื้อโดยประมาณ (Approximate  Shirt Size )\\n**เฉพาะผู้ที่ลงทะเบียน 200 คนแรก(จำนวนอาจมีการเปลี่ยนแปลง) จะได้รับเสื้อยืด T-shirt Barcamp Bangkhen 2023\\n**Only the first 200 registrants(The amount may change) will receive a free Barcamp Bangkhen 2023 T-shirt.\": \"size\", \n",
    "                        'ความสนใจ (Interests) (comma-serperated)': \"interest\", \n",
    "                        'ความยินยอมในการใช้ข้อมูล (Consent for the use of information)': \"consent\" }, inplace=True)"
   ]
  },
  {
   "cell_type": "code",
   "execution_count": 28,
   "metadata": {},
   "outputs": [
    {
     "data": {
      "text/html": [
       "<div>\n",
       "<style scoped>\n",
       "    .dataframe tbody tr th:only-of-type {\n",
       "        vertical-align: middle;\n",
       "    }\n",
       "\n",
       "    .dataframe tbody tr th {\n",
       "        vertical-align: top;\n",
       "    }\n",
       "\n",
       "    .dataframe thead th {\n",
       "        text-align: right;\n",
       "    }\n",
       "</style>\n",
       "<table border=\"1\" class=\"dataframe\">\n",
       "  <thead>\n",
       "    <tr style=\"text-align: right;\">\n",
       "      <th></th>\n",
       "      <th>Timestamp</th>\n",
       "      <th>career</th>\n",
       "      <th>organization</th>\n",
       "      <th>food</th>\n",
       "      <th>size</th>\n",
       "      <th>interest</th>\n",
       "      <th>consent</th>\n",
       "    </tr>\n",
       "  </thead>\n",
       "  <tbody>\n",
       "    <tr>\n",
       "      <th>0</th>\n",
       "      <td>1/16/2023 19:29:00</td>\n",
       "      <td>เจ้าหน้าที่ของรัฐ</td>\n",
       "      <td>NaN</td>\n",
       "      <td>ไม่แพ้อาหารหรือความต้องการด้านอาหารอื่นๆ (Neit...</td>\n",
       "      <td>XL</td>\n",
       "      <td>Banking, Cloud Computing, Coding, Computer, Ed...</td>\n",
       "      <td>ยินยอม (Consent)</td>\n",
       "    </tr>\n",
       "    <tr>\n",
       "      <th>1</th>\n",
       "      <td>1/16/2023 19:30:03</td>\n",
       "      <td>Software Engineer</td>\n",
       "      <td>Witsawa Corporation</td>\n",
       "      <td>ไม่แพ้อาหารหรือความต้องการด้านอาหารอื่นๆ (Neit...</td>\n",
       "      <td>L</td>\n",
       "      <td>AI, Banking, Big Data, Blockchain, Cloud Compu...</td>\n",
       "      <td>ยินยอม (Consent)</td>\n",
       "    </tr>\n",
       "    <tr>\n",
       "      <th>2</th>\n",
       "      <td>1/16/2023 19:30:55</td>\n",
       "      <td>Developer</td>\n",
       "      <td>-</td>\n",
       "      <td>ไม่แพ้อาหารหรือความต้องการด้านอาหารอื่นๆ (Neit...</td>\n",
       "      <td>XL</td>\n",
       "      <td>AI, Blockchain, Cooking, Cyber Security, Food,...</td>\n",
       "      <td>ยินยอม (Consent)</td>\n",
       "    </tr>\n",
       "    <tr>\n",
       "      <th>3</th>\n",
       "      <td>1/16/2023 19:38:45</td>\n",
       "      <td>นักศึกษาปริญญาโท</td>\n",
       "      <td>จุฬาลงกรณ์มหาวิทยาลัย</td>\n",
       "      <td>ไม่แพ้อาหารหรือความต้องการด้านอาหารอื่นๆ (Neit...</td>\n",
       "      <td>L</td>\n",
       "      <td>AI, Anime, Augmented Reality, Banking, Big Dat...</td>\n",
       "      <td>ยินยอม (Consent)</td>\n",
       "    </tr>\n",
       "    <tr>\n",
       "      <th>4</th>\n",
       "      <td>1/16/2023 19:39:38</td>\n",
       "      <td>-</td>\n",
       "      <td>NaN</td>\n",
       "      <td>ไม่แพ้อาหารหรือความต้องการด้านอาหารอื่นๆ (Neit...</td>\n",
       "      <td>XL</td>\n",
       "      <td>Banking, Cooking</td>\n",
       "      <td>ยินยอม (Consent)</td>\n",
       "    </tr>\n",
       "  </tbody>\n",
       "</table>\n",
       "</div>"
      ],
      "text/plain": [
       "            Timestamp              career           organization  \\\n",
       "0  1/16/2023 19:29:00   เจ้าหน้าที่ของรัฐ                    NaN   \n",
       "1  1/16/2023 19:30:03  Software Engineer     Witsawa Corporation   \n",
       "2  1/16/2023 19:30:55          Developer                       -   \n",
       "3  1/16/2023 19:38:45    นักศึกษาปริญญาโท  จุฬาลงกรณ์มหาวิทยาลัย   \n",
       "4  1/16/2023 19:39:38                   -                    NaN   \n",
       "\n",
       "                                                food size  \\\n",
       "0  ไม่แพ้อาหารหรือความต้องการด้านอาหารอื่นๆ (Neit...   XL   \n",
       "1  ไม่แพ้อาหารหรือความต้องการด้านอาหารอื่นๆ (Neit...    L   \n",
       "2  ไม่แพ้อาหารหรือความต้องการด้านอาหารอื่นๆ (Neit...   XL   \n",
       "3  ไม่แพ้อาหารหรือความต้องการด้านอาหารอื่นๆ (Neit...    L   \n",
       "4  ไม่แพ้อาหารหรือความต้องการด้านอาหารอื่นๆ (Neit...   XL   \n",
       "\n",
       "                                            interest           consent  \n",
       "0  Banking, Cloud Computing, Coding, Computer, Ed...  ยินยอม (Consent)  \n",
       "1  AI, Banking, Big Data, Blockchain, Cloud Compu...  ยินยอม (Consent)  \n",
       "2  AI, Blockchain, Cooking, Cyber Security, Food,...  ยินยอม (Consent)  \n",
       "3  AI, Anime, Augmented Reality, Banking, Big Dat...  ยินยอม (Consent)  \n",
       "4                                   Banking, Cooking  ยินยอม (Consent)  "
      ]
     },
     "execution_count": 28,
     "metadata": {},
     "output_type": "execute_result"
    }
   ],
   "source": [
    "df.head()"
   ]
  },
  {
   "cell_type": "code",
   "execution_count": 30,
   "metadata": {},
   "outputs": [
    {
     "data": {
      "text/plain": [
       "count                  197\n",
       "unique                 185\n",
       "top       Banking, Cooking\n",
       "freq                     6\n",
       "Name: interest, dtype: object"
      ]
     },
     "execution_count": 30,
     "metadata": {},
     "output_type": "execute_result"
    }
   ],
   "source": [
    "df['interest'].describe()"
   ]
  }
 ],
 "metadata": {
  "kernelspec": {
   "display_name": "Python 3",
   "language": "python",
   "name": "python3"
  },
  "language_info": {
   "codemirror_mode": {
    "name": "ipython",
    "version": 3
   },
   "file_extension": ".py",
   "mimetype": "text/x-python",
   "name": "python",
   "nbconvert_exporter": "python",
   "pygments_lexer": "ipython3",
   "version": "3.8.0"
  },
  "orig_nbformat": 4,
  "vscode": {
   "interpreter": {
    "hash": "5d04d0ea025a2b5c0a405c24c3ed943d49065a11de485e353892bf0638615a3b"
   }
  }
 },
 "nbformat": 4,
 "nbformat_minor": 2
}
